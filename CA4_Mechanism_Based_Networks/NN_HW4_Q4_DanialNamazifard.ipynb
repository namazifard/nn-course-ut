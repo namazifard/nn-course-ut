{
 "cells": [
  {
   "cell_type": "code",
   "execution_count": 4,
   "metadata": {},
   "outputs": [],
   "source": [
    "import numpy as np\n",
    "import matplotlib.pyplot as plt\n",
    "from tqdm.auto import tqdm\n",
    "import seaborn as sns\n",
    "import pandas as pd\n",
    "from PIL import Image"
   ]
  },
  {
   "cell_type": "markdown",
   "metadata": {},
   "source": [
    "# a)"
   ]
  },
  {
   "cell_type": "code",
   "execution_count": 23,
   "metadata": {},
   "outputs": [
    {
     "data": {
      "image/png": "[encoded data removed]",
      "text/plain": [
       "<Figure size 288x288 with 4 Axes>"
      ]
     },
     "metadata": {},
     "output_type": "display_data"
    }
   ],
   "source": [
    "exemplars = np.array([\n",
    "    [+1, -1, +1,\n",
    "     -1, +1, -1,\n",
    "     -1, +1, -1,\n",
    "     +1, -1, +1,],\n",
    "    [+1, -1, +1,\n",
    "     -1, +1, -1,\n",
    "     -1, +1, -1,\n",
    "     -1, +1, -1,],\n",
    "    [-1, +1, -1,\n",
    "     +1, -1, +1,\n",
    "     +1, +1, +1,\n",
    "     +1, -1, +1,],\n",
    "    [-1, +1, +1,\n",
    "     +1, -1, -1,\n",
    "     +1, -1, -1,\n",
    "     -1, +1, +1,],\n",
    "])\n",
    "\n",
    "def draw(image):\n",
    "    image = (image.reshape(4, 3) * -1 + 1) * 127\n",
    "    img = Image.fromarray(image)\n",
    "    plt.imshow(img)\n",
    "\n",
    "plt.figure(figsize=(4, 4))\n",
    "for i in range(len(exemplars)):\n",
    "    plt.subplot(2, 2, i + 1)\n",
    "    plt.gca().set_title(i)\n",
    "    plt.xticks([])\n",
    "    plt.yticks([])\n",
    "    draw(exemplars[i])\n",
    "plt.show()"
   ]
  },
  {
   "cell_type": "code",
   "execution_count": 21,
   "metadata": {},
   "outputs": [
    {
     "name": "stdout",
     "output_type": "stream",
     "text": [
      "HammingDistance(0, 0): 0\n",
      "HammingDistance(0, 1): 3\n",
      "HammingDistance(0, 2): 8\n",
      "HammingDistance(0, 3): 8\n",
      "HammingDistance(1, 0): 3\n",
      "HammingDistance(1, 1): 0\n",
      "HammingDistance(1, 2): 11\n",
      "HammingDistance(1, 3): 7\n",
      "HammingDistance(2, 0): 8\n",
      "HammingDistance(2, 1): 11\n",
      "HammingDistance(2, 2): 0\n",
      "HammingDistance(2, 3): 6\n",
      "HammingDistance(3, 0): 8\n",
      "HammingDistance(3, 1): 7\n",
      "HammingDistance(3, 2): 6\n",
      "HammingDistance(3, 3): 0\n"
     ]
    }
   ],
   "source": [
    "def hamming_distance(a, b):\n",
    "    return (a != b).sum()\n",
    "\n",
    "for i in range(len(exemplars)):\n",
    "    for j in range(len(exemplars)):\n",
    "        print(f\"HammingDistance({i}, {j}): {hamming_distance(exemplars[i], exemplars[j])}\")"
   ]
  },
  {
   "cell_type": "markdown",
   "metadata": {},
   "source": [
    "# b+c)"
   ]
  },
  {
   "cell_type": "code",
   "execution_count": 37,
   "metadata": {},
   "outputs": [],
   "source": [
    "x_test = np.array(\n",
    "    [+1, +1, +1,\n",
    "     -1, +1, -1,\n",
    "     -1, +1, -1,\n",
    "     -1, +1, -1,],\n",
    ")\n",
    "idx_to_letter = {0: \"X\", 1: \"Y\", 2: \"A\", 3: \"C\"}"
   ]
  },
  {
   "cell_type": "code",
   "execution_count": 39,
   "metadata": {},
   "outputs": [
    {
     "data": {
      "text/plain": [
       "'Y'"
      ]
     },
     "execution_count": 39,
     "metadata": {},
     "output_type": "execute_result"
    }
   ],
   "source": [
    "class MaxNet:\n",
    "    def __init__(self, epsilon=0.15):\n",
    "        self.epsilon = epsilon\n",
    "    \n",
    "    def f(self, x):\n",
    "        return max(0, x)\n",
    "    \n",
    "    def max(self, x):\n",
    "        a = np.array(x)\n",
    "        while (a > 0).sum() > 1:\n",
    "            a_old = a.copy()\n",
    "            for i in range(len(a)):\n",
    "                a[i] = self.f(a_old[i] - self.epsilon * np.sum(np.delete(a_old, i)))\n",
    "        return np.argmax(a), x[np.argmax(a)]\n",
    "    \n",
    "class HammingNet:\n",
    "    def __init__(self, exemplars):\n",
    "        self.weights = exemplars / 2  # [4, 12]\n",
    "        self.biases = np.ones(len(exemplars)) * len(exemplars[0]) / 2\n",
    "        \n",
    "    def best_match(self, x):\n",
    "        y = self.weights @ x\n",
    "        maxnet = MaxNet(epsilon=0.1)\n",
    "        max_i, max_v = maxnet.max(y)\n",
    "        return idx_to_letter[max_i]\n",
    "        \n",
    "        \n",
    "hamming_net = HammingNet(exemplars)\n",
    "hamming_net.best_match(x_test)"
   ]
  },
  {
   "cell_type": "code",
   "execution_count": null,
   "metadata": {},
   "outputs": [],
   "source": []
  }
 ],
 "metadata": {
  "kernelspec": {
   "display_name": "Python 3",
   "language": "python",
   "name": "python3"
  },
  "language_info": {
   "codemirror_mode": {
    "name": "ipython",
    "version": 3
   },
   "file_extension": ".py",
   "mimetype": "text/x-python",
   "name": "python",
   "nbconvert_exporter": "python",
   "pygments_lexer": "ipython3",
   "version": "3.7.3"
  }
 },
 "nbformat": 4,
 "nbformat_minor": 2
}
