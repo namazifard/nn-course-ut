{
 "cells": [
  {
   "cell_type": "code",
   "execution_count": 1,
   "metadata": {
    "pycharm": {
     "is_executing": false
    }
   },
   "outputs": [
    {
     "name": "stderr",
     "output_type": "stream",
     "text": [
      "C:\\Users\\Mohsen\\Anaconda3\\lib\\site-packages\\statsmodels\\tools\\_testing.py:19: FutureWarning: pandas.util.testing is deprecated. Use the functions in the public API at pandas.testing instead.\n",
      "  import pandas.util.testing as tm\n"
     ]
    }
   ],
   "source": [
    "from tensorflow.keras.datasets import fashion_mnist\n",
    "import numpy as np\n",
    "import matplotlib.pyplot as plt\n",
    "from tqdm.auto import tqdm\n",
    "import seaborn as sns\n",
    "import pandas as pd"
   ]
  },
  {
   "cell_type": "code",
   "execution_count": 23,
   "metadata": {},
   "outputs": [
    {
     "name": "stdout",
     "output_type": "stream",
     "text": [
      "[ 1.200  1.100  1.000  0.900  0.950  1.150]\n",
      "[ 0.435  0.320  0.205  0.090  0.148  0.377]\n",
      "[ 0.264  0.132  0.000  0.000  0.000  0.198]\n",
      "[ 0.215  0.062  0.000  0.000  0.000  0.139]\n",
      "[ 0.184  0.010  0.000  0.000  0.000  0.097]\n",
      "[ 0.168  0.000  0.000  0.000  0.000  0.068]\n",
      "[ 0.158  0.000  0.000  0.000  0.000  0.043]\n",
      "[ 0.152  0.000  0.000  0.000  0.000  0.019]\n",
      "[ 0.149  0.000  0.000  0.000  0.000  0.000]\n"
     ]
    },
    {
     "data": {
      "text/plain": [
       "(0, 1.2)"
      ]
     },
     "execution_count": 23,
     "metadata": {},
     "output_type": "execute_result"
    }
   ],
   "source": [
    "class MaxNet:\n",
    "    def __init__(self, epsilon=0.15, verbose=True):\n",
    "        self.epsilon = epsilon\n",
    "        self.verbose = verbose\n",
    "    \n",
    "    def f(self, x):\n",
    "        return max(0, x)\n",
    "    \n",
    "    def vprint(self, a):\n",
    "        if self.verbose:\n",
    "            print(a)\n",
    "    \n",
    "    def max(self, x):\n",
    "        a = np.array(x)\n",
    "        self.vprint(a)\n",
    "        while (a > 0).sum() > 1:\n",
    "            a_old = a.copy()\n",
    "            for i in range(len(a)):\n",
    "                a[i] = self.f(a_old[i] - self.epsilon * np.sum(np.delete(a_old, i)))\n",
    "            self.vprint(a)\n",
    "        return np.argmax(a), x[np.argmax(a)]\n",
    "        \n",
    "maxnet = MaxNet(epsilon=0.15)\n",
    "np.set_printoptions(formatter={'float': '{: 0.3f}'.format})\n",
    "maxnet.max(x=[1.2, 1.1, 1, 0.9, 0.95, 1.15])"
   ]
  },
  {
   "cell_type": "markdown",
   "metadata": {},
   "source": [
    "# a)"
   ]
  },
  {
   "cell_type": "code",
   "execution_count": 24,
   "metadata": {},
   "outputs": [
    {
     "name": "stdout",
     "output_type": "stream",
     "text": [
      "[ 0.000  0.500  2.000  1.900  1.950  2.150]\n",
      "[ 0.000  0.000  1.025  0.910  0.967  1.197]\n",
      "[ 0.000  0.000  0.564  0.432  0.498  0.762]\n",
      "[ 0.000  0.000  0.310  0.158  0.234  0.538]\n",
      "[ 0.000  0.000  0.171  0.000  0.083  0.433]\n",
      "[ 0.000  0.000  0.093  0.000  0.000  0.395]\n",
      "[ 0.000  0.000  0.034  0.000  0.000  0.381]\n",
      "[ 0.000  0.000  0.000  0.000  0.000  0.376]\n"
     ]
    },
    {
     "data": {
      "text/plain": [
       "(5, 1.15)"
      ]
     },
     "execution_count": 24,
     "metadata": {},
     "output_type": "execute_result"
    }
   ],
   "source": [
    "class MaxNetBeta:\n",
    "    def __init__(self, epsilon=0.15, min_value=0):\n",
    "        self.epsilon = epsilon\n",
    "        self.min_value = min_value\n",
    "    \n",
    "    def f(self, x):\n",
    "        return max(0, x)\n",
    "    \n",
    "    def max(self, x):\n",
    "        a = np.array(x) - self.min_value\n",
    "        print(a)\n",
    "        while (a > 0).sum() > 1:\n",
    "            a_old = a.copy()\n",
    "            for i in range(len(a)):\n",
    "                a[i] = self.f(a_old[i] - self.epsilon * np.sum(np.delete(a_old, i)))\n",
    "            print(a)\n",
    "        return np.argmax(a), x[np.argmax(a)]\n",
    "        \n",
    "maxnet = MaxNetBeta(epsilon=0.15, min_value = -1)\n",
    "np.set_printoptions(formatter={'float': '{: 0.3f}'.format})\n",
    "maxnet.max(x=[-1, -0.5, 1, 0.9, 0.95, 1.15])"
   ]
  },
  {
   "cell_type": "markdown",
   "metadata": {},
   "source": [
    "# b)"
   ]
  },
  {
   "cell_type": "code",
   "execution_count": 29,
   "metadata": {},
   "outputs": [
    {
     "data": {
      "text/plain": [
       "[2, 1.2, 1.15, 1.1, 1, 0.95, 0.9]"
      ]
     },
     "execution_count": 29,
     "metadata": {},
     "output_type": "execute_result"
    }
   ],
   "source": [
    "x = [1.2, 1.1, 1, 0.9, 0.95, 1.15, 2]\n",
    "sorted_x = []\n",
    "for i in range(len(x)):\n",
    "    maxnet = MaxNet(epsilon=0.15, verbose=False)\n",
    "    i, v = maxnet.max(x)\n",
    "    x.pop(i)\n",
    "    sorted_x.append(v)\n",
    "sorted_x"
   ]
  },
  {
   "cell_type": "markdown",
   "metadata": {},
   "source": [
    "# c)"
   ]
  },
  {
   "cell_type": "code",
   "execution_count": 39,
   "metadata": {},
   "outputs": [
    {
     "data": {
      "text/plain": [
       "[0.9, 0.95, 1, 1.1, 1.15, 1.2, 2]"
      ]
     },
     "execution_count": 39,
     "metadata": {},
     "output_type": "execute_result"
    }
   ],
   "source": [
    "x = [1.2, 1.1, 1, 0.9, 0.95, 1.15, 2]\n",
    "sorted_x = []\n",
    "for i in range(len(x)):\n",
    "    maxnet = MaxNet(epsilon=0.15, verbose=False)\n",
    "    i, v = maxnet.max(x)\n",
    "    x.pop(i)\n",
    "    sorted_x.insert(0, v)\n",
    "sorted_x"
   ]
  },
  {
   "cell_type": "code",
   "execution_count": null,
   "metadata": {},
   "outputs": [],
   "source": []
  }
 ],
 "metadata": {
  "kernelspec": {
   "display_name": "Python 3",
   "language": "python",
   "name": "python3"
  },
  "language_info": {
   "codemirror_mode": {
    "name": "ipython",
    "version": 3
   },
   "file_extension": ".py",
   "mimetype": "text/x-python",
   "name": "python",
   "nbconvert_exporter": "python",
   "pygments_lexer": "ipython3",
   "version": "3.7.3"
  }
 },
 "nbformat": 4,
 "nbformat_minor": 1
}
