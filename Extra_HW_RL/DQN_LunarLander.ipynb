{
  "cells": [
    {
      "cell_type": "code",
      "source": [
        "# Addd by Mohsen\n",
        "!pip install rarfile --quiet\n",
        "!pip install stable-baselines3 > /dev/null\n",
        "!pip install box2d-py > /dev/null\n",
        "!pip install gym pyvirtualdisplay > /dev/null 2>&1\n",
        "!sudo apt-get install -y xvfb python-opengl ffmpeg > /dev/null 2>&1"
      ],
      "metadata": {
        "id": "JpJvkl8Z2Dw1"
      },
      "execution_count": 1,
      "outputs": []
    },
    {
      "cell_type": "code",
      "execution_count": 2,
      "metadata": {
        "id": "B5S1SyylO8VI",
        "colab": {
          "base_uri": "https://localhost:8080/"
        },
        "outputId": "9b5c7827-f181-4324-f85d-dbc4c975393b"
      },
      "outputs": [
        {
          "output_type": "stream",
          "name": "stdout",
          "text": [
            "Looking in indexes: https://pypi.org/simple, https://us-python.pkg.dev/colab-wheels/public/simple/\n",
            "Requirement already satisfied: gym in /usr/local/lib/python3.7/dist-packages (0.21.0)\n",
            "Collecting gym\n",
            "  Downloading gym-0.24.0.tar.gz (694 kB)\n",
            "\u001b[K     |████████████████████████████████| 694 kB 7.5 MB/s \n",
            "\u001b[?25h  Installing build dependencies ... \u001b[?25l\u001b[?25hdone\n",
            "  Getting requirements to build wheel ... \u001b[?25l\u001b[?25hdone\n",
            "    Preparing wheel metadata ... \u001b[?25l\u001b[?25hdone\n",
            "Requirement already satisfied: numpy>=1.18.0 in /usr/local/lib/python3.7/dist-packages (from gym) (1.21.6)\n",
            "Requirement already satisfied: importlib-metadata>=4.8.0 in /usr/local/lib/python3.7/dist-packages (from gym) (4.11.4)\n",
            "Collecting gym-notices>=0.0.4\n",
            "  Downloading gym_notices-0.0.6-py3-none-any.whl (2.7 kB)\n",
            "Requirement already satisfied: cloudpickle>=1.2.0 in /usr/local/lib/python3.7/dist-packages (from gym) (1.3.0)\n",
            "Requirement already satisfied: typing-extensions>=3.6.4 in /usr/local/lib/python3.7/dist-packages (from importlib-metadata>=4.8.0->gym) (4.2.0)\n",
            "Requirement already satisfied: zipp>=0.5 in /usr/local/lib/python3.7/dist-packages (from importlib-metadata>=4.8.0->gym) (3.8.0)\n",
            "Building wheels for collected packages: gym\n",
            "  Building wheel for gym (PEP 517) ... \u001b[?25l\u001b[?25hdone\n",
            "  Created wheel for gym: filename=gym-0.24.0-py3-none-any.whl size=790706 sha256=a8f796366cec8941787b5fad4e4840db16a27f65531366cd75bcf7b8fd95f4ca\n",
            "  Stored in directory: /root/.cache/pip/wheels/68/7a/27/ac44ac6e4763637d0ed8d89f686465960f9837440ee880abe6\n",
            "Successfully built gym\n",
            "Installing collected packages: gym-notices, gym\n",
            "  Attempting uninstall: gym\n",
            "    Found existing installation: gym 0.21.0\n",
            "    Uninstalling gym-0.21.0:\n",
            "      Successfully uninstalled gym-0.21.0\n",
            "\u001b[31mERROR: pip's dependency resolver does not currently take into account all the packages that are installed. This behaviour is the source of the following dependency conflicts.\n",
            "stable-baselines3 1.5.0 requires gym==0.21, but you have gym 0.24.0 which is incompatible.\u001b[0m\n",
            "Successfully installed gym-0.24.0 gym-notices-0.0.6\n",
            "Looking in indexes: https://pypi.org/simple, https://us-python.pkg.dev/colab-wheels/public/simple/\n",
            "Requirement already satisfied: pyglet in /usr/local/lib/python3.7/dist-packages (1.5.0)\n",
            "Requirement already satisfied: future in /usr/local/lib/python3.7/dist-packages (from pyglet) (0.16.0)\n",
            "Looking in indexes: https://pypi.org/simple, https://us-python.pkg.dev/colab-wheels/public/simple/\n",
            "Collecting Box2D\n",
            "  Downloading Box2D-2.3.10-cp37-cp37m-manylinux1_x86_64.whl (1.3 MB)\n",
            "\u001b[K     |████████████████████████████████| 1.3 MB 9.1 MB/s \n",
            "\u001b[?25hInstalling collected packages: Box2D\n",
            "Successfully installed Box2D-2.3.10\n",
            "Looking in indexes: https://pypi.org/simple, https://us-python.pkg.dev/colab-wheels/public/simple/\n",
            "Requirement already satisfied: box2d-py in /usr/local/lib/python3.7/dist-packages (2.3.8)\n",
            "Looking in indexes: https://pypi.org/simple, https://us-python.pkg.dev/colab-wheels/public/simple/\n",
            "Requirement already satisfied: gym[Box_2D] in /usr/local/lib/python3.7/dist-packages (0.24.0)\n",
            "\u001b[33mWARNING: gym 0.24.0 does not provide the extra 'box_2d'\u001b[0m\n",
            "Requirement already satisfied: gym-notices>=0.0.4 in /usr/local/lib/python3.7/dist-packages (from gym[Box_2D]) (0.0.6)\n",
            "Requirement already satisfied: numpy>=1.18.0 in /usr/local/lib/python3.7/dist-packages (from gym[Box_2D]) (1.21.6)\n",
            "Requirement already satisfied: cloudpickle>=1.2.0 in /usr/local/lib/python3.7/dist-packages (from gym[Box_2D]) (1.3.0)\n",
            "Requirement already satisfied: importlib-metadata>=4.8.0 in /usr/local/lib/python3.7/dist-packages (from gym[Box_2D]) (4.11.4)\n",
            "Requirement already satisfied: typing-extensions>=3.6.4 in /usr/local/lib/python3.7/dist-packages (from importlib-metadata>=4.8.0->gym[Box_2D]) (4.2.0)\n",
            "Requirement already satisfied: zipp>=0.5 in /usr/local/lib/python3.7/dist-packages (from importlib-metadata>=4.8.0->gym[Box_2D]) (3.8.0)\n",
            "Looking in indexes: https://pypi.org/simple, https://us-python.pkg.dev/colab-wheels/public/simple/\n",
            "Requirement already satisfied: gym[box2d] in /usr/local/lib/python3.7/dist-packages (0.24.0)\n",
            "Requirement already satisfied: importlib-metadata>=4.8.0 in /usr/local/lib/python3.7/dist-packages (from gym[box2d]) (4.11.4)\n",
            "Requirement already satisfied: cloudpickle>=1.2.0 in /usr/local/lib/python3.7/dist-packages (from gym[box2d]) (1.3.0)\n",
            "Requirement already satisfied: gym-notices>=0.0.4 in /usr/local/lib/python3.7/dist-packages (from gym[box2d]) (0.0.6)\n",
            "Requirement already satisfied: numpy>=1.18.0 in /usr/local/lib/python3.7/dist-packages (from gym[box2d]) (1.21.6)\n",
            "Collecting box2d-py==2.3.5\n",
            "  Downloading box2d_py-2.3.5-cp37-cp37m-manylinux1_x86_64.whl (2.1 MB)\n",
            "\u001b[K     |████████████████████████████████| 2.1 MB 8.7 MB/s \n",
            "\u001b[?25hCollecting pygame==2.1.0\n",
            "  Downloading pygame-2.1.0-cp37-cp37m-manylinux_2_17_x86_64.manylinux2014_x86_64.whl (18.3 MB)\n",
            "\u001b[K     |████████████████████████████████| 18.3 MB 101 kB/s \n",
            "\u001b[?25hRequirement already satisfied: zipp>=0.5 in /usr/local/lib/python3.7/dist-packages (from importlib-metadata>=4.8.0->gym[box2d]) (3.8.0)\n",
            "Requirement already satisfied: typing-extensions>=3.6.4 in /usr/local/lib/python3.7/dist-packages (from importlib-metadata>=4.8.0->gym[box2d]) (4.2.0)\n",
            "Installing collected packages: pygame, box2d-py\n",
            "  Attempting uninstall: box2d-py\n",
            "    Found existing installation: box2d-py 2.3.8\n",
            "    Uninstalling box2d-py-2.3.8:\n",
            "      Successfully uninstalled box2d-py-2.3.8\n",
            "Successfully installed box2d-py-2.3.5 pygame-2.1.0\n"
          ]
        }
      ],
      "source": [
        "# install dependencies\n",
        "!pip3 install gym --upgrade\n",
        "!pip3 install pyglet\n",
        "!pip3 install Box2D\n",
        "!pip3 install box2d-py\n",
        "!pip3 install gym[Box_2D]\n",
        "!pip3 install gym[box2d]"
      ]
    },
    {
      "cell_type": "code",
      "execution_count": 1,
      "metadata": {
        "colab": {
          "base_uri": "https://localhost:8080/"
        },
        "id": "V5j3em8QPiXT",
        "outputId": "0256dd2c-6f3f-47eb-bdaf-354e60b9dba8",
        "pycharm": {
          "is_executing": true
        }
      },
      "outputs": [
        {
          "output_type": "execute_result",
          "data": {
            "text/plain": [
              "device(type='cuda')"
            ]
          },
          "metadata": {},
          "execution_count": 1
        }
      ],
      "source": [
        "import torch\n",
        "\n",
        "# if gpu is to be used\n",
        "device = torch.device(\"cuda\" if torch.cuda.is_available() else \"cpu\")\n",
        "device"
      ]
    },
    {
      "cell_type": "markdown",
      "metadata": {
        "id": "zKsgfLec0msE"
      },
      "source": [
        "The input state of the Lunar Lander consists of following components:\n",
        "\n",
        "  1. Horizontal Position\n",
        "  2. Vertical Position\n",
        "  3. Horizontal Velocity\n",
        "  4. Vertical Velocity\n",
        "  5. Angle\n",
        "  6. Angular Velocity\n",
        "  7. Left Leg Contact\n",
        "  8. Right Leg Contact\n",
        "\n",
        "The actions of the agents are:\n",
        "  1. Do Nothing\n",
        "  2. Fire Main Engine\n",
        "  3. Fire Left Engine\n",
        "  4. Fire Right Engine"
      ]
    },
    {
      "cell_type": "code",
      "execution_count": 2,
      "metadata": {
        "id": "AMgs5pl6Psif",
        "pycharm": {
          "is_executing": false
        },
        "colab": {
          "base_uri": "https://localhost:8080/"
        },
        "outputId": "4fbc0662-5468-4286-f06b-bb58479078e0"
      },
      "outputs": [
        {
          "output_type": "execute_result",
          "data": {
            "text/plain": [
              "(8, 4)"
            ]
          },
          "metadata": {},
          "execution_count": 2
        }
      ],
      "source": [
        "# enviroment\n",
        "import gym\n",
        "env = gym.make('LunarLander-v2')\n",
        "#TODO: find observation size: 8\n",
        "state_size = env.observation_space.shape[0] \n",
        "#TODO: find action size: 4: 0- Do nothing 1- Fire left engine 2- Fire down engine 3- Fire right engine\n",
        "action_size = env.action_space.n \n",
        "state_size, action_size"
      ]
    },
    {
      "cell_type": "code",
      "execution_count": 3,
      "metadata": {
        "id": "jPSFgqEE0msI"
      },
      "outputs": [],
      "source": [
        "# VIDEO\n",
        "import io\n",
        "import os\n",
        "import glob\n",
        "import torch\n",
        "import base64\n",
        "import stable_baselines3\n",
        "import numpy as np\n",
        "import matplotlib.pyplot as plt\n",
        "from stable_baselines3 import DQN\n",
        "from stable_baselines3.common.results_plotter import ts2xy, load_results\n",
        "from stable_baselines3.common.callbacks import EvalCallback\n",
        "from stable_baselines3.common.env_util import make_atari_env\n",
        "import gym\n",
        "from gym import spaces\n",
        "from gym.wrappers import RecordVideo\n",
        "from gym.wrappers.monitoring import video_recorder\n",
        "from IPython.display import HTML\n",
        "from IPython import display \n",
        "import glob\n",
        "from IPython.display import HTML\n",
        "from pyvirtualdisplay import Display\n",
        "from IPython import display as ipythondisplay\n",
        "\n",
        "display = Display(visible=0, size=(1400, 900))\n",
        "display.start()\n",
        "\n",
        "\"\"\"\n",
        "Utility functions to enable video recording of gym environment\n",
        "and displaying it.\n",
        "To enable video, just do \"env = wrap_env(env)\"\"\n",
        "\"\"\"\n",
        "\n",
        "def show_video():\n",
        "  mp4list = glob.glob('video/*.mp4')\n",
        "  if len(mp4list) > 0:\n",
        "    mp4 = mp4list[0]\n",
        "    video = io.open(mp4, 'r+b').read()\n",
        "    encoded = base64.b64encode(video)\n",
        "    ipythondisplay.display(HTML(data='''<video alt=\"test\" autoplay\n",
        "                loop controls style=\"height: 400px;\">\n",
        "                <source src=\"data:video/mp4;base64,{0}\" type=\"video/mp4\" />\n",
        "             </video>'''.format(encoded.decode('ascii'))))\n",
        "  else:\n",
        "    print(\"Could not find video\")"
      ]
    },
    {
      "cell_type": "code",
      "execution_count": 4,
      "metadata": {
        "id": "-cVE_4EtPyNz"
      },
      "outputs": [],
      "source": [
        "# experience replay\n",
        "import random\n",
        "from collections import namedtuple, deque\n",
        "\n",
        "Transition = namedtuple('Transition',\n",
        "                        ('state', 'action', 'next_state', 'reward', 'done'))\n",
        "\n",
        "\n",
        "class ExperienceReplay():\n",
        "    def __init__(self, capacity) -> None:\n",
        "        self.memory = deque([], maxlen=capacity)\n",
        "        \n",
        "    def store_trans(self, s, a, sp, r, done):\n",
        "        # TODO: store new transition in memory\n",
        "        transition = Transition(s, a, sp, r, done)\n",
        "        self.memory.append(transition)\n",
        "\n",
        "    def sample(self, batch_size):\n",
        "        # TODO: take RANDOM sample from memory\n",
        "        return random.sample(self.memory, batch_size)\n",
        "\n",
        "    def __len__(self):\n",
        "        return len(self.memory)"
      ]
    },
    {
      "cell_type": "code",
      "execution_count": 5,
      "metadata": {
        "id": "pUgDbqH4NWYZ"
      },
      "outputs": [],
      "source": [
        "# DQN\n",
        "import torch.nn as nn\n",
        "import torch.nn.functional as F\n",
        "\n",
        "class DeepQNetwork(nn.Module):\n",
        "    def __init__(self, state_size, action_size) -> None:\n",
        "        super(DeepQNetwork, self).__init__()\n",
        "        # TODO: define the architecture\n",
        "        # NOTE: input=observation/state, output=action\n",
        "        net_list = nn.ModuleList([\n",
        "            torch.nn.Linear(state_size, 512),\n",
        "            torch.nn.ReLU(),\n",
        "            torch.nn.LayerNorm(512),\n",
        "            torch.nn.Dropout(0.1),\n",
        "            torch.nn.Linear(512, 512),\n",
        "            torch.nn.ReLU(),\n",
        "            torch.nn.LayerNorm(512),\n",
        "            torch.nn.Dropout(0.1),\n",
        "            torch.nn.Linear(512, 512),\n",
        "            torch.nn.ReLU(),\n",
        "            torch.nn.Linear(512, action_size)       \n",
        "        ])\n",
        "        self.net = torch.nn.Sequential(*net_list).to(device)\n",
        "\n",
        "    def forward(self, x):\n",
        "        # TODO: forward propagation\n",
        "        # NOTE: use ReLu for activation function in all layers \n",
        "        # NOTE: last layer has no activation function (predict action)\n",
        "        # ReLU is created in init, no need here\n",
        "        x.to(device)\n",
        "        x = self.net(x)\n",
        "        return x"
      ]
    },
    {
      "cell_type": "markdown",
      "metadata": {
        "id": "wgMI1JCLMuaf"
      },
      "source": [
        "## DQN"
      ]
    },
    {
      "cell_type": "code",
      "execution_count": 6,
      "metadata": {
        "id": "mxLkRp2_P05m"
      },
      "outputs": [],
      "source": [
        "# DQN agent\n",
        "import numpy as np\n",
        "import torch\n",
        "import torch.nn as nn\n",
        "import torch.nn.functional as F\n",
        "import torch.optim as optim\n",
        "\n",
        "class DQNAgent():\n",
        "    # NOTE: DON'T change initial values\n",
        "    def __init__(self, state_size, action_size, batch_size,\n",
        "                 gamma=0.99, buffer_size=25000, alpha=1e-4):\n",
        "        # network parameter\n",
        "        self.state_size = state_size\n",
        "        self.action_size = action_size\n",
        "\n",
        "        # hyperparameters\n",
        "        self.batch_size = batch_size\n",
        "        self.gamma = gamma\n",
        "\n",
        "        # experience replay\n",
        "        self.experience_replay = ExperienceReplay(buffer_size)\n",
        "\n",
        "        # network\n",
        "        self.value_net = DeepQNetwork(state_size, action_size).to(device)\n",
        "\n",
        "        # optimizer\n",
        "        # TODO: create adam for optimizing network's parameter (learning rate=alpha)\n",
        "        self.optimizer = optim.Adam(self.value_net.parameters(), lr=alpha)\n",
        "\n",
        "    def take_action(self, state, eps=0.0):\n",
        "        # TODO: take action using e-greedy policy\n",
        "        # NOTE: takes action using the greedy policy with a probability of 1−𝜖 and a random action with a probability of 𝜖\n",
        "        # NOTE: \n",
        "        self.value_net.eval()\n",
        "        rand_eps = random.random()\n",
        "        if rand_eps > eps:\n",
        "            with torch.no_grad():\n",
        "                return torch.argmax(self.value_net(torch.tensor(state).to(device))).detach().cpu().numpy()\n",
        "        else:\n",
        "            return np.random.randint(0, self.action_size)\n",
        "\n",
        "    def update_params(self):\n",
        "        if len(self.experience_replay) < self.batch_size:\n",
        "            return\n",
        "        # transition batch\n",
        "        batch = Transition(*zip(*self.experience_replay.sample(self.batch_size)))\n",
        "\n",
        "        state_batch = torch.from_numpy(np.vstack(batch.state)).float().to(device)  # [8, 8]\n",
        "        action_batch = torch.tensor(np.vstack(batch.action)).long().to(device) # [8, 1]\n",
        "        next_state_batch = torch.from_numpy(np.vstack(batch.next_state)).float().to(device) # [8, 8]\n",
        "        reward_batch = torch.tensor(np.vstack(batch.reward)).float().to(device) # [8, 1]\n",
        "        done_batch = torch.tensor(np.vstack(batch.done)).to(device)\n",
        "\n",
        "        # calculate loss w.r.t DQN algorithm\n",
        "        self.value_net.train()\n",
        "        # STEP1\n",
        "        q_expected = self.value_net(state_batch).gather(1, action_batch)\n",
        "        # TODO: compute the expected Q values [y]\n",
        "        # STEP2\n",
        "        # TODO: compute Q values [Q(s_t, a)]\n",
        "        q_targets_next = self.value_net(next_state_batch).detach().max(1)[0].unsqueeze(1)\n",
        "        q_targets = reward_batch + (self.gamma * q_targets_next * (1 - done_batch*1))\n",
        "        # STEP3\n",
        "        # TODO: compute mse loss\n",
        "        loss = nn.functional.mse_loss(q_expected, q_targets)\n",
        "        # TODO: optimize the model\n",
        "        # NOTE: DON'T forget to set the gradients to zeros\n",
        "        self.optimizer.zero_grad()\n",
        "        loss.backward()\n",
        "        self.optimizer.step()\n",
        "\n",
        "    def save(self, fname):\n",
        "        # TODO: save checkpoint\n",
        "        torch.save(self.value_net, fname)\n",
        "\n",
        "    def load(self, fname, device):\n",
        "        # TODO: load checkpoint\n",
        "        self.value_net = torch.load(fname, device)"
      ]
    },
    {
      "cell_type": "code",
      "execution_count": 7,
      "metadata": {
        "id": "sqAOFUBb90wh"
      },
      "outputs": [],
      "source": [
        "# NOTE: DON'T change values\n",
        "n_episodes = 250\n",
        "eps = 1.0\n",
        "eps_decay_rate = 0.97\n",
        "eps_end = 0.01\n",
        "BATCH_SIZE = 32"
      ]
    },
    {
      "cell_type": "code",
      "execution_count": 8,
      "metadata": {
        "id": "ScM-yfC1P3md",
        "colab": {
          "base_uri": "https://localhost:8080/"
        },
        "outputId": "9b486086-341c-4028-a54d-53dc86e01beb"
      },
      "outputs": [
        {
          "output_type": "stream",
          "name": "stdout",
          "text": [
            "Episode 25\tAverage Reward: -75.33\tEpsilon: 0.47\n",
            "Episode 50\tAverage Reward: 9.78\tEpsilon: 0.22\n",
            "Episode 75\tAverage Reward: 148.94\tEpsilon: 0.10\n",
            "Episode 100\tAverage Reward: 231.13\tEpsilon: 0.05\n",
            "Episode 125\tAverage Reward: 199.42\tEpsilon: 0.02\n",
            "Episode 150\tAverage Reward: 236.35\tEpsilon: 0.01\n",
            "Episode 175\tAverage Reward: 207.80\tEpsilon: 0.01\n",
            "Episode 200\tAverage Reward: 248.65\tEpsilon: 0.01\n",
            "Episode 225\tAverage Reward: 264.41\tEpsilon: 0.01\n",
            "Episode 250\tAverage Reward: 262.38\tEpsilon: 0.01\n"
          ]
        }
      ],
      "source": [
        "# training phase\n",
        "\n",
        "# TODO: create agent\n",
        "agent = DQNAgent(state_size, action_size, batch_size=BATCH_SIZE)\n",
        "\n",
        "crs = np.zeros(n_episodes) # cummulative rewards\n",
        "crs_recent = deque(maxlen=25) # recent cummulative rewards\n",
        "\n",
        "# training loop\n",
        "for i_episode in range(1, n_episodes+1):\n",
        "    # TODO: initialize the environment and state\n",
        "    if i_episode % 50 == 0:\n",
        "        env = RecordVideo(gym.make(\"LunarLander-v2\"), f\"./DQN/batch{BATCH_SIZE}/eps{i_episode}\")\n",
        "    else:\n",
        "        env = gym.make(\"LunarLander-v2\")\n",
        "    state = env.reset()\n",
        "    done = False\n",
        "    cr = 0 # episode cummulative rewards\n",
        "    while not done:\n",
        "        env.render()\n",
        "        # TODO: select and perform an action\n",
        "        action = agent.take_action(state, eps)\n",
        "#         print(action)\n",
        "        next_state, reward, done, info = env.step(action)\n",
        "        # TODO: store transition in experience replay\n",
        "        agent.experience_replay.store_trans(state, action, next_state, reward, done)\n",
        "        # TODO: update agent\n",
        "        agent.update_params()\n",
        "        # TODO: update current state and episode cummulative rewards\n",
        "        state = next_state\n",
        "        cr += reward\n",
        "        \n",
        "    # TODO: decay epsilon\n",
        "    eps = eps * eps_decay_rate\n",
        "    eps = max(eps, eps_end)\n",
        "    # TODO: update current cummulative rewards and recent cummulative rewards\n",
        "    crs[i_episode - 1] = cr\n",
        "    crs_recent.append(cr)\n",
        "    # TODO: save agent every 50 episodes\n",
        "    if i_episode % 50 == 0:\n",
        "        agent.save(f\"q_net_batch{BATCH_SIZE}_eps{i_episode}.pt\")\n",
        "        \n",
        "    # print logs\n",
        "    print('\\rEpisode {}\\tAverage Reward: {:.2f}\\tEpsilon: {:.2f}'.format(i_episode, np.mean(crs_recent), eps), end=\"\")\n",
        "    if i_episode % 25 == 0:\n",
        "        print('\\rEpisode {}\\tAverage Reward: {:.2f}\\tEpsilon: {:.2f}'.format(i_episode, np.mean(crs_recent), eps))"
      ]
    },
    {
      "cell_type": "code",
      "execution_count": 11,
      "metadata": {
        "colab": {
          "base_uri": "https://localhost:8080/",
          "height": 760
        },
        "id": "QJbOnslW0msT",
        "outputId": "319bbf7e-64bc-42f8-ecc9-6e6c82540723"
      },
      "outputs": [
        {
          "output_type": "display_data",
          "data": {
            "text/plain": [
              "<Figure size 432x288 with 1 Axes>"
            ],
            "image/png": "[encoded data removed]"
          },
          "metadata": {
            "needs_background": "light"
          }
        },
        {
          "output_type": "stream",
          "name": "stdout",
          "text": [
            "  adding: DQN/ (stored 0%)\n",
            "  adding: DQN/batch32/ (stored 0%)\n",
            "  adding: DQN/batch32/eps50/ (stored 0%)\n",
            "  adding: DQN/batch32/eps50/rl-video-episode-0.mp4 (deflated 19%)\n",
            "  adding: DQN/batch32/eps50/rl-video-episode-0.meta.json (deflated 60%)\n",
            "  adding: DQN/batch32/eps30/ (stored 0%)\n",
            "  adding: DQN/batch32/eps30/rl-video-episode-0.mp4 (deflated 16%)\n",
            "  adding: DQN/batch32/eps30/rl-video-episode-0.meta.json (deflated 60%)\n",
            "  adding: DQN/batch32/eps20/ (stored 0%)\n",
            "  adding: DQN/batch32/eps20/rl-video-episode-0.mp4 (deflated 9%)\n",
            "  adding: DQN/batch32/eps20/rl-video-episode-0.meta.json (deflated 60%)\n",
            "  adding: DQN/batch32/eps250/ (stored 0%)\n",
            "  adding: DQN/batch32/eps250/rl-video-episode-0.mp4 (deflated 14%)\n",
            "  adding: DQN/batch32/eps250/rl-video-episode-0.meta.json (deflated 60%)\n",
            "  adding: DQN/batch32/eps10/ (stored 0%)\n",
            "  adding: DQN/batch32/eps10/rl-video-episode-0.mp4 (deflated 9%)\n",
            "  adding: DQN/batch32/eps10/rl-video-episode-0.meta.json (deflated 60%)\n",
            "  adding: DQN/batch32/eps200/ (stored 0%)\n",
            "  adding: DQN/batch32/eps200/rl-video-episode-0.mp4 (deflated 18%)\n",
            "  adding: DQN/batch32/eps200/rl-video-episode-0.meta.json (deflated 60%)\n",
            "  adding: DQN/batch32/eps100/ (stored 0%)\n",
            "  adding: DQN/batch32/eps100/rl-video-episode-0.mp4 (deflated 18%)\n",
            "  adding: DQN/batch32/eps100/rl-video-episode-0.meta.json (deflated 60%)\n",
            "  adding: DQN/batch32/eps150/ (stored 0%)\n",
            "  adding: DQN/batch32/eps150/rl-video-episode-0.mp4 (deflated 17%)\n",
            "  adding: DQN/batch32/eps150/rl-video-episode-0.meta.json (deflated 60%)\n"
          ]
        }
      ],
      "source": [
        "import matplotlib.pyplot as plt\n",
        "fig = plt.figure()\n",
        "plt.plot(np.arange(len(crs)), crs)\n",
        "plt.ylabel('Reward')\n",
        "plt.xlabel('Episode')\n",
        "plt.title(f\"DQN_batch{BATCH_SIZE}\")\n",
        "plt.savefig(f\"DQN_batch{BATCH_SIZE}.pdf\")\n",
        "plt.show()\n",
        "! zip -r DQN.zip DQN/"
      ]
    },
    {
      "cell_type": "markdown",
      "source": [
        "# Batch 64"
      ],
      "metadata": {
        "id": "aaoFs4pCCfab"
      }
    },
    {
      "cell_type": "code",
      "source": [
        "# NOTE: DON'T change values\n",
        "n_episodes = 250\n",
        "eps = 1.0\n",
        "eps_decay_rate = 0.97\n",
        "eps_end = 0.01\n",
        "BATCH_SIZE = 64"
      ],
      "metadata": {
        "id": "jOmmJgg_CkSN"
      },
      "execution_count": 13,
      "outputs": []
    },
    {
      "cell_type": "code",
      "source": [
        "# training phase\n",
        "\n",
        "# TODO: create agent\n",
        "agent = DQNAgent(state_size, action_size, batch_size=BATCH_SIZE)\n",
        "\n",
        "crs = np.zeros(n_episodes) # cummulative rewards\n",
        "crs_recent = deque(maxlen=25) # recent cummulative rewards\n",
        "\n",
        "# training loop\n",
        "for i_episode in range(1, n_episodes+1):\n",
        "    # TODO: initialize the environment and state\n",
        "    if i_episode % 50 == 0:\n",
        "        env = RecordVideo(gym.make(\"LunarLander-v2\"), f\"./DQN/batch{BATCH_SIZE}/eps{i_episode}\")\n",
        "    else:\n",
        "        env = gym.make(\"LunarLander-v2\")\n",
        "    state = env.reset()\n",
        "    done = False\n",
        "    cr = 0 # episode cummulative rewards\n",
        "    while not done:\n",
        "        env.render()\n",
        "        # TODO: select and perform an action\n",
        "        action = agent.take_action(state, eps)\n",
        "        next_state, reward, done, info = env.step(action)\n",
        "        # TODO: store transition in experience replay\n",
        "        agent.experience_replay.store_trans(state, action, next_state, reward, done)\n",
        "        # TODO: update agent\n",
        "        agent.update_params()\n",
        "        # TODO: update current state and episode cummulative rewards\n",
        "        state = next_state\n",
        "        cr += reward\n",
        "        \n",
        "    # TODO: decay epsilon\n",
        "    eps = eps * eps_decay_rate\n",
        "    eps = max(eps, eps_end)\n",
        "    # TODO: update current cummulative rewards and recent cummulative rewards\n",
        "    crs[i_episode - 1] = cr\n",
        "    crs_recent.append(cr)\n",
        "    # TODO: save agent every 50 episodes\n",
        "    if i_episode % 50 == 0:\n",
        "        agent.save(f\"q_net_batch{BATCH_SIZE}_eps{i_episode}.pt\")\n",
        "        \n",
        "    # print logs\n",
        "    print('\\rEpisode {}\\tAverage Reward: {:.2f}\\tEpsilon: {:.2f}'.format(i_episode, np.mean(crs_recent), eps), end=\"\")\n",
        "    if i_episode % 25 == 0:\n",
        "        print('\\rEpisode {}\\tAverage Reward: {:.2f}\\tEpsilon: {:.2f}'.format(i_episode, np.mean(crs_recent), eps))\n",
        "\n",
        "fig = plt.figure()\n",
        "plt.plot(np.arange(len(crs)), crs)\n",
        "plt.ylabel('Reward')\n",
        "plt.xlabel('Episode')\n",
        "plt.title(f\"DQN_batch{BATCH_SIZE}\")\n",
        "plt.savefig(f\"DQN_batch{BATCH_SIZE}.pdf\")\n",
        "plt.show()\n",
        "! zip -r DQN2.zip DQN/"
      ],
      "metadata": {
        "colab": {
          "base_uri": "https://localhost:8080/",
          "height": 1000
        },
        "id": "E-lLpFx0Cm9S",
        "outputId": "81c7d5aa-e3f6-46ea-d7ab-40109f740931"
      },
      "execution_count": 14,
      "outputs": [
        {
          "output_type": "stream",
          "name": "stdout",
          "text": [
            "Episode 25\tAverage Reward: -80.90\tEpsilon: 0.47\n",
            "Episode 50\tAverage Reward: 67.15\tEpsilon: 0.22\n",
            "Episode 75\tAverage Reward: 206.00\tEpsilon: 0.10\n",
            "Episode 100\tAverage Reward: 215.65\tEpsilon: 0.05\n",
            "Episode 125\tAverage Reward: 262.25\tEpsilon: 0.02\n",
            "Episode 150\tAverage Reward: 259.72\tEpsilon: 0.01\n",
            "Episode 175\tAverage Reward: 261.68\tEpsilon: 0.01\n",
            "Episode 200\tAverage Reward: 267.01\tEpsilon: 0.01\n",
            "Episode 225\tAverage Reward: 264.49\tEpsilon: 0.01\n",
            "Episode 250\tAverage Reward: 266.51\tEpsilon: 0.01\n"
          ]
        },
        {
          "output_type": "display_data",
          "data": {
            "text/plain": [
              "<Figure size 432x288 with 1 Axes>"
            ],
            "image/png": "[encoded data removed]"
          },
          "metadata": {
            "needs_background": "light"
          }
        },
        {
          "output_type": "stream",
          "name": "stdout",
          "text": [
            "  adding: DQN/ (stored 0%)\n",
            "  adding: DQN/batch32/ (stored 0%)\n",
            "  adding: DQN/batch32/eps50/ (stored 0%)\n",
            "  adding: DQN/batch32/eps50/rl-video-episode-0.mp4 (deflated 19%)\n",
            "  adding: DQN/batch32/eps50/rl-video-episode-0.meta.json (deflated 60%)\n",
            "  adding: DQN/batch32/eps30/ (stored 0%)\n",
            "  adding: DQN/batch32/eps30/rl-video-episode-0.mp4 (deflated 16%)\n",
            "  adding: DQN/batch32/eps30/rl-video-episode-0.meta.json (deflated 60%)\n",
            "  adding: DQN/batch32/eps20/ (stored 0%)\n",
            "  adding: DQN/batch32/eps20/rl-video-episode-0.mp4 (deflated 9%)\n",
            "  adding: DQN/batch32/eps20/rl-video-episode-0.meta.json (deflated 60%)\n",
            "  adding: DQN/batch32/eps250/ (stored 0%)\n",
            "  adding: DQN/batch32/eps250/rl-video-episode-0.mp4 (deflated 14%)\n",
            "  adding: DQN/batch32/eps250/rl-video-episode-0.meta.json (deflated 60%)\n",
            "  adding: DQN/batch32/eps10/ (stored 0%)\n",
            "  adding: DQN/batch32/eps10/rl-video-episode-0.mp4 (deflated 9%)\n",
            "  adding: DQN/batch32/eps10/rl-video-episode-0.meta.json (deflated 60%)\n",
            "  adding: DQN/batch32/eps200/ (stored 0%)\n",
            "  adding: DQN/batch32/eps200/rl-video-episode-0.mp4 (deflated 18%)\n",
            "  adding: DQN/batch32/eps200/rl-video-episode-0.meta.json (deflated 60%)\n",
            "  adding: DQN/batch32/eps100/ (stored 0%)\n",
            "  adding: DQN/batch32/eps100/rl-video-episode-0.mp4 (deflated 18%)\n",
            "  adding: DQN/batch32/eps100/rl-video-episode-0.meta.json (deflated 60%)\n",
            "  adding: DQN/batch32/eps150/ (stored 0%)\n",
            "  adding: DQN/batch32/eps150/rl-video-episode-0.mp4 (deflated 17%)\n",
            "  adding: DQN/batch32/eps150/rl-video-episode-0.meta.json (deflated 60%)\n",
            "  adding: DQN/batch64/ (stored 0%)\n",
            "  adding: DQN/batch64/eps50/ (stored 0%)\n",
            "  adding: DQN/batch64/eps50/rl-video-episode-0.mp4 (deflated 18%)\n",
            "  adding: DQN/batch64/eps50/rl-video-episode-0.meta.json (deflated 60%)\n",
            "  adding: DQN/batch64/eps250/ (stored 0%)\n",
            "  adding: DQN/batch64/eps250/rl-video-episode-0.mp4 (deflated 18%)\n",
            "  adding: DQN/batch64/eps250/rl-video-episode-0.meta.json (deflated 60%)\n",
            "  adding: DQN/batch64/eps200/ (stored 0%)\n",
            "  adding: DQN/batch64/eps200/rl-video-episode-0.mp4 (deflated 17%)\n",
            "  adding: DQN/batch64/eps200/rl-video-episode-0.meta.json (deflated 60%)\n",
            "  adding: DQN/batch64/eps100/ (stored 0%)\n",
            "  adding: DQN/batch64/eps100/rl-video-episode-0.mp4 (deflated 12%)\n",
            "  adding: DQN/batch64/eps100/rl-video-episode-0.meta.json (deflated 60%)\n",
            "  adding: DQN/batch64/eps150/ (stored 0%)\n",
            "  adding: DQN/batch64/eps150/rl-video-episode-0.mp4 (deflated 16%)\n",
            "  adding: DQN/batch64/eps150/rl-video-episode-0.meta.json (deflated 60%)\n"
          ]
        }
      ]
    },
    {
      "cell_type": "markdown",
      "source": [
        "# BATCH 128"
      ],
      "metadata": {
        "id": "4b1Jry91HTNE"
      }
    },
    {
      "cell_type": "code",
      "source": [
        "# NOTE: DON'T change values\n",
        "n_episodes = 250\n",
        "eps = 1.0\n",
        "eps_decay_rate = 0.97\n",
        "eps_end = 0.01\n",
        "BATCH_SIZE = 128"
      ],
      "metadata": {
        "id": "2ShseY26HVJp"
      },
      "execution_count": 16,
      "outputs": []
    },
    {
      "cell_type": "code",
      "source": [
        "# training phase\n",
        "\n",
        "# TODO: create agent\n",
        "agent = DQNAgent(state_size, action_size, batch_size=BATCH_SIZE)\n",
        "\n",
        "crs = np.zeros(n_episodes) # cummulative rewards\n",
        "crs_recent = deque(maxlen=25) # recent cummulative rewards\n",
        "\n",
        "# training loop\n",
        "for i_episode in range(1, n_episodes+1):\n",
        "    # TODO: initialize the environment and state\n",
        "    if i_episode % 50 == 0:\n",
        "        env = RecordVideo(gym.make(\"LunarLander-v2\"), f\"./DQN/batch{BATCH_SIZE}/eps{i_episode}\")\n",
        "    else:\n",
        "        env = gym.make(\"LunarLander-v2\")\n",
        "    state = env.reset()\n",
        "    done = False\n",
        "    cr = 0 # episode cummulative rewards\n",
        "    while not done:\n",
        "        env.render()\n",
        "        # TODO: select and perform an action\n",
        "        action = agent.take_action(state, eps)\n",
        "        next_state, reward, done, info = env.step(action)\n",
        "        # TODO: store transition in experience replay\n",
        "        agent.experience_replay.store_trans(state, action, next_state, reward, done)\n",
        "        # TODO: update agent\n",
        "        agent.update_params()\n",
        "        # TODO: update current state and episode cummulative rewards\n",
        "        state = next_state\n",
        "        cr += reward\n",
        "        \n",
        "    # TODO: decay epsilon\n",
        "    eps = eps * eps_decay_rate\n",
        "    eps = max(eps, eps_end)\n",
        "    # TODO: update current cummulative rewards and recent cummulative rewards\n",
        "    crs[i_episode - 1] = cr\n",
        "    crs_recent.append(cr)\n",
        "    # TODO: save agent every 50 episodes\n",
        "    if i_episode % 50 == 0:\n",
        "        agent.save(f\"q_net_batch{BATCH_SIZE}_eps{i_episode}.pt\")\n",
        "        \n",
        "    # print logs\n",
        "    print('\\rEpisode {}\\tAverage Reward: {:.2f}\\tEpsilon: {:.2f}'.format(i_episode, np.mean(crs_recent), eps), end=\"\")\n",
        "    if i_episode % 25 == 0:\n",
        "        print('\\rEpisode {}\\tAverage Reward: {:.2f}\\tEpsilon: {:.2f}'.format(i_episode, np.mean(crs_recent), eps))\n",
        "\n",
        "fig = plt.figure()\n",
        "plt.plot(np.arange(len(crs)), crs)\n",
        "plt.ylabel('Reward')\n",
        "plt.xlabel('Episode')\n",
        "plt.title(f\"DQN_batch{BATCH_SIZE}\")\n",
        "plt.savefig(f\"DQN_batch{BATCH_SIZE}.pdf\")\n",
        "plt.show()\n",
        "! zip -r DQN3.zip DQN/"
      ],
      "metadata": {
        "colab": {
          "base_uri": "https://localhost:8080/",
          "height": 1000
        },
        "id": "ZkxBaA5wHWgq",
        "outputId": "21079a54-e0f2-4293-bcd6-eb62c829f895"
      },
      "execution_count": 17,
      "outputs": [
        {
          "output_type": "stream",
          "name": "stdout",
          "text": [
            "Episode 25\tAverage Reward: -106.90\tEpsilon: 0.47\n",
            "Episode 50\tAverage Reward: -62.81\tEpsilon: 0.22\n",
            "Episode 75\tAverage Reward: 135.10\tEpsilon: 0.10\n",
            "Episode 100\tAverage Reward: 236.46\tEpsilon: 0.05\n",
            "Episode 125\tAverage Reward: 241.89\tEpsilon: 0.02\n",
            "Episode 150\tAverage Reward: 262.01\tEpsilon: 0.01\n",
            "Episode 175\tAverage Reward: 265.04\tEpsilon: 0.01\n",
            "Episode 200\tAverage Reward: 258.39\tEpsilon: 0.01\n",
            "Episode 225\tAverage Reward: 265.40\tEpsilon: 0.01\n",
            "Episode 250\tAverage Reward: 257.35\tEpsilon: 0.01\n"
          ]
        },
        {
          "output_type": "display_data",
          "data": {
            "text/plain": [
              "<Figure size 432x288 with 1 Axes>"
            ],
            "image/png": "[encoded data removed]"
          },
          "metadata": {
            "needs_background": "light"
          }
        },
        {
          "output_type": "stream",
          "name": "stdout",
          "text": [
            "  adding: DQN/ (stored 0%)\n",
            "  adding: DQN/batch128/ (stored 0%)\n",
            "  adding: DQN/batch128/eps50/ (stored 0%)\n",
            "  adding: DQN/batch128/eps50/rl-video-episode-0.mp4 (deflated 13%)\n",
            "  adding: DQN/batch128/eps50/rl-video-episode-0.meta.json (deflated 60%)\n",
            "  adding: DQN/batch128/eps250/ (stored 0%)\n",
            "  adding: DQN/batch128/eps250/rl-video-episode-0.mp4 (deflated 17%)\n",
            "  adding: DQN/batch128/eps250/rl-video-episode-0.meta.json (deflated 60%)\n",
            "  adding: DQN/batch128/eps200/ (stored 0%)\n",
            "  adding: DQN/batch128/eps200/rl-video-episode-0.mp4 (deflated 15%)\n",
            "  adding: DQN/batch128/eps200/rl-video-episode-0.meta.json (deflated 60%)\n",
            "  adding: DQN/batch128/eps100/ (stored 0%)\n",
            "  adding: DQN/batch128/eps100/rl-video-episode-0.mp4 (deflated 15%)\n",
            "  adding: DQN/batch128/eps100/rl-video-episode-0.meta.json (deflated 60%)\n",
            "  adding: DQN/batch128/eps150/ (stored 0%)\n",
            "  adding: DQN/batch128/eps150/rl-video-episode-0.mp4 (deflated 16%)\n",
            "  adding: DQN/batch128/eps150/rl-video-episode-0.meta.json (deflated 60%)\n",
            "  adding: DQN/batch32/ (stored 0%)\n",
            "  adding: DQN/batch32/eps50/ (stored 0%)\n",
            "  adding: DQN/batch32/eps50/rl-video-episode-0.mp4 (deflated 19%)\n",
            "  adding: DQN/batch32/eps50/rl-video-episode-0.meta.json (deflated 60%)\n",
            "  adding: DQN/batch32/eps30/ (stored 0%)\n",
            "  adding: DQN/batch32/eps30/rl-video-episode-0.mp4 (deflated 16%)\n",
            "  adding: DQN/batch32/eps30/rl-video-episode-0.meta.json (deflated 60%)\n",
            "  adding: DQN/batch32/eps20/ (stored 0%)\n",
            "  adding: DQN/batch32/eps20/rl-video-episode-0.mp4 (deflated 9%)\n",
            "  adding: DQN/batch32/eps20/rl-video-episode-0.meta.json (deflated 60%)\n",
            "  adding: DQN/batch32/eps250/ (stored 0%)\n",
            "  adding: DQN/batch32/eps250/rl-video-episode-0.mp4 (deflated 14%)\n",
            "  adding: DQN/batch32/eps250/rl-video-episode-0.meta.json (deflated 60%)\n",
            "  adding: DQN/batch32/eps10/ (stored 0%)\n",
            "  adding: DQN/batch32/eps10/rl-video-episode-0.mp4 (deflated 9%)\n",
            "  adding: DQN/batch32/eps10/rl-video-episode-0.meta.json (deflated 60%)\n",
            "  adding: DQN/batch32/eps200/ (stored 0%)\n",
            "  adding: DQN/batch32/eps200/rl-video-episode-0.mp4 (deflated 18%)\n",
            "  adding: DQN/batch32/eps200/rl-video-episode-0.meta.json (deflated 60%)\n",
            "  adding: DQN/batch32/eps100/ (stored 0%)\n",
            "  adding: DQN/batch32/eps100/rl-video-episode-0.mp4 (deflated 18%)\n",
            "  adding: DQN/batch32/eps100/rl-video-episode-0.meta.json (deflated 60%)\n",
            "  adding: DQN/batch32/eps150/ (stored 0%)\n",
            "  adding: DQN/batch32/eps150/rl-video-episode-0.mp4 (deflated 17%)\n",
            "  adding: DQN/batch32/eps150/rl-video-episode-0.meta.json (deflated 60%)\n",
            "  adding: DQN/batch64/ (stored 0%)\n",
            "  adding: DQN/batch64/eps50/ (stored 0%)\n",
            "  adding: DQN/batch64/eps50/rl-video-episode-0.mp4 (deflated 18%)\n",
            "  adding: DQN/batch64/eps50/rl-video-episode-0.meta.json (deflated 60%)\n",
            "  adding: DQN/batch64/eps250/ (stored 0%)\n",
            "  adding: DQN/batch64/eps250/rl-video-episode-0.mp4 (deflated 18%)\n",
            "  adding: DQN/batch64/eps250/rl-video-episode-0.meta.json (deflated 60%)\n",
            "  adding: DQN/batch64/eps200/ (stored 0%)\n",
            "  adding: DQN/batch64/eps200/rl-video-episode-0.mp4 (deflated 17%)\n",
            "  adding: DQN/batch64/eps200/rl-video-episode-0.meta.json (deflated 60%)\n",
            "  adding: DQN/batch64/eps100/ (stored 0%)\n",
            "  adding: DQN/batch64/eps100/rl-video-episode-0.mp4 (deflated 12%)\n",
            "  adding: DQN/batch64/eps100/rl-video-episode-0.meta.json (deflated 60%)\n",
            "  adding: DQN/batch64/eps150/ (stored 0%)\n",
            "  adding: DQN/batch64/eps150/rl-video-episode-0.mp4 (deflated 16%)\n",
            "  adding: DQN/batch64/eps150/rl-video-episode-0.meta.json (deflated 60%)\n"
          ]
        }
      ]
    },
    {
      "cell_type": "markdown",
      "metadata": {
        "id": "3lXfgBFOMx0G"
      },
      "source": [
        "## DDQN"
      ]
    },
    {
      "cell_type": "code",
      "execution_count": 24,
      "metadata": {
        "id": "ifTBKlEigZEu"
      },
      "outputs": [],
      "source": [
        "import numpy as np\n",
        "import torch\n",
        "import torch.nn as nn\n",
        "import torch.nn.functional as F\n",
        "import torch.optim as optim\n",
        "import copy\n",
        "\n",
        "class DDQNAgent():\n",
        "    # NOTE: DON'T change initial values\n",
        "    def __init__(self, state_size, action_size, batch_size,\n",
        "                 gamma=0.99, buffer_size=25000, alpha=1e-4):\n",
        "        # network parameter\n",
        "        self.state_size = state_size\n",
        "        self.action_size = action_size\n",
        "\n",
        "        # hyperparameters\n",
        "        self.batch_size = batch_size\n",
        "        self.gamma = gamma\n",
        "\n",
        "        # experience replay\n",
        "        self.experience_buffer = ExperienceReplay(buffer_size)\n",
        "\n",
        "        # networks\n",
        "        self.value_net = DeepQNetwork(state_size, action_size).to(device)\n",
        "        self.target_value_net = DeepQNetwork(state_size, action_size).to(device)\n",
        "        self.update_target_network()\n",
        "\n",
        "        # optimizer\n",
        "        # TODO: create adam for optimizing network's parameter (learning rate=alpha)\n",
        "        # NOTE: target network parameters DOSEN'T update with optimizer\n",
        "        self.optimizer = optim.Adam(self.value_net.parameters(), lr=alpha)\n",
        "\n",
        "    def take_action(self, state, eps=0.0):\n",
        "        # TODO: take action using e-greedy policy\n",
        "        # NOTE: takes action using the greedy policy with a probability of 1−𝜖 and a random action with a probability of 𝜖\n",
        "        # NOTE: \n",
        "        self.value_net.eval()\n",
        "        rand_eps = random.random()\n",
        "        if rand_eps > eps:\n",
        "            with torch.no_grad():\n",
        "                return torch.argmax(self.value_net(torch.tensor(state).to(device))).detach().cpu().numpy()\n",
        "        else:\n",
        "            return np.random.randint(0, self.action_size)\n",
        "\n",
        "    def update_params(self):\n",
        "        if len(self.experience_buffer) < self.batch_size:\n",
        "            return\n",
        "        # transition batch\n",
        "        batch = Transition(*zip(*self.experience_buffer.sample(self.batch_size)))\n",
        "\n",
        "        state_batch = torch.from_numpy(np.vstack(batch.state)).float().to(device)\n",
        "        action_batch = torch.tensor(np.vstack(batch.action)).long().to(device)\n",
        "        next_state_batch = torch.from_numpy(np.vstack(batch.next_state)).float().to(device)\n",
        "        reward_batch = torch.tensor(np.vstack(batch.reward)).float().to(device)\n",
        "        done_batch = torch.tensor(np.vstack(batch.done)).to(device)\n",
        "\n",
        "        # calculate loss w.r.t DQN algorithm\n",
        "        self.value_net.train()\n",
        "        # STEP1\n",
        "        q_targets_next = self.target_value_net(next_state_batch).detach().max(1)[0].unsqueeze(1)\n",
        "        # STEP2\n",
        "        # TODO: compute Q values [Q(s_t, a)]\n",
        "        q_targets = reward_batch + self.gamma * q_targets_next * (1 - done_batch*1)\n",
        "        q_expected = self.value_net(state_batch).gather(1, action_batch)\n",
        "        # STEP3\n",
        "        # TODO: compute mse loss\n",
        "        loss = nn.functional.mse_loss(q_expected, q_targets)\n",
        "        # TODO: optimize the model\n",
        "        # NOTE: DON'T forget to set the gradients to zeros\n",
        "        self.optimizer.zero_grad()\n",
        "        loss.backward()\n",
        "        self.optimizer.step()\n",
        "\n",
        "    def update_target_network(self):\n",
        "        # TODO: copy main network parameters to target network parameters\n",
        "        self.target_value_net = copy.deepcopy(self.value_net)\n",
        "\n",
        "    def save(self, fname):\n",
        "        # TODO: save checkpoint\n",
        "        torch.save(self.value_net, fname)\n",
        "\n",
        "    def load(self, fname, device):\n",
        "        # TODO: load checkpoint\n",
        "        self.value_net = torch.load(fname, device)"
      ]
    },
    {
      "cell_type": "code",
      "source": [
        "# NOTE: DON'T change values\n",
        "n_episodes = 250\n",
        "eps = 1.0\n",
        "eps_decay_rate = 0.97\n",
        "eps_end = 0.01\n",
        "BATCH_SIZE = 64"
      ],
      "metadata": {
        "id": "5Lf8CtwvS1Bv"
      },
      "execution_count": 25,
      "outputs": []
    },
    {
      "cell_type": "code",
      "execution_count": 27,
      "metadata": {
        "id": "hnSaedlKjnQe",
        "colab": {
          "base_uri": "https://localhost:8080/"
        },
        "outputId": "d5e87cc9-4226-45b9-a291-6eaeff40b0be"
      },
      "outputs": [
        {
          "output_type": "stream",
          "name": "stdout",
          "text": [
            "Episode 25\tAverage Reward: -59.39\tEpsilon: 0.47\n",
            "Episode 50\tAverage Reward: 59.12\tEpsilon: 0.22\n",
            "Episode 75\tAverage Reward: 142.09\tEpsilon: 0.10\n",
            "Episode 100\tAverage Reward: 228.12\tEpsilon: 0.05\n",
            "Episode 125\tAverage Reward: 225.84\tEpsilon: 0.02\n",
            "Episode 150\tAverage Reward: 250.73\tEpsilon: 0.01\n",
            "Episode 175\tAverage Reward: 253.84\tEpsilon: 0.01\n",
            "Episode 200\tAverage Reward: 264.92\tEpsilon: 0.01\n",
            "Episode 225\tAverage Reward: 259.71\tEpsilon: 0.01\n",
            "Episode 250\tAverage Reward: 268.91\tEpsilon: 0.01\n"
          ]
        }
      ],
      "source": [
        "# training phase\n",
        "\n",
        "# TODO: create agent\n",
        "agent = DDQNAgent(state_size, action_size, batch_size=BATCH_SIZE)\n",
        "\n",
        "crs = np.zeros(n_episodes) # cummulative rewards\n",
        "crs_recent = deque(maxlen=25) # recent cummulative rewards\n",
        "\n",
        "# training loop\n",
        "for i_episode in range(1, n_episodes+1):\n",
        "    # TODO: initialize the environment and state\n",
        "    if i_episode % 50 == 0:\n",
        "        env = RecordVideo(gym.make(\"LunarLander-v2\"), f\"./DDQN/batch{BATCH_SIZE}/eps{i_episode}\")\n",
        "    else:\n",
        "        env = gym.make(\"LunarLander-v2\")\n",
        "    state = env.reset()\n",
        "    done = False\n",
        "    cr = 0 # episode cummulative rewards\n",
        "    action_count = 0\n",
        "    while not done:\n",
        "        env.render()\n",
        "        # TODO: select and perform an action\n",
        "        action = agent.take_action(state, eps)\n",
        "        next_state, reward, done, info = env.step(action)\n",
        "        # TODO: store transition in experience replay\n",
        "        agent.experience_buffer.store_trans(state, action, next_state, reward, done)\n",
        "        # TODO: update agent\n",
        "        agent.update_params()\n",
        "        # TODO: update current state and episode cummulative rewards\n",
        "        state = next_state\n",
        "        cr += reward\n",
        "        action_count += 1\n",
        "        if action_count % 5 == 0:\n",
        "            agent.update_target_network()\n",
        "\n",
        "    # TODO: decay epsilon\n",
        "    eps = eps * eps_decay_rate\n",
        "    eps = max(eps, eps_end)\n",
        "\n",
        "    # TODO: update current cummulative rewards and recent cummulative rewards\n",
        "    crs[i_episode - 1] = cr\n",
        "    crs_recent.append(cr)\n",
        "\n",
        "    # TODO: save agent every 50 episodes\n",
        "    if i_episode % 50 == 0:\n",
        "        agent.save(f\"q_net_batch{BATCH_SIZE}_eps{i_episode}.pt\")\n",
        "\n",
        "    # print logs\n",
        "    print('\\rEpisode {}\\tAverage Reward: {:.2f}\\tEpsilon: {:.2f}'.format(i_episode, np.mean(crs_recent), eps), end=\"\")\n",
        "    if i_episode % 25 == 0:\n",
        "        print('\\rEpisode {}\\tAverage Reward: {:.2f}\\tEpsilon: {:.2f}'.format(i_episode, np.mean(crs_recent), eps))"
      ]
    },
    {
      "cell_type": "code",
      "execution_count": 28,
      "metadata": {
        "id": "qnoK-4dpooFG",
        "colab": {
          "base_uri": "https://localhost:8080/",
          "height": 599
        },
        "outputId": "7981ce88-d0d7-49e0-ff20-fa56daabd214"
      },
      "outputs": [
        {
          "output_type": "display_data",
          "data": {
            "text/plain": [
              "<Figure size 432x288 with 1 Axes>"
            ],
            "image/png": "[encoded data removed]"
          },
          "metadata": {
            "needs_background": "light"
          }
        },
        {
          "output_type": "stream",
          "name": "stdout",
          "text": [
            "  adding: DDQN/ (stored 0%)\n",
            "  adding: DDQN/batch64/ (stored 0%)\n",
            "  adding: DDQN/batch64/eps50/ (stored 0%)\n",
            "  adding: DDQN/batch64/eps50/rl-video-episode-0.mp4 (deflated 11%)\n",
            "  adding: DDQN/batch64/eps50/rl-video-episode-0.meta.json (deflated 60%)\n",
            "  adding: DDQN/batch64/eps250/ (stored 0%)\n",
            "  adding: DDQN/batch64/eps250/rl-video-episode-0.mp4 (deflated 16%)\n",
            "  adding: DDQN/batch64/eps250/rl-video-episode-0.meta.json (deflated 60%)\n",
            "  adding: DDQN/batch64/eps200/ (stored 0%)\n",
            "  adding: DDQN/batch64/eps200/rl-video-episode-0.mp4 (deflated 17%)\n",
            "  adding: DDQN/batch64/eps200/rl-video-episode-0.meta.json (deflated 60%)\n",
            "  adding: DDQN/batch64/eps100/ (stored 0%)\n",
            "  adding: DDQN/batch64/eps100/rl-video-episode-0.mp4 (deflated 13%)\n",
            "  adding: DDQN/batch64/eps100/rl-video-episode-0.meta.json (deflated 60%)\n",
            "  adding: DDQN/batch64/eps150/ (stored 0%)\n",
            "  adding: DDQN/batch64/eps150/rl-video-episode-0.mp4 (deflated 14%)\n",
            "  adding: DDQN/batch64/eps150/rl-video-episode-0.meta.json (deflated 60%)\n"
          ]
        }
      ],
      "source": [
        "fig = plt.figure()\n",
        "plt.plot(np.arange(len(crs)), crs)\n",
        "plt.ylabel('Reward')\n",
        "plt.xlabel('Episode')\n",
        "plt.title(f\"DDQN_batch{BATCH_SIZE}\")\n",
        "plt.savefig(f\"DDQN_batch{BATCH_SIZE}.pdf\")\n",
        "plt.show()\n",
        "! zip -r DDQN3.zip DDQN/"
      ]
    },
    {
      "cell_type": "code",
      "source": [
        ""
      ],
      "metadata": {
        "id": "RuU-hAM2aACc"
      },
      "execution_count": null,
      "outputs": []
    }
  ],
  "metadata": {
    "accelerator": "GPU",
    "colab": {
      "collapsed_sections": [],
      "name": "DQN_LunarLander.ipynb",
      "provenance": []
    },
    "kernelspec": {
      "display_name": "Python 3",
      "language": "python",
      "name": "python3"
    },
    "language_info": {
      "codemirror_mode": {
        "name": "ipython",
        "version": 3
      },
      "file_extension": ".py",
      "mimetype": "text/x-python",
      "name": "python",
      "nbconvert_exporter": "python",
      "pygments_lexer": "ipython3",
      "version": "3.7.3"
    }
  },
  "nbformat": 4,
  "nbformat_minor": 0
}