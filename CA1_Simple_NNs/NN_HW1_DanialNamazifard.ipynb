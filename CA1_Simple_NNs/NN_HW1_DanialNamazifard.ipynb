{
  "nbformat": 4,
  "nbformat_minor": 0,
  "metadata": {
    "colab": {
      "name": "NN_HW1_MohsenFayyaz.ipynb",
      "provenance": [],
      "collapsed_sections": [
        "YQaLC-F5JwzY"
      ]
    },
    "kernelspec": {
      "name": "python3",
      "display_name": "Python 3"
    },
    "language_info": {
      "name": "python"
    },
    "widgets": {
      "application/vnd.jupyter.widget-state+json": {
        "a18672a1b5ef4779a397096556f33afe": {
          "model_module": "@jupyter-widgets/controls",
          "model_name": "HBoxModel",
          "model_module_version": "1.5.0",
          "state": {
            "_dom_classes": [],
            "_model_module": "@jupyter-widgets/controls",
            "_model_module_version": "1.5.0",
            "_model_name": "HBoxModel",
            "_view_count": null,
            "_view_module": "@jupyter-widgets/controls",
            "_view_module_version": "1.5.0",
            "_view_name": "HBoxView",
            "box_style": "",
            "children": [
              "IPY_MODEL_49caa7d0f27347dc8c46ea0407e28684",
              "IPY_MODEL_f78f2482bf6846249b54c74ccecd2d04",
              "IPY_MODEL_807e69acefa248dd95f599b919829140"
            ],
            "layout": "IPY_MODEL_c9f616b886b84d10abb92f63dfe4ec38"
          }
        },
        "49caa7d0f27347dc8c46ea0407e28684": {
          "model_module": "@jupyter-widgets/controls",
          "model_name": "HTMLModel",
          "model_module_version": "1.5.0",
          "state": {
            "_dom_classes": [],
            "_model_module": "@jupyter-widgets/controls",
            "_model_module_version": "1.5.0",
            "_model_name": "HTMLModel",
            "_view_count": null,
            "_view_module": "@jupyter-widgets/controls",
            "_view_module_version": "1.5.0",
            "_view_name": "HTMLView",
            "description": "",
            "description_tooltip": null,
            "layout": "IPY_MODEL_4515c8d50f1f4a73b9de148f643b710a",
            "placeholder": "​",
            "style": "IPY_MODEL_ad0daaf3e0274c6cb042d1119de750a3",
            "value": "100%"
          }
        },
        "f78f2482bf6846249b54c74ccecd2d04": {
          "model_module": "@jupyter-widgets/controls",
          "model_name": "FloatProgressModel",
          "model_module_version": "1.5.0",
          "state": {
            "_dom_classes": [],
            "_model_module": "@jupyter-widgets/controls",
            "_model_module_version": "1.5.0",
            "_model_name": "FloatProgressModel",
            "_view_count": null,
            "_view_module": "@jupyter-widgets/controls",
            "_view_module_version": "1.5.0",
            "_view_name": "ProgressView",
            "bar_style": "success",
            "description": "",
            "description_tooltip": null,
            "layout": "IPY_MODEL_92557e0d448e47fcaa35412b6fec5a1e",
            "max": 40,
            "min": 0,
            "orientation": "horizontal",
            "style": "IPY_MODEL_ecc6b3b0109b440297f428ab36fbfdcf",
            "value": 40
          }
        },
        "807e69acefa248dd95f599b919829140": {
          "model_module": "@jupyter-widgets/controls",
          "model_name": "HTMLModel",
          "model_module_version": "1.5.0",
          "state": {
            "_dom_classes": [],
            "_model_module": "@jupyter-widgets/controls",
            "_model_module_version": "1.5.0",
            "_model_name": "HTMLModel",
            "_view_count": null,
            "_view_module": "@jupyter-widgets/controls",
            "_view_module_version": "1.5.0",
            "_view_name": "HTMLView",
            "description": "",
            "description_tooltip": null,
            "layout": "IPY_MODEL_9c3ee0ef82f248ae81190e28b535444f",
            "placeholder": "​",
            "style": "IPY_MODEL_c3c4d3d3bb00411f8aff036d6d606889",
            "value": " 40/40 [00:00&lt;00:00, 140.66it/s]"
          }
        },
        "c9f616b886b84d10abb92f63dfe4ec38": {
          "model_module": "@jupyter-widgets/base",
          "model_name": "LayoutModel",
          "model_module_version": "1.2.0",
          "state": {
            "_model_module": "@jupyter-widgets/base",
            "_model_module_version": "1.2.0",
            "_model_name": "LayoutModel",
            "_view_count": null,
            "_view_module": "@jupyter-widgets/base",
            "_view_module_version": "1.2.0",
            "_view_name": "LayoutView",
            "align_content": null,
            "align_items": null,
            "align_self": null,
            "border": null,
            "bottom": null,
            "display": null,
            "flex": null,
            "flex_flow": null,
            "grid_area": null,
            "grid_auto_columns": null,
            "grid_auto_flow": null,
            "grid_auto_rows": null,
            "grid_column": null,
            "grid_gap": null,
            "grid_row": null,
            "grid_template_areas": null,
            "grid_template_columns": null,
            "grid_template_rows": null,
            "height": null,
            "justify_content": null,
            "justify_items": null,
            "left": null,
            "margin": null,
            "max_height": null,
            "max_width": null,
            "min_height": null,
            "min_width": null,
            "object_fit": null,
            "object_position": null,
            "order": null,
            "overflow": null,
            "overflow_x": null,
            "overflow_y": null,
            "padding": null,
            "right": null,
            "top": null,
            "visibility": null,
            "width": null
          }
        },
        "4515c8d50f1f4a73b9de148f643b710a": {
          "model_module": "@jupyter-widgets/base",
          "model_name": "LayoutModel",
          "model_module_version": "1.2.0",
          "state": {
            "_model_module": "@jupyter-widgets/base",
            "_model_module_version": "1.2.0",
            "_model_name": "LayoutModel",
            "_view_count": null,
            "_view_module": "@jupyter-widgets/base",
            "_view_module_version": "1.2.0",
            "_view_name": "LayoutView",
            "align_content": null,
            "align_items": null,
            "align_self": null,
            "border": null,
            "bottom": null,
            "display": null,
            "flex": null,
            "flex_flow": null,
            "grid_area": null,
            "grid_auto_columns": null,
            "grid_auto_flow": null,
            "grid_auto_rows": null,
            "grid_column": null,
            "grid_gap": null,
            "grid_row": null,
            "grid_template_areas": null,
            "grid_template_columns": null,
            "grid_template_rows": null,
            "height": null,
            "justify_content": null,
            "justify_items": null,
            "left": null,
            "margin": null,
            "max_height": null,
            "max_width": null,
            "min_height": null,
            "min_width": null,
            "object_fit": null,
            "object_position": null,
            "order": null,
            "overflow": null,
            "overflow_x": null,
            "overflow_y": null,
            "padding": null,
            "right": null,
            "top": null,
            "visibility": null,
            "width": null
          }
        },
        "ad0daaf3e0274c6cb042d1119de750a3": {
          "model_module": "@jupyter-widgets/controls",
          "model_name": "DescriptionStyleModel",
          "model_module_version": "1.5.0",
          "state": {
            "_model_module": "@jupyter-widgets/controls",
            "_model_module_version": "1.5.0",
            "_model_name": "DescriptionStyleModel",
            "_view_count": null,
            "_view_module": "@jupyter-widgets/base",
            "_view_module_version": "1.2.0",
            "_view_name": "StyleView",
            "description_width": ""
          }
        },
        "92557e0d448e47fcaa35412b6fec5a1e": {
          "model_module": "@jupyter-widgets/base",
          "model_name": "LayoutModel",
          "model_module_version": "1.2.0",
          "state": {
            "_model_module": "@jupyter-widgets/base",
            "_model_module_version": "1.2.0",
            "_model_name": "LayoutModel",
            "_view_count": null,
            "_view_module": "@jupyter-widgets/base",
            "_view_module_version": "1.2.0",
            "_view_name": "LayoutView",
            "align_content": null,
            "align_items": null,
            "align_self": null,
            "border": null,
            "bottom": null,
            "display": null,
            "flex": null,
            "flex_flow": null,
            "grid_area": null,
            "grid_auto_columns": null,
            "grid_auto_flow": null,
            "grid_auto_rows": null,
            "grid_column": null,
            "grid_gap": null,
            "grid_row": null,
            "grid_template_areas": null,
            "grid_template_columns": null,
            "grid_template_rows": null,
            "height": null,
            "justify_content": null,
            "justify_items": null,
            "left": null,
            "margin": null,
            "max_height": null,
            "max_width": null,
            "min_height": null,
            "min_width": null,
            "object_fit": null,
            "object_position": null,
            "order": null,
            "overflow": null,
            "overflow_x": null,
            "overflow_y": null,
            "padding": null,
            "right": null,
            "top": null,
            "visibility": null,
            "width": null
          }
        },
        "ecc6b3b0109b440297f428ab36fbfdcf": {
          "model_module": "@jupyter-widgets/controls",
          "model_name": "ProgressStyleModel",
          "model_module_version": "1.5.0",
          "state": {
            "_model_module": "@jupyter-widgets/controls",
            "_model_module_version": "1.5.0",
            "_model_name": "ProgressStyleModel",
            "_view_count": null,
            "_view_module": "@jupyter-widgets/base",
            "_view_module_version": "1.2.0",
            "_view_name": "StyleView",
            "bar_color": null,
            "description_width": ""
          }
        },
        "9c3ee0ef82f248ae81190e28b535444f": {
          "model_module": "@jupyter-widgets/base",
          "model_name": "LayoutModel",
          "model_module_version": "1.2.0",
          "state": {
            "_model_module": "@jupyter-widgets/base",
            "_model_module_version": "1.2.0",
            "_model_name": "LayoutModel",
            "_view_count": null,
            "_view_module": "@jupyter-widgets/base",
            "_view_module_version": "1.2.0",
            "_view_name": "LayoutView",
            "align_content": null,
            "align_items": null,
            "align_self": null,
            "border": null,
            "bottom": null,
            "display": null,
            "flex": null,
            "flex_flow": null,
            "grid_area": null,
            "grid_auto_columns": null,
            "grid_auto_flow": null,
            "grid_auto_rows": null,
            "grid_column": null,
            "grid_gap": null,
            "grid_row": null,
            "grid_template_areas": null,
            "grid_template_columns": null,
            "grid_template_rows": null,
            "height": null,
            "justify_content": null,
            "justify_items": null,
            "left": null,
            "margin": null,
            "max_height": null,
            "max_width": null,
            "min_height": null,
            "min_width": null,
            "object_fit": null,
            "object_position": null,
            "order": null,
            "overflow": null,
            "overflow_x": null,
            "overflow_y": null,
            "padding": null,
            "right": null,
            "top": null,
            "visibility": null,
            "width": null
          }
        },
        "c3c4d3d3bb00411f8aff036d6d606889": {
          "model_module": "@jupyter-widgets/controls",
          "model_name": "DescriptionStyleModel",
          "model_module_version": "1.5.0",
          "state": {
            "_model_module": "@jupyter-widgets/controls",
            "_model_module_version": "1.5.0",
            "_model_name": "DescriptionStyleModel",
            "_view_count": null,
            "_view_module": "@jupyter-widgets/base",
            "_view_module_version": "1.2.0",
            "_view_name": "StyleView",
            "description_width": ""
          }
        },
        "7d2e65eb3b1247cebacd8013850942ab": {
          "model_module": "@jupyter-widgets/controls",
          "model_name": "HBoxModel",
          "model_module_version": "1.5.0",
          "state": {
            "_dom_classes": [],
            "_model_module": "@jupyter-widgets/controls",
            "_model_module_version": "1.5.0",
            "_model_name": "HBoxModel",
            "_view_count": null,
            "_view_module": "@jupyter-widgets/controls",
            "_view_module_version": "1.5.0",
            "_view_name": "HBoxView",
            "box_style": "",
            "children": [
              "IPY_MODEL_1752b7ac7ca34ceca476a56dc6f32b34",
              "IPY_MODEL_06d18632c74742cb81f50b5a5c19a048",
              "IPY_MODEL_14869cd5781d449782b517abb2c6a4ec"
            ],
            "layout": "IPY_MODEL_13c141b471304933905eb356c889f2e5"
          }
        },
        "1752b7ac7ca34ceca476a56dc6f32b34": {
          "model_module": "@jupyter-widgets/controls",
          "model_name": "HTMLModel",
          "model_module_version": "1.5.0",
          "state": {
            "_dom_classes": [],
            "_model_module": "@jupyter-widgets/controls",
            "_model_module_version": "1.5.0",
            "_model_name": "HTMLModel",
            "_view_count": null,
            "_view_module": "@jupyter-widgets/controls",
            "_view_module_version": "1.5.0",
            "_view_name": "HTMLView",
            "description": "",
            "description_tooltip": null,
            "layout": "IPY_MODEL_4b18d9bc2a654224ac76ff8fca6a9519",
            "placeholder": "​",
            "style": "IPY_MODEL_11dbb356acde40a2ac3debbc615202b0",
            "value": "100%"
          }
        },
        "06d18632c74742cb81f50b5a5c19a048": {
          "model_module": "@jupyter-widgets/controls",
          "model_name": "FloatProgressModel",
          "model_module_version": "1.5.0",
          "state": {
            "_dom_classes": [],
            "_model_module": "@jupyter-widgets/controls",
            "_model_module_version": "1.5.0",
            "_model_name": "FloatProgressModel",
            "_view_count": null,
            "_view_module": "@jupyter-widgets/controls",
            "_view_module_version": "1.5.0",
            "_view_name": "ProgressView",
            "bar_style": "success",
            "description": "",
            "description_tooltip": null,
            "layout": "IPY_MODEL_b579244947a84239b68a23d2a35a4ed1",
            "max": 50,
            "min": 0,
            "orientation": "horizontal",
            "style": "IPY_MODEL_151e2a6591874970b08f82c06cad7d50",
            "value": 50
          }
        },
        "14869cd5781d449782b517abb2c6a4ec": {
          "model_module": "@jupyter-widgets/controls",
          "model_name": "HTMLModel",
          "model_module_version": "1.5.0",
          "state": {
            "_dom_classes": [],
            "_model_module": "@jupyter-widgets/controls",
            "_model_module_version": "1.5.0",
            "_model_name": "HTMLModel",
            "_view_count": null,
            "_view_module": "@jupyter-widgets/controls",
            "_view_module_version": "1.5.0",
            "_view_name": "HTMLView",
            "description": "",
            "description_tooltip": null,
            "layout": "IPY_MODEL_d85db8d1a6854e5ba2c836457723c47a",
            "placeholder": "​",
            "style": "IPY_MODEL_65709e13ef574e6a802006421c0cb96e",
            "value": " 50/50 [00:00&lt;00:00, 187.38it/s]"
          }
        },
        "13c141b471304933905eb356c889f2e5": {
          "model_module": "@jupyter-widgets/base",
          "model_name": "LayoutModel",
          "model_module_version": "1.2.0",
          "state": {
            "_model_module": "@jupyter-widgets/base",
            "_model_module_version": "1.2.0",
            "_model_name": "LayoutModel",
            "_view_count": null,
            "_view_module": "@jupyter-widgets/base",
            "_view_module_version": "1.2.0",
            "_view_name": "LayoutView",
            "align_content": null,
            "align_items": null,
            "align_self": null,
            "border": null,
            "bottom": null,
            "display": null,
            "flex": null,
            "flex_flow": null,
            "grid_area": null,
            "grid_auto_columns": null,
            "grid_auto_flow": null,
            "grid_auto_rows": null,
            "grid_column": null,
            "grid_gap": null,
            "grid_row": null,
            "grid_template_areas": null,
            "grid_template_columns": null,
            "grid_template_rows": null,
            "height": null,
            "justify_content": null,
            "justify_items": null,
            "left": null,
            "margin": null,
            "max_height": null,
            "max_width": null,
            "min_height": null,
            "min_width": null,
            "object_fit": null,
            "object_position": null,
            "order": null,
            "overflow": null,
            "overflow_x": null,
            "overflow_y": null,
            "padding": null,
            "right": null,
            "top": null,
            "visibility": null,
            "width": null
          }
        },
        "4b18d9bc2a654224ac76ff8fca6a9519": {
          "model_module": "@jupyter-widgets/base",
          "model_name": "LayoutModel",
          "model_module_version": "1.2.0",
          "state": {
            "_model_module": "@jupyter-widgets/base",
            "_model_module_version": "1.2.0",
            "_model_name": "LayoutModel",
            "_view_count": null,
            "_view_module": "@jupyter-widgets/base",
            "_view_module_version": "1.2.0",
            "_view_name": "LayoutView",
            "align_content": null,
            "align_items": null,
            "align_self": null,
            "border": null,
            "bottom": null,
            "display": null,
            "flex": null,
            "flex_flow": null,
            "grid_area": null,
            "grid_auto_columns": null,
            "grid_auto_flow": null,
            "grid_auto_rows": null,
            "grid_column": null,
            "grid_gap": null,
            "grid_row": null,
            "grid_template_areas": null,
            "grid_template_columns": null,
            "grid_template_rows": null,
            "height": null,
            "justify_content": null,
            "justify_items": null,
            "left": null,
            "margin": null,
            "max_height": null,
            "max_width": null,
            "min_height": null,
            "min_width": null,
            "object_fit": null,
            "object_position": null,
            "order": null,
            "overflow": null,
            "overflow_x": null,
            "overflow_y": null,
            "padding": null,
            "right": null,
            "top": null,
            "visibility": null,
            "width": null
          }
        },
        "11dbb356acde40a2ac3debbc615202b0": {
          "model_module": "@jupyter-widgets/controls",
          "model_name": "DescriptionStyleModel",
          "model_module_version": "1.5.0",
          "state": {
            "_model_module": "@jupyter-widgets/controls",
            "_model_module_version": "1.5.0",
            "_model_name": "DescriptionStyleModel",
            "_view_count": null,
            "_view_module": "@jupyter-widgets/base",
            "_view_module_version": "1.2.0",
            "_view_name": "StyleView",
            "description_width": ""
          }
        },
        "b579244947a84239b68a23d2a35a4ed1": {
          "model_module": "@jupyter-widgets/base",
          "model_name": "LayoutModel",
          "model_module_version": "1.2.0",
          "state": {
            "_model_module": "@jupyter-widgets/base",
            "_model_module_version": "1.2.0",
            "_model_name": "LayoutModel",
            "_view_count": null,
            "_view_module": "@jupyter-widgets/base",
            "_view_module_version": "1.2.0",
            "_view_name": "LayoutView",
            "align_content": null,
            "align_items": null,
            "align_self": null,
            "border": null,
            "bottom": null,
            "display": null,
            "flex": null,
            "flex_flow": null,
            "grid_area": null,
            "grid_auto_columns": null,
            "grid_auto_flow": null,
            "grid_auto_rows": null,
            "grid_column": null,
            "grid_gap": null,
            "grid_row": null,
            "grid_template_areas": null,
            "grid_template_columns": null,
            "grid_template_rows": null,
            "height": null,
            "justify_content": null,
            "justify_items": null,
            "left": null,
            "margin": null,
            "max_height": null,
            "max_width": null,
            "min_height": null,
            "min_width": null,
            "object_fit": null,
            "object_position": null,
            "order": null,
            "overflow": null,
            "overflow_x": null,
            "overflow_y": null,
            "padding": null,
            "right": null,
            "top": null,
            "visibility": null,
            "width": null
          }
        },
        "151e2a6591874970b08f82c06cad7d50": {
          "model_module": "@jupyter-widgets/controls",
          "model_name": "ProgressStyleModel",
          "model_module_version": "1.5.0",
          "state": {
            "_model_module": "@jupyter-widgets/controls",
            "_model_module_version": "1.5.0",
            "_model_name": "ProgressStyleModel",
            "_view_count": null,
            "_view_module": "@jupyter-widgets/base",
            "_view_module_version": "1.2.0",
            "_view_name": "StyleView",
            "bar_color": null,
            "description_width": ""
          }
        },
        "d85db8d1a6854e5ba2c836457723c47a": {
          "model_module": "@jupyter-widgets/base",
          "model_name": "LayoutModel",
          "model_module_version": "1.2.0",
          "state": {
            "_model_module": "@jupyter-widgets/base",
            "_model_module_version": "1.2.0",
            "_model_name": "LayoutModel",
            "_view_count": null,
            "_view_module": "@jupyter-widgets/base",
            "_view_module_version": "1.2.0",
            "_view_name": "LayoutView",
            "align_content": null,
            "align_items": null,
            "align_self": null,
            "border": null,
            "bottom": null,
            "display": null,
            "flex": null,
            "flex_flow": null,
            "grid_area": null,
            "grid_auto_columns": null,
            "grid_auto_flow": null,
            "grid_auto_rows": null,
            "grid_column": null,
            "grid_gap": null,
            "grid_row": null,
            "grid_template_areas": null,
            "grid_template_columns": null,
            "grid_template_rows": null,
            "height": null,
            "justify_content": null,
            "justify_items": null,
            "left": null,
            "margin": null,
            "max_height": null,
            "max_width": null,
            "min_height": null,
            "min_width": null,
            "object_fit": null,
            "object_position": null,
            "order": null,
            "overflow": null,
            "overflow_x": null,
            "overflow_y": null,
            "padding": null,
            "right": null,
            "top": null,
            "visibility": null,
            "width": null
          }
        },
        "65709e13ef574e6a802006421c0cb96e": {
          "model_module": "@jupyter-widgets/controls",
          "model_name": "DescriptionStyleModel",
          "model_module_version": "1.5.0",
          "state": {
            "_model_module": "@jupyter-widgets/controls",
            "_model_module_version": "1.5.0",
            "_model_name": "DescriptionStyleModel",
            "_view_count": null,
            "_view_module": "@jupyter-widgets/base",
            "_view_module_version": "1.2.0",
            "_view_name": "StyleView",
            "description_width": ""
          }
        },
        "50fc9766129c4ccebb48eb5fa112890e": {
          "model_module": "@jupyter-widgets/controls",
          "model_name": "HBoxModel",
          "model_module_version": "1.5.0",
          "state": {
            "_dom_classes": [],
            "_model_module": "@jupyter-widgets/controls",
            "_model_module_version": "1.5.0",
            "_model_name": "HBoxModel",
            "_view_count": null,
            "_view_module": "@jupyter-widgets/controls",
            "_view_module_version": "1.5.0",
            "_view_name": "HBoxView",
            "box_style": "",
            "children": [
              "IPY_MODEL_ca003bcc54db4fd0a34ead71a8749b16",
              "IPY_MODEL_a6f98c5ce15f41b3bcc96a31750fdbe1",
              "IPY_MODEL_3305f14a6fb2491a9473bbd80615f40d"
            ],
            "layout": "IPY_MODEL_d43301ba79a94b6f9ab9c7068479f7f1"
          }
        },
        "ca003bcc54db4fd0a34ead71a8749b16": {
          "model_module": "@jupyter-widgets/controls",
          "model_name": "HTMLModel",
          "model_module_version": "1.5.0",
          "state": {
            "_dom_classes": [],
            "_model_module": "@jupyter-widgets/controls",
            "_model_module_version": "1.5.0",
            "_model_name": "HTMLModel",
            "_view_count": null,
            "_view_module": "@jupyter-widgets/controls",
            "_view_module_version": "1.5.0",
            "_view_name": "HTMLView",
            "description": "",
            "description_tooltip": null,
            "layout": "IPY_MODEL_089ad86d3379411c93f3636b5b1e5f76",
            "placeholder": "​",
            "style": "IPY_MODEL_b78a096b81164f208b7434e91eb09b98",
            "value": "100%"
          }
        },
        "a6f98c5ce15f41b3bcc96a31750fdbe1": {
          "model_module": "@jupyter-widgets/controls",
          "model_name": "FloatProgressModel",
          "model_module_version": "1.5.0",
          "state": {
            "_dom_classes": [],
            "_model_module": "@jupyter-widgets/controls",
            "_model_module_version": "1.5.0",
            "_model_name": "FloatProgressModel",
            "_view_count": null,
            "_view_module": "@jupyter-widgets/controls",
            "_view_module_version": "1.5.0",
            "_view_name": "ProgressView",
            "bar_style": "success",
            "description": "",
            "description_tooltip": null,
            "layout": "IPY_MODEL_6c1fbb238a0a4803a8b8d7c1b4294ed0",
            "max": 100,
            "min": 0,
            "orientation": "horizontal",
            "style": "IPY_MODEL_1bfc289c389a4ae794c8feaae4a954d3",
            "value": 100
          }
        },
        "3305f14a6fb2491a9473bbd80615f40d": {
          "model_module": "@jupyter-widgets/controls",
          "model_name": "HTMLModel",
          "model_module_version": "1.5.0",
          "state": {
            "_dom_classes": [],
            "_model_module": "@jupyter-widgets/controls",
            "_model_module_version": "1.5.0",
            "_model_name": "HTMLModel",
            "_view_count": null,
            "_view_module": "@jupyter-widgets/controls",
            "_view_module_version": "1.5.0",
            "_view_name": "HTMLView",
            "description": "",
            "description_tooltip": null,
            "layout": "IPY_MODEL_ca1c82f5a2864a5a96d037411832c3a5",
            "placeholder": "​",
            "style": "IPY_MODEL_0b24d1f8b9224fd48ae1ee15a51142db",
            "value": " 100/100 [00:01&lt;00:00, 69.79it/s]"
          }
        },
        "d43301ba79a94b6f9ab9c7068479f7f1": {
          "model_module": "@jupyter-widgets/base",
          "model_name": "LayoutModel",
          "model_module_version": "1.2.0",
          "state": {
            "_model_module": "@jupyter-widgets/base",
            "_model_module_version": "1.2.0",
            "_model_name": "LayoutModel",
            "_view_count": null,
            "_view_module": "@jupyter-widgets/base",
            "_view_module_version": "1.2.0",
            "_view_name": "LayoutView",
            "align_content": null,
            "align_items": null,
            "align_self": null,
            "border": null,
            "bottom": null,
            "display": null,
            "flex": null,
            "flex_flow": null,
            "grid_area": null,
            "grid_auto_columns": null,
            "grid_auto_flow": null,
            "grid_auto_rows": null,
            "grid_column": null,
            "grid_gap": null,
            "grid_row": null,
            "grid_template_areas": null,
            "grid_template_columns": null,
            "grid_template_rows": null,
            "height": null,
            "justify_content": null,
            "justify_items": null,
            "left": null,
            "margin": null,
            "max_height": null,
            "max_width": null,
            "min_height": null,
            "min_width": null,
            "object_fit": null,
            "object_position": null,
            "order": null,
            "overflow": null,
            "overflow_x": null,
            "overflow_y": null,
            "padding": null,
            "right": null,
            "top": null,
            "visibility": null,
            "width": null
          }
        },
        "089ad86d3379411c93f3636b5b1e5f76": {
          "model_module": "@jupyter-widgets/base",
          "model_name": "LayoutModel",
          "model_module_version": "1.2.0",
          "state": {
            "_model_module": "@jupyter-widgets/base",
            "_model_module_version": "1.2.0",
            "_model_name": "LayoutModel",
            "_view_count": null,
            "_view_module": "@jupyter-widgets/base",
            "_view_module_version": "1.2.0",
            "_view_name": "LayoutView",
            "align_content": null,
            "align_items": null,
            "align_self": null,
            "border": null,
            "bottom": null,
            "display": null,
            "flex": null,
            "flex_flow": null,
            "grid_area": null,
            "grid_auto_columns": null,
            "grid_auto_flow": null,
            "grid_auto_rows": null,
            "grid_column": null,
            "grid_gap": null,
            "grid_row": null,
            "grid_template_areas": null,
            "grid_template_columns": null,
            "grid_template_rows": null,
            "height": null,
            "justify_content": null,
            "justify_items": null,
            "left": null,
            "margin": null,
            "max_height": null,
            "max_width": null,
            "min_height": null,
            "min_width": null,
            "object_fit": null,
            "object_position": null,
            "order": null,
            "overflow": null,
            "overflow_x": null,
            "overflow_y": null,
            "padding": null,
            "right": null,
            "top": null,
            "visibility": null,
            "width": null
          }
        },
        "b78a096b81164f208b7434e91eb09b98": {
          "model_module": "@jupyter-widgets/controls",
          "model_name": "DescriptionStyleModel",
          "model_module_version": "1.5.0",
          "state": {
            "_model_module": "@jupyter-widgets/controls",
            "_model_module_version": "1.5.0",
            "_model_name": "DescriptionStyleModel",
            "_view_count": null,
            "_view_module": "@jupyter-widgets/base",
            "_view_module_version": "1.2.0",
            "_view_name": "StyleView",
            "description_width": ""
          }
        },
        "6c1fbb238a0a4803a8b8d7c1b4294ed0": {
          "model_module": "@jupyter-widgets/base",
          "model_name": "LayoutModel",
          "model_module_version": "1.2.0",
          "state": {
            "_model_module": "@jupyter-widgets/base",
            "_model_module_version": "1.2.0",
            "_model_name": "LayoutModel",
            "_view_count": null,
            "_view_module": "@jupyter-widgets/base",
            "_view_module_version": "1.2.0",
            "_view_name": "LayoutView",
            "align_content": null,
            "align_items": null,
            "align_self": null,
            "border": null,
            "bottom": null,
            "display": null,
            "flex": null,
            "flex_flow": null,
            "grid_area": null,
            "grid_auto_columns": null,
            "grid_auto_flow": null,
            "grid_auto_rows": null,
            "grid_column": null,
            "grid_gap": null,
            "grid_row": null,
            "grid_template_areas": null,
            "grid_template_columns": null,
            "grid_template_rows": null,
            "height": null,
            "justify_content": null,
            "justify_items": null,
            "left": null,
            "margin": null,
            "max_height": null,
            "max_width": null,
            "min_height": null,
            "min_width": null,
            "object_fit": null,
            "object_position": null,
            "order": null,
            "overflow": null,
            "overflow_x": null,
            "overflow_y": null,
            "padding": null,
            "right": null,
            "top": null,
            "visibility": null,
            "width": null
          }
        },
        "1bfc289c389a4ae794c8feaae4a954d3": {
          "model_module": "@jupyter-widgets/controls",
          "model_name": "ProgressStyleModel",
          "model_module_version": "1.5.0",
          "state": {
            "_model_module": "@jupyter-widgets/controls",
            "_model_module_version": "1.5.0",
            "_model_name": "ProgressStyleModel",
            "_view_count": null,
            "_view_module": "@jupyter-widgets/base",
            "_view_module_version": "1.2.0",
            "_view_name": "StyleView",
            "bar_color": null,
            "description_width": ""
          }
        },
        "ca1c82f5a2864a5a96d037411832c3a5": {
          "model_module": "@jupyter-widgets/base",
          "model_name": "LayoutModel",
          "model_module_version": "1.2.0",
          "state": {
            "_model_module": "@jupyter-widgets/base",
            "_model_module_version": "1.2.0",
            "_model_name": "LayoutModel",
            "_view_count": null,
            "_view_module": "@jupyter-widgets/base",
            "_view_module_version": "1.2.0",
            "_view_name": "LayoutView",
            "align_content": null,
            "align_items": null,
            "align_self": null,
            "border": null,
            "bottom": null,
            "display": null,
            "flex": null,
            "flex_flow": null,
            "grid_area": null,
            "grid_auto_columns": null,
            "grid_auto_flow": null,
            "grid_auto_rows": null,
            "grid_column": null,
            "grid_gap": null,
            "grid_row": null,
            "grid_template_areas": null,
            "grid_template_columns": null,
            "grid_template_rows": null,
            "height": null,
            "justify_content": null,
            "justify_items": null,
            "left": null,
            "margin": null,
            "max_height": null,
            "max_width": null,
            "min_height": null,
            "min_width": null,
            "object_fit": null,
            "object_position": null,
            "order": null,
            "overflow": null,
            "overflow_x": null,
            "overflow_y": null,
            "padding": null,
            "right": null,
            "top": null,
            "visibility": null,
            "width": null
          }
        },
        "0b24d1f8b9224fd48ae1ee15a51142db": {
          "model_module": "@jupyter-widgets/controls",
          "model_name": "DescriptionStyleModel",
          "model_module_version": "1.5.0",
          "state": {
            "_model_module": "@jupyter-widgets/controls",
            "_model_module_version": "1.5.0",
            "_model_name": "DescriptionStyleModel",
            "_view_count": null,
            "_view_module": "@jupyter-widgets/base",
            "_view_module_version": "1.2.0",
            "_view_name": "StyleView",
            "description_width": ""
          }
        },
        "4acae053b1c141fc80303c8a8701f36a": {
          "model_module": "@jupyter-widgets/controls",
          "model_name": "HBoxModel",
          "model_module_version": "1.5.0",
          "state": {
            "_dom_classes": [],
            "_model_module": "@jupyter-widgets/controls",
            "_model_module_version": "1.5.0",
            "_model_name": "HBoxModel",
            "_view_count": null,
            "_view_module": "@jupyter-widgets/controls",
            "_view_module_version": "1.5.0",
            "_view_name": "HBoxView",
            "box_style": "",
            "children": [
              "IPY_MODEL_4740149de7474d07ab0d6048d4833082",
              "IPY_MODEL_7ad8c51881a8477cb1d7dbad69bd4f5c",
              "IPY_MODEL_c0770429096e4eb7a8a48cfafee6de91"
            ],
            "layout": "IPY_MODEL_ce730d740b104a80a4ad8882afa48c26"
          }
        },
        "4740149de7474d07ab0d6048d4833082": {
          "model_module": "@jupyter-widgets/controls",
          "model_name": "HTMLModel",
          "model_module_version": "1.5.0",
          "state": {
            "_dom_classes": [],
            "_model_module": "@jupyter-widgets/controls",
            "_model_module_version": "1.5.0",
            "_model_name": "HTMLModel",
            "_view_count": null,
            "_view_module": "@jupyter-widgets/controls",
            "_view_module_version": "1.5.0",
            "_view_name": "HTMLView",
            "description": "",
            "description_tooltip": null,
            "layout": "IPY_MODEL_637475dd53b34b748fa72125e4791cfd",
            "placeholder": "​",
            "style": "IPY_MODEL_e9b5c443fefd4cb2b8549db922b07434",
            "value": " 19%"
          }
        },
        "7ad8c51881a8477cb1d7dbad69bd4f5c": {
          "model_module": "@jupyter-widgets/controls",
          "model_name": "FloatProgressModel",
          "model_module_version": "1.5.0",
          "state": {
            "_dom_classes": [],
            "_model_module": "@jupyter-widgets/controls",
            "_model_module_version": "1.5.0",
            "_model_name": "FloatProgressModel",
            "_view_count": null,
            "_view_module": "@jupyter-widgets/controls",
            "_view_module_version": "1.5.0",
            "_view_name": "ProgressView",
            "bar_style": "danger",
            "description": "",
            "description_tooltip": null,
            "layout": "IPY_MODEL_19f5db7cce9d4218a5fc492771d5c89e",
            "max": 100,
            "min": 0,
            "orientation": "horizontal",
            "style": "IPY_MODEL_68278133320b473980c51308db45c8b5",
            "value": 19
          }
        },
        "c0770429096e4eb7a8a48cfafee6de91": {
          "model_module": "@jupyter-widgets/controls",
          "model_name": "HTMLModel",
          "model_module_version": "1.5.0",
          "state": {
            "_dom_classes": [],
            "_model_module": "@jupyter-widgets/controls",
            "_model_module_version": "1.5.0",
            "_model_name": "HTMLModel",
            "_view_count": null,
            "_view_module": "@jupyter-widgets/controls",
            "_view_module_version": "1.5.0",
            "_view_name": "HTMLView",
            "description": "",
            "description_tooltip": null,
            "layout": "IPY_MODEL_6fc095146f2f4110a0376a5eca1ce1fc",
            "placeholder": "​",
            "style": "IPY_MODEL_b81ac57b78064d83822bf4bd321cdee7",
            "value": " 19/100 [00:00&lt;00:02, 28.54it/s]"
          }
        },
        "ce730d740b104a80a4ad8882afa48c26": {
          "model_module": "@jupyter-widgets/base",
          "model_name": "LayoutModel",
          "model_module_version": "1.2.0",
          "state": {
            "_model_module": "@jupyter-widgets/base",
            "_model_module_version": "1.2.0",
            "_model_name": "LayoutModel",
            "_view_count": null,
            "_view_module": "@jupyter-widgets/base",
            "_view_module_version": "1.2.0",
            "_view_name": "LayoutView",
            "align_content": null,
            "align_items": null,
            "align_self": null,
            "border": null,
            "bottom": null,
            "display": null,
            "flex": null,
            "flex_flow": null,
            "grid_area": null,
            "grid_auto_columns": null,
            "grid_auto_flow": null,
            "grid_auto_rows": null,
            "grid_column": null,
            "grid_gap": null,
            "grid_row": null,
            "grid_template_areas": null,
            "grid_template_columns": null,
            "grid_template_rows": null,
            "height": null,
            "justify_content": null,
            "justify_items": null,
            "left": null,
            "margin": null,
            "max_height": null,
            "max_width": null,
            "min_height": null,
            "min_width": null,
            "object_fit": null,
            "object_position": null,
            "order": null,
            "overflow": null,
            "overflow_x": null,
            "overflow_y": null,
            "padding": null,
            "right": null,
            "top": null,
            "visibility": null,
            "width": null
          }
        },
        "637475dd53b34b748fa72125e4791cfd": {
          "model_module": "@jupyter-widgets/base",
          "model_name": "LayoutModel",
          "model_module_version": "1.2.0",
          "state": {
            "_model_module": "@jupyter-widgets/base",
            "_model_module_version": "1.2.0",
            "_model_name": "LayoutModel",
            "_view_count": null,
            "_view_module": "@jupyter-widgets/base",
            "_view_module_version": "1.2.0",
            "_view_name": "LayoutView",
            "align_content": null,
            "align_items": null,
            "align_self": null,
            "border": null,
            "bottom": null,
            "display": null,
            "flex": null,
            "flex_flow": null,
            "grid_area": null,
            "grid_auto_columns": null,
            "grid_auto_flow": null,
            "grid_auto_rows": null,
            "grid_column": null,
            "grid_gap": null,
            "grid_row": null,
            "grid_template_areas": null,
            "grid_template_columns": null,
            "grid_template_rows": null,
            "height": null,
            "justify_content": null,
            "justify_items": null,
            "left": null,
            "margin": null,
            "max_height": null,
            "max_width": null,
            "min_height": null,
            "min_width": null,
            "object_fit": null,
            "object_position": null,
            "order": null,
            "overflow": null,
            "overflow_x": null,
            "overflow_y": null,
            "padding": null,
            "right": null,
            "top": null,
            "visibility": null,
            "width": null
          }
        },
        "e9b5c443fefd4cb2b8549db922b07434": {
          "model_module": "@jupyter-widgets/controls",
          "model_name": "DescriptionStyleModel",
          "model_module_version": "1.5.0",
          "state": {
            "_model_module": "@jupyter-widgets/controls",
            "_model_module_version": "1.5.0",
            "_model_name": "DescriptionStyleModel",
            "_view_count": null,
            "_view_module": "@jupyter-widgets/base",
            "_view_module_version": "1.2.0",
            "_view_name": "StyleView",
            "description_width": ""
          }
        },
        "19f5db7cce9d4218a5fc492771d5c89e": {
          "model_module": "@jupyter-widgets/base",
          "model_name": "LayoutModel",
          "model_module_version": "1.2.0",
          "state": {
            "_model_module": "@jupyter-widgets/base",
            "_model_module_version": "1.2.0",
            "_model_name": "LayoutModel",
            "_view_count": null,
            "_view_module": "@jupyter-widgets/base",
            "_view_module_version": "1.2.0",
            "_view_name": "LayoutView",
            "align_content": null,
            "align_items": null,
            "align_self": null,
            "border": null,
            "bottom": null,
            "display": null,
            "flex": null,
            "flex_flow": null,
            "grid_area": null,
            "grid_auto_columns": null,
            "grid_auto_flow": null,
            "grid_auto_rows": null,
            "grid_column": null,
            "grid_gap": null,
            "grid_row": null,
            "grid_template_areas": null,
            "grid_template_columns": null,
            "grid_template_rows": null,
            "height": null,
            "justify_content": null,
            "justify_items": null,
            "left": null,
            "margin": null,
            "max_height": null,
            "max_width": null,
            "min_height": null,
            "min_width": null,
            "object_fit": null,
            "object_position": null,
            "order": null,
            "overflow": null,
            "overflow_x": null,
            "overflow_y": null,
            "padding": null,
            "right": null,
            "top": null,
            "visibility": null,
            "width": null
          }
        },
        "68278133320b473980c51308db45c8b5": {
          "model_module": "@jupyter-widgets/controls",
          "model_name": "ProgressStyleModel",
          "model_module_version": "1.5.0",
          "state": {
            "_model_module": "@jupyter-widgets/controls",
            "_model_module_version": "1.5.0",
            "_model_name": "ProgressStyleModel",
            "_view_count": null,
            "_view_module": "@jupyter-widgets/base",
            "_view_module_version": "1.2.0",
            "_view_name": "StyleView",
            "bar_color": null,
            "description_width": ""
          }
        },
        "6fc095146f2f4110a0376a5eca1ce1fc": {
          "model_module": "@jupyter-widgets/base",
          "model_name": "LayoutModel",
          "model_module_version": "1.2.0",
          "state": {
            "_model_module": "@jupyter-widgets/base",
            "_model_module_version": "1.2.0",
            "_model_name": "LayoutModel",
            "_view_count": null,
            "_view_module": "@jupyter-widgets/base",
            "_view_module_version": "1.2.0",
            "_view_name": "LayoutView",
            "align_content": null,
            "align_items": null,
            "align_self": null,
            "border": null,
            "bottom": null,
            "display": null,
            "flex": null,
            "flex_flow": null,
            "grid_area": null,
            "grid_auto_columns": null,
            "grid_auto_flow": null,
            "grid_auto_rows": null,
            "grid_column": null,
            "grid_gap": null,
            "grid_row": null,
            "grid_template_areas": null,
            "grid_template_columns": null,
            "grid_template_rows": null,
            "height": null,
            "justify_content": null,
            "justify_items": null,
            "left": null,
            "margin": null,
            "max_height": null,
            "max_width": null,
            "min_height": null,
            "min_width": null,
            "object_fit": null,
            "object_position": null,
            "order": null,
            "overflow": null,
            "overflow_x": null,
            "overflow_y": null,
            "padding": null,
            "right": null,
            "top": null,
            "visibility": null,
            "width": null
          }
        },
        "b81ac57b78064d83822bf4bd321cdee7": {
          "model_module": "@jupyter-widgets/controls",
          "model_name": "DescriptionStyleModel",
          "model_module_version": "1.5.0",
          "state": {
            "_model_module": "@jupyter-widgets/controls",
            "_model_module_version": "1.5.0",
            "_model_name": "DescriptionStyleModel",
            "_view_count": null,
            "_view_module": "@jupyter-widgets/base",
            "_view_module_version": "1.2.0",
            "_view_name": "StyleView",
            "description_width": ""
          }
        },
        "b226c934555a4ca99933a521914d9b74": {
          "model_module": "@jupyter-widgets/controls",
          "model_name": "HBoxModel",
          "model_module_version": "1.5.0",
          "state": {
            "_dom_classes": [],
            "_model_module": "@jupyter-widgets/controls",
            "_model_module_version": "1.5.0",
            "_model_name": "HBoxModel",
            "_view_count": null,
            "_view_module": "@jupyter-widgets/controls",
            "_view_module_version": "1.5.0",
            "_view_name": "HBoxView",
            "box_style": "",
            "children": [
              "IPY_MODEL_576fc5435b4a402eb1d1775e5c88711d",
              "IPY_MODEL_970d829c344f49c09cfd67e1532c6e14",
              "IPY_MODEL_27faf970a7a24322b54f064b3aa71377"
            ],
            "layout": "IPY_MODEL_752818f794a3425ba4f9a171a6d28ba1"
          }
        },
        "576fc5435b4a402eb1d1775e5c88711d": {
          "model_module": "@jupyter-widgets/controls",
          "model_name": "HTMLModel",
          "model_module_version": "1.5.0",
          "state": {
            "_dom_classes": [],
            "_model_module": "@jupyter-widgets/controls",
            "_model_module_version": "1.5.0",
            "_model_name": "HTMLModel",
            "_view_count": null,
            "_view_module": "@jupyter-widgets/controls",
            "_view_module_version": "1.5.0",
            "_view_name": "HTMLView",
            "description": "",
            "description_tooltip": null,
            "layout": "IPY_MODEL_def0ece87a0e4873838adeadc87bccdf",
            "placeholder": "​",
            "style": "IPY_MODEL_3028a824f0bf448fba335cff99d082a3",
            "value": "  8%"
          }
        },
        "970d829c344f49c09cfd67e1532c6e14": {
          "model_module": "@jupyter-widgets/controls",
          "model_name": "FloatProgressModel",
          "model_module_version": "1.5.0",
          "state": {
            "_dom_classes": [],
            "_model_module": "@jupyter-widgets/controls",
            "_model_module_version": "1.5.0",
            "_model_name": "FloatProgressModel",
            "_view_count": null,
            "_view_module": "@jupyter-widgets/controls",
            "_view_module_version": "1.5.0",
            "_view_name": "ProgressView",
            "bar_style": "danger",
            "description": "",
            "description_tooltip": null,
            "layout": "IPY_MODEL_8a5db1800099417c8f18cf231d5218cb",
            "max": 100,
            "min": 0,
            "orientation": "horizontal",
            "style": "IPY_MODEL_95ecf4dfa6654eb19d231a23f900a33e",
            "value": 8
          }
        },
        "27faf970a7a24322b54f064b3aa71377": {
          "model_module": "@jupyter-widgets/controls",
          "model_name": "HTMLModel",
          "model_module_version": "1.5.0",
          "state": {
            "_dom_classes": [],
            "_model_module": "@jupyter-widgets/controls",
            "_model_module_version": "1.5.0",
            "_model_name": "HTMLModel",
            "_view_count": null,
            "_view_module": "@jupyter-widgets/controls",
            "_view_module_version": "1.5.0",
            "_view_name": "HTMLView",
            "description": "",
            "description_tooltip": null,
            "layout": "IPY_MODEL_072bcd7c5c2a4df2b3e265e660a89999",
            "placeholder": "​",
            "style": "IPY_MODEL_694f2850eb054f668c156dd7c55b9941",
            "value": " 8/100 [00:00&lt;00:03, 29.38it/s]"
          }
        },
        "752818f794a3425ba4f9a171a6d28ba1": {
          "model_module": "@jupyter-widgets/base",
          "model_name": "LayoutModel",
          "model_module_version": "1.2.0",
          "state": {
            "_model_module": "@jupyter-widgets/base",
            "_model_module_version": "1.2.0",
            "_model_name": "LayoutModel",
            "_view_count": null,
            "_view_module": "@jupyter-widgets/base",
            "_view_module_version": "1.2.0",
            "_view_name": "LayoutView",
            "align_content": null,
            "align_items": null,
            "align_self": null,
            "border": null,
            "bottom": null,
            "display": null,
            "flex": null,
            "flex_flow": null,
            "grid_area": null,
            "grid_auto_columns": null,
            "grid_auto_flow": null,
            "grid_auto_rows": null,
            "grid_column": null,
            "grid_gap": null,
            "grid_row": null,
            "grid_template_areas": null,
            "grid_template_columns": null,
            "grid_template_rows": null,
            "height": null,
            "justify_content": null,
            "justify_items": null,
            "left": null,
            "margin": null,
            "max_height": null,
            "max_width": null,
            "min_height": null,
            "min_width": null,
            "object_fit": null,
            "object_position": null,
            "order": null,
            "overflow": null,
            "overflow_x": null,
            "overflow_y": null,
            "padding": null,
            "right": null,
            "top": null,
            "visibility": null,
            "width": null
          }
        },
        "def0ece87a0e4873838adeadc87bccdf": {
          "model_module": "@jupyter-widgets/base",
          "model_name": "LayoutModel",
          "model_module_version": "1.2.0",
          "state": {
            "_model_module": "@jupyter-widgets/base",
            "_model_module_version": "1.2.0",
            "_model_name": "LayoutModel",
            "_view_count": null,
            "_view_module": "@jupyter-widgets/base",
            "_view_module_version": "1.2.0",
            "_view_name": "LayoutView",
            "align_content": null,
            "align_items": null,
            "align_self": null,
            "border": null,
            "bottom": null,
            "display": null,
            "flex": null,
            "flex_flow": null,
            "grid_area": null,
            "grid_auto_columns": null,
            "grid_auto_flow": null,
            "grid_auto_rows": null,
            "grid_column": null,
            "grid_gap": null,
            "grid_row": null,
            "grid_template_areas": null,
            "grid_template_columns": null,
            "grid_template_rows": null,
            "height": null,
            "justify_content": null,
            "justify_items": null,
            "left": null,
            "margin": null,
            "max_height": null,
            "max_width": null,
            "min_height": null,
            "min_width": null,
            "object_fit": null,
            "object_position": null,
            "order": null,
            "overflow": null,
            "overflow_x": null,
            "overflow_y": null,
            "padding": null,
            "right": null,
            "top": null,
            "visibility": null,
            "width": null
          }
        },
        "3028a824f0bf448fba335cff99d082a3": {
          "model_module": "@jupyter-widgets/controls",
          "model_name": "DescriptionStyleModel",
          "model_module_version": "1.5.0",
          "state": {
            "_model_module": "@jupyter-widgets/controls",
            "_model_module_version": "1.5.0",
            "_model_name": "DescriptionStyleModel",
            "_view_count": null,
            "_view_module": "@jupyter-widgets/base",
            "_view_module_version": "1.2.0",
            "_view_name": "StyleView",
            "description_width": ""
          }
        },
        "8a5db1800099417c8f18cf231d5218cb": {
          "model_module": "@jupyter-widgets/base",
          "model_name": "LayoutModel",
          "model_module_version": "1.2.0",
          "state": {
            "_model_module": "@jupyter-widgets/base",
            "_model_module_version": "1.2.0",
            "_model_name": "LayoutModel",
            "_view_count": null,
            "_view_module": "@jupyter-widgets/base",
            "_view_module_version": "1.2.0",
            "_view_name": "LayoutView",
            "align_content": null,
            "align_items": null,
            "align_self": null,
            "border": null,
            "bottom": null,
            "display": null,
            "flex": null,
            "flex_flow": null,
            "grid_area": null,
            "grid_auto_columns": null,
            "grid_auto_flow": null,
            "grid_auto_rows": null,
            "grid_column": null,
            "grid_gap": null,
            "grid_row": null,
            "grid_template_areas": null,
            "grid_template_columns": null,
            "grid_template_rows": null,
            "height": null,
            "justify_content": null,
            "justify_items": null,
            "left": null,
            "margin": null,
            "max_height": null,
            "max_width": null,
            "min_height": null,
            "min_width": null,
            "object_fit": null,
            "object_position": null,
            "order": null,
            "overflow": null,
            "overflow_x": null,
            "overflow_y": null,
            "padding": null,
            "right": null,
            "top": null,
            "visibility": null,
            "width": null
          }
        },
        "95ecf4dfa6654eb19d231a23f900a33e": {
          "model_module": "@jupyter-widgets/controls",
          "model_name": "ProgressStyleModel",
          "model_module_version": "1.5.0",
          "state": {
            "_model_module": "@jupyter-widgets/controls",
            "_model_module_version": "1.5.0",
            "_model_name": "ProgressStyleModel",
            "_view_count": null,
            "_view_module": "@jupyter-widgets/base",
            "_view_module_version": "1.2.0",
            "_view_name": "StyleView",
            "bar_color": null,
            "description_width": ""
          }
        },
        "072bcd7c5c2a4df2b3e265e660a89999": {
          "model_module": "@jupyter-widgets/base",
          "model_name": "LayoutModel",
          "model_module_version": "1.2.0",
          "state": {
            "_model_module": "@jupyter-widgets/base",
            "_model_module_version": "1.2.0",
            "_model_name": "LayoutModel",
            "_view_count": null,
            "_view_module": "@jupyter-widgets/base",
            "_view_module_version": "1.2.0",
            "_view_name": "LayoutView",
            "align_content": null,
            "align_items": null,
            "align_self": null,
            "border": null,
            "bottom": null,
            "display": null,
            "flex": null,
            "flex_flow": null,
            "grid_area": null,
            "grid_auto_columns": null,
            "grid_auto_flow": null,
            "grid_auto_rows": null,
            "grid_column": null,
            "grid_gap": null,
            "grid_row": null,
            "grid_template_areas": null,
            "grid_template_columns": null,
            "grid_template_rows": null,
            "height": null,
            "justify_content": null,
            "justify_items": null,
            "left": null,
            "margin": null,
            "max_height": null,
            "max_width": null,
            "min_height": null,
            "min_width": null,
            "object_fit": null,
            "object_position": null,
            "order": null,
            "overflow": null,
            "overflow_x": null,
            "overflow_y": null,
            "padding": null,
            "right": null,
            "top": null,
            "visibility": null,
            "width": null
          }
        },
        "694f2850eb054f668c156dd7c55b9941": {
          "model_module": "@jupyter-widgets/controls",
          "model_name": "DescriptionStyleModel",
          "model_module_version": "1.5.0",
          "state": {
            "_model_module": "@jupyter-widgets/controls",
            "_model_module_version": "1.5.0",
            "_model_name": "DescriptionStyleModel",
            "_view_count": null,
            "_view_module": "@jupyter-widgets/base",
            "_view_module_version": "1.2.0",
            "_view_name": "StyleView",
            "description_width": ""
          }
        }
      }
    }
  },
  "cells": [
    {
      "cell_type": "markdown",
      "source": [
        "# 1 Mcculloch Pitts"
      ],
      "metadata": {
        "id": "YQaLC-F5JwzY"
      }
    },
    {
      "cell_type": "code",
      "execution_count": null,
      "metadata": {
        "id": "oz7aAttmJStm"
      },
      "outputs": [],
      "source": [
        "import numpy as np\n",
        "\n",
        "\n",
        "class MccullochPitts:\n",
        "    def __init__(self, pos_weight, neg_weight, excitatory_list, activation_threshold=0):\n",
        "        \"\"\"\n",
        "        A connection path is excitatory if the weight on the path is positive; other-\n",
        "        wise it is inhibitory. All excitatory connections into a particular neuron have\n",
        "        the same weights. (Laurene V. Fausett p27)\n",
        "        \"\"\"\n",
        "        self.pos_weight = pos_weight\n",
        "        self.neg_weight = neg_weight\n",
        "        self.activation_threshold = activation_threshold\n",
        "        self.excitatory_list = excitatory_list\n",
        "    \n",
        "    def activation_function(self, g):\n",
        "        \"\"\" \n",
        "        The activation of a McCulloch-Pitts neuron is binary. That is, at any time\n",
        "        step, the neuron either fires (has an activation of 1) or does not fire (has an\n",
        "        activation of 0). \n",
        "        Each neuron has a fixed threshold such that if the net input to the neuron\n",
        "        is greater than the threshold, the neuron fires.\n",
        "        (Laurene V. Fausett p26, 27)\n",
        "        \"\"\"\n",
        "        return g >= self.activation_threshold\n",
        "    \n",
        "    def forward(self, inputs: list):\n",
        "        assert(len(inputs) == len(self.excitatory_list))\n",
        "        sum = 0\n",
        "        for input, excitatory in zip(inputs, self.excitatory_list):\n",
        "            if excitatory:\n",
        "                sum += input * self.pos_weight\n",
        "            else:\n",
        "                sum += input * self.neg_weight\n",
        "        return self.activation_function(sum)"
      ]
    },
    {
      "cell_type": "code",
      "source": [
        "class AndGate(MccullochPitts):\n",
        "    def __init__(self):\n",
        "        super().__init__(pos_weight=1, neg_weight=0, \n",
        "                         excitatory_list=[1, 1], activation_threshold=2)\n",
        "        \n",
        "class OrGate(MccullochPitts):\n",
        "    def __init__(self):\n",
        "        super().__init__(pos_weight=2, neg_weight=0, \n",
        "                         excitatory_list=[1, 1], activation_threshold=2)\n",
        "        \n",
        "class XorGate():\n",
        "    def forward(self, inputs: list):\n",
        "        assert(len(inputs) == 2)\n",
        "        z1 = MccullochPitts(pos_weight=2, neg_weight=-1, \n",
        "                            excitatory_list=[1, 0], \n",
        "                            activation_threshold=2).forward(inputs)\n",
        "        z2 = MccullochPitts(pos_weight=2, neg_weight=-1, \n",
        "                            excitatory_list=[0, 1], \n",
        "                            activation_threshold=2).forward(inputs)\n",
        "        y = MccullochPitts(pos_weight=2, neg_weight=0, \n",
        "                            excitatory_list=[1, 1], \n",
        "                            activation_threshold=2).forward([z1, z2])\n",
        "        return y"
      ],
      "metadata": {
        "id": "64HMrmjhYxSi"
      },
      "execution_count": null,
      "outputs": []
    },
    {
      "cell_type": "code",
      "source": [
        "def full_adder_1bit(A, B, Cin=0):\n",
        "    z1 = XorGate().forward([A, B])\n",
        "    S = XorGate().forward([z1, Cin])\n",
        "    z2 = AndGate().forward([z1, Cin])\n",
        "    z3 = AndGate().forward([A, B])\n",
        "    C = OrGate().forward([z2, z3])\n",
        "    return S, C\n",
        "\n",
        "def full_adder_2bit(A1, A0, B1, B0, Cin=0):\n",
        "    S0, Cmid = full_adder_1bit(A0, B0)\n",
        "    S1, C = full_adder_1bit(A1, B1, Cmid)\n",
        "    return S1, S0, C\n",
        "\n",
        "full_adder_2bit(1, 1, 1, 0)"
      ],
      "metadata": {
        "colab": {
          "base_uri": "https://localhost:8080/"
        },
        "id": "9oJ_qWEcKWKM",
        "outputId": "6ab75f15-30d2-48fa-aff7-7f1a726f6656"
      },
      "execution_count": null,
      "outputs": [
        {
          "output_type": "execute_result",
          "data": {
            "text/plain": [
              "(False, True, True)"
            ]
          },
          "metadata": {},
          "execution_count": 72
        }
      ]
    },
    {
      "cell_type": "code",
      "source": [
        "import itertools\n",
        "binaries = list(itertools.product([0, 1], repeat=4))\n",
        "print(\" A1 A0 B1 B0 ->C S1S0\")\n",
        "for b in binaries:\n",
        "    S1, S0, C = full_adder_2bit(*b)\n",
        "    print(b, \" \", C*1, S1*1, S0*1)"
      ],
      "metadata": {
        "colab": {
          "base_uri": "https://localhost:8080/"
        },
        "id": "9mlEAwxqYYRu",
        "outputId": "d83e942d-6cbe-4bbb-e711-56d93d17113d"
      },
      "execution_count": null,
      "outputs": [
        {
          "output_type": "stream",
          "name": "stdout",
          "text": [
            " A1 A0 B1 B0 ->C S1S0\n",
            "(0, 0, 0, 0)   0 0 0\n",
            "(0, 0, 0, 1)   0 0 1\n",
            "(0, 0, 1, 0)   0 1 0\n",
            "(0, 0, 1, 1)   0 1 1\n",
            "(0, 1, 0, 0)   0 0 1\n",
            "(0, 1, 0, 1)   0 1 0\n",
            "(0, 1, 1, 0)   0 1 1\n",
            "(0, 1, 1, 1)   1 0 0\n",
            "(1, 0, 0, 0)   0 1 0\n",
            "(1, 0, 0, 1)   0 1 1\n",
            "(1, 0, 1, 0)   1 0 0\n",
            "(1, 0, 1, 1)   1 0 1\n",
            "(1, 1, 0, 0)   0 1 1\n",
            "(1, 1, 0, 1)   1 0 0\n",
            "(1, 1, 1, 0)   1 0 1\n",
            "(1, 1, 1, 1)   1 1 0\n"
          ]
        }
      ]
    },
    {
      "cell_type": "code",
      "source": [
        ""
      ],
      "metadata": {
        "id": "vmZyysCteV64"
      },
      "execution_count": null,
      "outputs": []
    },
    {
      "cell_type": "markdown",
      "source": [
        "# 2 ADALINE"
      ],
      "metadata": {
        "id": "3XopA6-1tTgW"
      }
    },
    {
      "cell_type": "markdown",
      "source": [
        "## a) Data Distribution + Scatter Plot"
      ],
      "metadata": {
        "id": "zbXUzyCBeBH3"
      }
    },
    {
      "cell_type": "code",
      "source": [
        "import matplotlib.pyplot as plt\n",
        "import numpy as np\n",
        "\n",
        "\n",
        "c1_x = np.random.normal(loc=0, scale=0.3, size=100)\n",
        "c1_y = np.random.normal(loc=0, scale=0.3, size=100)\n",
        "c2_x = np.random.normal(loc=2, scale=0.3, size=100)\n",
        "c2_y = np.random.normal(loc=2, scale=0.3, size=100)\n",
        "plt.scatter(x=c1_x, y=c1_y, label=\"Class 1\")\n",
        "plt.scatter(x=c2_x, y=c2_y, label=\"Class 2\")\n",
        "plt.legend()"
      ],
      "metadata": {
        "colab": {
          "base_uri": "https://localhost:8080/",
          "height": 283
        },
        "id": "TRGY_5fJtVop",
        "outputId": "e35eeb8c-5d1c-4467-9bd4-5ce492d06a79"
      },
      "execution_count": null,
      "outputs": [
        {
          "output_type": "execute_result",
          "data": {
            "text/plain": [
              "<matplotlib.legend.Legend at 0x7fc3e649dcd0>"
            ]
          },
          "metadata": {},
          "execution_count": 1
        },
        {
          "output_type": "display_data",
          "data": {
            "image/png": "[encoded data removed]",
            "text/plain": [
              "<Figure size 432x288 with 1 Axes>"
            ]
          },
          "metadata": {
            "needs_background": "light"
          }
        }
      ]
    },
    {
      "cell_type": "markdown",
      "source": [
        "## b) Adaline Training"
      ],
      "metadata": {
        "id": "lnnhWtooeOal"
      }
    },
    {
      "cell_type": "code",
      "source": [
        "from tqdm.auto import tqdm\n",
        "\n",
        "\n",
        "class Adaline():\n",
        "    def __init__(self, in_features=2, lr=0.2, stop_tolerance=1e-10):\n",
        "        \"\"\"\n",
        "        Initialize weights. (Small random values are usually used.)\n",
        "        Set learning rate alpha (Laurene V. Fausett p82)\n",
        "        \"\"\"\n",
        "        self.weights = np.random.random(in_features)\n",
        "        self.bias = np.random.random()\n",
        "        self.lr = lr\n",
        "        self.stop_tolerance = stop_tolerance\n",
        "        self.loss_history = []\n",
        "    \n",
        "    def forward(self, xi):\n",
        "        \"\"\"Compute net input to output unit: y_in = b + E xi.wi \"\"\"\n",
        "        net = self.bias + np.dot(xi, self.weights)\n",
        "        return net\n",
        "    \n",
        "    def step(self, xi, net, target):\n",
        "        \"\"\"\n",
        "        Update bias and weights, i = 1, . . . , n:\n",
        "        b(new) = b(old) + a(t — y_in).\n",
        "        wi(new) = wi(old) + a(t — y_in)xi . (y_in=net)\n",
        "        \"\"\"\n",
        "        grad = target - net\n",
        "        self.bias += self.lr * grad\n",
        "        self.weights += self.lr * grad * xi\n",
        "        return max(abs(self.lr * grad), max(abs(self.lr * grad * xi)))\n",
        "\n",
        "    def calc_loss(self, targets, nets):\n",
        "        return np.mean(1/2 * (np.array(targets) - np.array(nets))**2)\n",
        "\n",
        "    def train(self, X, Y, max_epochs=10):\n",
        "        \"\"\"If the largest weight change that occurred in Step 2 is\n",
        "        smaller than a specified tolerance, then stop; otherwise continue.\n",
        "        \"\"\"\n",
        "        self.loss_history = []\n",
        "        max_change = 10e10\n",
        "        from sklearn.utils import shuffle\n",
        "        X, Y = shuffle(X, Y, random_state=0)\n",
        "        for epoch in tqdm(range(max_epochs)):\n",
        "            targets, nets = [], []\n",
        "            for x, y in zip(X, Y):\n",
        "                net = self.forward(x)\n",
        "                step_max_change = self.step(x, net, y)\n",
        "                max_change = min(max_change, step_max_change)\n",
        "                targets.append(y)\n",
        "                nets.append(net)\n",
        "            self.loss_history.append(self.calc_loss(targets, nets))\n",
        "            if max_change < self.stop_tolerance:\n",
        "                print(max_change, self.stop_tolerance)\n",
        "                break\n",
        "\n",
        "    def activation_function(self, g):\n",
        "        return 1 if g >= 0 else -1\n",
        "\n",
        "    def predict(self, X):\n",
        "        Y = []\n",
        "        for x in X:\n",
        "            net = self.forward(x)\n",
        "            Y.append(self.activation_function(net))\n",
        "        return np.array(Y)\n",
        "\n",
        "    def plot_loss(self):\n",
        "        plt.plot(self.loss_history, label=\"1/2 * (target - net)**2\")\n",
        "        plt.legend()\n",
        "        plt.title(\"Adaline Loss History\")\n",
        "        plt.xlabel(\"Epoch\")\n",
        "        plt.ylabel(\"Loss\")\n",
        "        plt.show()\n",
        "    \n",
        "    def plot_scatter(self, X, Y):\n",
        "        plt.scatter(\n",
        "            X[:, 0],\n",
        "            X[:, 1],\n",
        "            c=Y,\n",
        "            cmap='tab20b',\n",
        "            edgecolors=\"k\",\n",
        "            alpha=0.95,\n",
        "        )\n",
        "        h = 0.01  # step size in the mesh\n",
        "        xx, yy = np.meshgrid(np.arange(min(X[:, 0]) - 2, max(X[:, 0]), h) + 1, \n",
        "                                np.arange(min(X[:, 1]) - 1, max(X[:, 1]), h) + 1)\n",
        "        # Plot the decision boundary\n",
        "        Z = self.predict(np.c_[xx.ravel(), yy.ravel()])\n",
        "        # Put the result into a color plot\n",
        "        Z = Z.reshape(xx.shape)\n",
        "        cm = plt.cm.tab20b\n",
        "        plt.contourf(xx, yy, Z, cmap=cm, alpha=0.5)\n",
        "        plt.title(\"Adaline Decision Boundry\")\n",
        "        plt.xlabel(\"x\")\n",
        "        plt.ylabel(\"y\")\n",
        "        plt.show()"
      ],
      "metadata": {
        "id": "HimEWoe6drqw"
      },
      "execution_count": 39,
      "outputs": []
    },
    {
      "cell_type": "code",
      "source": [
        "import matplotlib.pyplot as plt\n",
        "import numpy as np\n",
        "\n",
        "def prepare_data(c1_x, c1_y, c2_x, c2_y):\n",
        "    X = np.concatenate([np.stack([c1_x, c1_y], axis=-1),\n",
        "                          np.stack([c2_x, c2_y], axis=-1)])\n",
        "    Y = np.concatenate([np.ones(c1_x.shape), np.ones(c2_x.shape)*-1])\n",
        "    return X, Y\n",
        "\n",
        "c1_x = np.random.normal(loc=0, scale=0.3, size=100)\n",
        "c1_y = np.random.normal(loc=0, scale=0.3, size=100)\n",
        "c2_x = np.random.normal(loc=2, scale=0.3, size=100)\n",
        "c2_y = np.random.normal(loc=2, scale=0.3, size=100)      \n",
        "X, Y = prepare_data(c1_x, c1_y, c2_x, c2_y)\n",
        "adaline = Adaline(in_features=2, lr=5e-4)\n",
        "adaline.train(X, Y, max_epochs=40)\n",
        "adaline.plot_loss()\n",
        "plt.show()\n",
        "adaline.plot_scatter(X, Y)"
      ],
      "metadata": {
        "id": "Qd9RDN_Fur3l",
        "colab": {
          "base_uri": "https://localhost:8080/",
          "height": 605,
          "referenced_widgets": [
            "a18672a1b5ef4779a397096556f33afe",
            "49caa7d0f27347dc8c46ea0407e28684",
            "f78f2482bf6846249b54c74ccecd2d04",
            "807e69acefa248dd95f599b919829140",
            "c9f616b886b84d10abb92f63dfe4ec38",
            "4515c8d50f1f4a73b9de148f643b710a",
            "ad0daaf3e0274c6cb042d1119de750a3",
            "92557e0d448e47fcaa35412b6fec5a1e",
            "ecc6b3b0109b440297f428ab36fbfdcf",
            "9c3ee0ef82f248ae81190e28b535444f",
            "c3c4d3d3bb00411f8aff036d6d606889"
          ]
        },
        "outputId": "a54ff2c2-709d-4523-b782-969575e73714"
      },
      "execution_count": 40,
      "outputs": [
        {
          "output_type": "display_data",
          "data": {
            "text/plain": [
              "  0%|          | 0/40 [00:00<?, ?it/s]"
            ],
            "application/vnd.jupyter.widget-view+json": {
              "version_major": 2,
              "version_minor": 0,
              "model_id": "a18672a1b5ef4779a397096556f33afe"
            }
          },
          "metadata": {}
        },
        {
          "output_type": "display_data",
          "data": {
            "text/plain": [
              "<Figure size 432x288 with 1 Axes>"
            ],
            "image/png": "[encoded data removed]"
          },
          "metadata": {
            "needs_background": "light"
          }
        },
        {
          "output_type": "display_data",
          "data": {
            "text/plain": [
              "<Figure size 432x288 with 1 Axes>"
            ],
            "image/png": "[encoded data removed]"
          },
          "metadata": {
            "needs_background": "light"
          }
        }
      ]
    },
    {
      "cell_type": "markdown",
      "source": [
        "## c) Different Data"
      ],
      "metadata": {
        "id": "J7mK0I2tg_35"
      }
    },
    {
      "cell_type": "code",
      "source": [
        "c1_x = np.random.normal(loc=2, scale=1, size=100)\n",
        "c1_y = np.random.normal(loc=1, scale=0.1, size=100)\n",
        "c2_x = np.random.normal(loc=-1, scale=0.4, size=20)\n",
        "c2_y = np.random.normal(loc=2, scale=0.4, size=20)\n",
        "X, Y = prepare_data(c1_x, c1_y, c2_x, c2_y)\n",
        "adaline = Adaline(in_features=2, lr=5e-4)\n",
        "adaline.train(X, Y, max_epochs=50)\n",
        "adaline.plot_loss()\n",
        "plt.show()\n",
        "adaline.plot_scatter(X, Y)"
      ],
      "metadata": {
        "colab": {
          "base_uri": "https://localhost:8080/",
          "height": 605,
          "referenced_widgets": [
            "7d2e65eb3b1247cebacd8013850942ab",
            "1752b7ac7ca34ceca476a56dc6f32b34",
            "06d18632c74742cb81f50b5a5c19a048",
            "14869cd5781d449782b517abb2c6a4ec",
            "13c141b471304933905eb356c889f2e5",
            "4b18d9bc2a654224ac76ff8fca6a9519",
            "11dbb356acde40a2ac3debbc615202b0",
            "b579244947a84239b68a23d2a35a4ed1",
            "151e2a6591874970b08f82c06cad7d50",
            "d85db8d1a6854e5ba2c836457723c47a",
            "65709e13ef574e6a802006421c0cb96e"
          ]
        },
        "id": "uCnWuMZjVLe5",
        "outputId": "2f940e2a-f168-4fac-b49c-45544c25bca8"
      },
      "execution_count": 41,
      "outputs": [
        {
          "output_type": "display_data",
          "data": {
            "text/plain": [
              "  0%|          | 0/50 [00:00<?, ?it/s]"
            ],
            "application/vnd.jupyter.widget-view+json": {
              "version_major": 2,
              "version_minor": 0,
              "model_id": "7d2e65eb3b1247cebacd8013850942ab"
            }
          },
          "metadata": {}
        },
        {
          "output_type": "display_data",
          "data": {
            "text/plain": [
              "<Figure size 432x288 with 1 Axes>"
            ],
            "image/png": "[encoded data removed]"
          },
          "metadata": {
            "needs_background": "light"
          }
        },
        {
          "output_type": "display_data",
          "data": {
            "text/plain": [
              "<Figure size 432x288 with 1 Axes>"
            ],
            "image/png": "[encoded data removed]"
          },
          "metadata": {
            "needs_background": "light"
          }
        }
      ]
    },
    {
      "cell_type": "markdown",
      "source": [
        "# 3 Madaline"
      ],
      "metadata": {
        "id": "QzJmGUpEneO6"
      }
    },
    {
      "cell_type": "code",
      "source": [
        "import pandas as pd\n",
        "import matplotlib.pyplot as plt\n",
        "import numpy as np\n",
        "from tqdm.auto import tqdm"
      ],
      "metadata": {
        "id": "u9YyckjxnfL8"
      },
      "execution_count": 5,
      "outputs": []
    },
    {
      "cell_type": "markdown",
      "source": [
        "## b) Load & Plot"
      ],
      "metadata": {
        "id": "OccgfgjHoSvO"
      }
    },
    {
      "cell_type": "code",
      "source": [
        "df = pd.read_csv(\"Question3.csv\", header=None)\n",
        "df[2] = df[2].replace(0, -1)\n",
        "df"
      ],
      "metadata": {
        "colab": {
          "base_uri": "https://localhost:8080/",
          "height": 424
        },
        "id": "fJcRYR4g-zn-",
        "outputId": "00c4ebbe-984c-44d6-c026-8ac116804e8e"
      },
      "execution_count": 6,
      "outputs": [
        {
          "output_type": "execute_result",
          "data": {
            "text/plain": [
              "            0         1    2\n",
              "0    0.459694 -0.470583 -1.0\n",
              "1    0.797385 -0.343030 -1.0\n",
              "2    0.235270  0.961296 -1.0\n",
              "3    0.765453 -0.177644 -1.0\n",
              "4   -0.335577 -0.313893 -1.0\n",
              "..        ...       ...  ...\n",
              "195  0.744066 -1.206548  1.0\n",
              "196 -0.457547  1.286227  1.0\n",
              "197 -1.020000 -0.783926  1.0\n",
              "198  1.363429 -0.800250  1.0\n",
              "199 -1.246702 -0.388615  1.0\n",
              "\n",
              "[200 rows x 3 columns]"
            ],
            "text/html": [
              "\n",
              "  <div id=\"df-aa268b1f-ccc8-4244-a06d-aa6ccac5311f\">\n",
              "    <div class=\"colab-df-container\">\n",
              "      <div>\n",
              "<style scoped>\n",
              "    .dataframe tbody tr th:only-of-type {\n",
              "        vertical-align: middle;\n",
              "    }\n",
              "\n",
              "    .dataframe tbody tr th {\n",
              "        vertical-align: top;\n",
              "    }\n",
              "\n",
              "    .dataframe thead th {\n",
              "        text-align: right;\n",
              "    }\n",
              "</style>\n",
              "<table border=\"1\" class=\"dataframe\">\n",
              "  <thead>\n",
              "    <tr style=\"text-align: right;\">\n",
              "      <th></th>\n",
              "      <th>0</th>\n",
              "      <th>1</th>\n",
              "      <th>2</th>\n",
              "    </tr>\n",
              "  </thead>\n",
              "  <tbody>\n",
              "    <tr>\n",
              "      <th>0</th>\n",
              "      <td>0.459694</td>\n",
              "      <td>-0.470583</td>\n",
              "      <td>-1.0</td>\n",
              "    </tr>\n",
              "    <tr>\n",
              "      <th>1</th>\n",
              "      <td>0.797385</td>\n",
              "      <td>-0.343030</td>\n",
              "      <td>-1.0</td>\n",
              "    </tr>\n",
              "    <tr>\n",
              "      <th>2</th>\n",
              "      <td>0.235270</td>\n",
              "      <td>0.961296</td>\n",
              "      <td>-1.0</td>\n",
              "    </tr>\n",
              "    <tr>\n",
              "      <th>3</th>\n",
              "      <td>0.765453</td>\n",
              "      <td>-0.177644</td>\n",
              "      <td>-1.0</td>\n",
              "    </tr>\n",
              "    <tr>\n",
              "      <th>4</th>\n",
              "      <td>-0.335577</td>\n",
              "      <td>-0.313893</td>\n",
              "      <td>-1.0</td>\n",
              "    </tr>\n",
              "    <tr>\n",
              "      <th>...</th>\n",
              "      <td>...</td>\n",
              "      <td>...</td>\n",
              "      <td>...</td>\n",
              "    </tr>\n",
              "    <tr>\n",
              "      <th>195</th>\n",
              "      <td>0.744066</td>\n",
              "      <td>-1.206548</td>\n",
              "      <td>1.0</td>\n",
              "    </tr>\n",
              "    <tr>\n",
              "      <th>196</th>\n",
              "      <td>-0.457547</td>\n",
              "      <td>1.286227</td>\n",
              "      <td>1.0</td>\n",
              "    </tr>\n",
              "    <tr>\n",
              "      <th>197</th>\n",
              "      <td>-1.020000</td>\n",
              "      <td>-0.783926</td>\n",
              "      <td>1.0</td>\n",
              "    </tr>\n",
              "    <tr>\n",
              "      <th>198</th>\n",
              "      <td>1.363429</td>\n",
              "      <td>-0.800250</td>\n",
              "      <td>1.0</td>\n",
              "    </tr>\n",
              "    <tr>\n",
              "      <th>199</th>\n",
              "      <td>-1.246702</td>\n",
              "      <td>-0.388615</td>\n",
              "      <td>1.0</td>\n",
              "    </tr>\n",
              "  </tbody>\n",
              "</table>\n",
              "<p>200 rows × 3 columns</p>\n",
              "</div>\n",
              "      <button class=\"colab-df-convert\" onclick=\"convertToInteractive('df-aa268b1f-ccc8-4244-a06d-aa6ccac5311f')\"\n",
              "              title=\"Convert this dataframe to an interactive table.\"\n",
              "              style=\"display:none;\">\n",
              "        \n",
              "  <svg xmlns=\"http://www.w3.org/2000/svg\" height=\"24px\"viewBox=\"0 0 24 24\"\n",
              "       width=\"24px\">\n",
              "    <path d=\"M0 0h24v24H0V0z\" fill=\"none\"/>\n",
              "    <path d=\"M18.56 5.44l.94 2.06.94-2.06 2.06-.94-2.06-.94-.94-2.06-.94 2.06-2.06.94zm-11 1L8.5 8.5l.94-2.06 2.06-.94-2.06-.94L8.5 2.5l-.94 2.06-2.06.94zm10 10l.94 2.06.94-2.06 2.06-.94-2.06-.94-.94-2.06-.94 2.06-2.06.94z\"/><path d=\"M17.41 7.96l-1.37-1.37c-.4-.4-.92-.59-1.43-.59-.52 0-1.04.2-1.43.59L10.3 9.45l-7.72 7.72c-.78.78-.78 2.05 0 2.83L4 21.41c.39.39.9.59 1.41.59.51 0 1.02-.2 1.41-.59l7.78-7.78 2.81-2.81c.8-.78.8-2.07 0-2.86zM5.41 20L4 18.59l7.72-7.72 1.47 1.35L5.41 20z\"/>\n",
              "  </svg>\n",
              "      </button>\n",
              "      \n",
              "  <style>\n",
              "    .colab-df-container {\n",
              "      display:flex;\n",
              "      flex-wrap:wrap;\n",
              "      gap: 12px;\n",
              "    }\n",
              "\n",
              "    .colab-df-convert {\n",
              "      background-color: #E8F0FE;\n",
              "      border: none;\n",
              "      border-radius: 50%;\n",
              "      cursor: pointer;\n",
              "      display: none;\n",
              "      fill: #1967D2;\n",
              "      height: 32px;\n",
              "      padding: 0 0 0 0;\n",
              "      width: 32px;\n",
              "    }\n",
              "\n",
              "    .colab-df-convert:hover {\n",
              "      background-color: #E2EBFA;\n",
              "      box-shadow: 0px 1px 2px rgba(60, 64, 67, 0.3), 0px 1px 3px 1px rgba(60, 64, 67, 0.15);\n",
              "      fill: #174EA6;\n",
              "    }\n",
              "\n",
              "    [theme=dark] .colab-df-convert {\n",
              "      background-color: #3B4455;\n",
              "      fill: #D2E3FC;\n",
              "    }\n",
              "\n",
              "    [theme=dark] .colab-df-convert:hover {\n",
              "      background-color: #434B5C;\n",
              "      box-shadow: 0px 1px 3px 1px rgba(0, 0, 0, 0.15);\n",
              "      filter: drop-shadow(0px 1px 2px rgba(0, 0, 0, 0.3));\n",
              "      fill: #FFFFFF;\n",
              "    }\n",
              "  </style>\n",
              "\n",
              "      <script>\n",
              "        const buttonEl =\n",
              "          document.querySelector('#df-aa268b1f-ccc8-4244-a06d-aa6ccac5311f button.colab-df-convert');\n",
              "        buttonEl.style.display =\n",
              "          google.colab.kernel.accessAllowed ? 'block' : 'none';\n",
              "\n",
              "        async function convertToInteractive(key) {\n",
              "          const element = document.querySelector('#df-aa268b1f-ccc8-4244-a06d-aa6ccac5311f');\n",
              "          const dataTable =\n",
              "            await google.colab.kernel.invokeFunction('convertToInteractive',\n",
              "                                                     [key], {});\n",
              "          if (!dataTable) return;\n",
              "\n",
              "          const docLinkHtml = 'Like what you see? Visit the ' +\n",
              "            '<a target=\"_blank\" href=https://colab.research.google.com/notebooks/data_table.ipynb>data table notebook</a>'\n",
              "            + ' to learn more about interactive tables.';\n",
              "          element.innerHTML = '';\n",
              "          dataTable['output_type'] = 'display_data';\n",
              "          await google.colab.output.renderOutput(dataTable, element);\n",
              "          const docLink = document.createElement('div');\n",
              "          docLink.innerHTML = docLinkHtml;\n",
              "          element.appendChild(docLink);\n",
              "        }\n",
              "      </script>\n",
              "    </div>\n",
              "  </div>\n",
              "  "
            ]
          },
          "metadata": {},
          "execution_count": 6
        }
      ]
    },
    {
      "cell_type": "code",
      "source": [
        "with plt.style.context(\"ggplot\"):\n",
        "    plt.scatter(x=df.loc[df[2] == -1][0], \n",
        "                y=df.loc[df[2] == -1][1], label=\"Class -1\")\n",
        "    plt.scatter(x=df.loc[df[2] == 1][0], \n",
        "                y=df.loc[df[2] == 1][1], label=\"Class 1\")\n",
        "    plt.xlabel(\"x1\")\n",
        "    plt.ylabel(\"x2\")\n",
        "    plt.legend()"
      ],
      "metadata": {
        "colab": {
          "base_uri": "https://localhost:8080/",
          "height": 282
        },
        "id": "ICILNA7sjO5r",
        "outputId": "bb443b4d-bf3c-47c4-9c09-011021d2fa80"
      },
      "execution_count": 7,
      "outputs": [
        {
          "output_type": "display_data",
          "data": {
            "text/plain": [
              "<Figure size 432x288 with 1 Axes>"
            ],
            "image/png": "[encoded data removed]"
          },
          "metadata": {}
        }
      ]
    },
    {
      "cell_type": "markdown",
      "source": [
        "## c) Train Madaline"
      ],
      "metadata": {
        "id": "WvNGn6JzoXhr"
      }
    },
    {
      "cell_type": "code",
      "source": [
        "class Madaline:\n",
        "    def __init__(self, in_features=2, hidden_units=3, lr=0.2, stop_tolerance=1e-10):\n",
        "        \"\"\"\n",
        "        Initialize weights:\n",
        "        Weights v i and v2 and the bias b3 are set as described;\n",
        "        small random values are usually used for ADALINE weights.\n",
        "        \"\"\"\n",
        "        self.weights = np.random.random([in_features, hidden_units])\n",
        "        self.output_weights = np.array([1/hidden_units] * hidden_units)\n",
        "        self.bias = np.random.random(hidden_units)\n",
        "        self.output_bias = (hidden_units - 1)/hidden_units\n",
        "        self.lr = lr\n",
        "        self.stop_tolerance = stop_tolerance\n",
        "        self.loss_history = []\n",
        "\n",
        "        self.hidden_units = hidden_units\n",
        "        self.in_features = in_features\n",
        "    \n",
        "    def activation_function(self, g):\n",
        "        return ((g >= 0) - 0.5) * 2  # [0,1] -> [-1, 1]\n",
        "\n",
        "    def forward(self, x):\n",
        "        \"\"\"Compute net input to each hidden ADALINE unit\n",
        "        Determine output of each hidden ADALINE unit\n",
        "        Determine output of net\n",
        "        \"\"\"\n",
        "        x = x.reshape(1, len(x))  # (1, i)\n",
        "        z_in = self.bias + x @ self.weights  # (1, i)@(i, h)->(1, h)\n",
        "        z = self.activation_function(z_in)\n",
        "        y_in = self.output_bias + z @ self.output_weights # (1, h)@(h, 1)->(1)\n",
        "        y = self.activation_function(y_in)[0]\n",
        "        # print(\"x\", x)\n",
        "        # print(\"b\", self.bias)\n",
        "        # print(\"w\", self.weights)\n",
        "        # print(\"@\", (x @ self.weights).shape)\n",
        "        \n",
        "        return y, z_in, y_in\n",
        "\n",
        "    def predict(self, X):\n",
        "        Y = []\n",
        "        for x in X:\n",
        "            y, z_in, y_in = self.forward(x)\n",
        "            Y.append(y)\n",
        "        return np.array(Y)\n",
        "\n",
        "    def eval(self, X, Y):\n",
        "        preds = []\n",
        "        for x, t in zip(X, Y):\n",
        "            y, z_in, y_in = self.forward(x)\n",
        "            preds.append(y)\n",
        "        from sklearn.metrics import classification_report\n",
        "        print(classification_report(Y, preds))\n",
        "\n",
        "    def step(self, y, z_in, t, x):\n",
        "        z_in = z_in[0]  # flatten\n",
        "        if t != y:  # If t = y, no weight updates are performed\n",
        "            # print(z_in, t, y)\n",
        "            if t == 1:  # If t = 1, then update weights on Zj, the unit whose net input is closest to 0\n",
        "                close_zero_idx = np.argmin(abs(z_in))\n",
        "                self.weights[:, close_zero_idx] += self.lr * (1 - z_in[close_zero_idx]) * x\n",
        "                self.bias[close_zero_idx] += self.lr * (1 - z_in[close_zero_idx])\n",
        "            elif t == -1:  # If t = —1, then update weights on all units Zk that have positive net input\n",
        "                for h in range(self.hidden_units):\n",
        "                    if z_in[h] > 0:\n",
        "                        self.weights[:, h] += self.lr * (-1 - z_in[h]) * x\n",
        "                        self.bias[h] += self.lr * (-1 - z_in[h])\n",
        "            return True\n",
        "        return False\n",
        "\n",
        "    def train(self, X, Y, max_epochs=40):\n",
        "        \"\"\"If the largest weight change that occurred in Step 2 is\n",
        "        smaller than a specified tolerance, then stop; otherwise continue.\n",
        "        \"\"\"\n",
        "        self.loss_history = []\n",
        "        from sklearn.utils import shuffle\n",
        "        X, Y = shuffle(X, Y, random_state=42)\n",
        "        for epoch in tqdm(range(max_epochs)):\n",
        "            # self.plot_scatter(X, Y)\n",
        "            targets, nets, changes = [], [], []\n",
        "            for x, t in zip(X, Y):\n",
        "                y, z_in, y_in = self.forward(x)\n",
        "                changes.append(self.step(y, z_in, t, x))\n",
        "                targets.append(t)\n",
        "                nets.append(y_in)\n",
        "            self.loss_history.append(self.calc_loss(targets, nets))\n",
        "            if not any(changes):\n",
        "                print(\"Early Stopping\")\n",
        "                break\n",
        "            \n",
        "    def calc_loss(self, targets, nets):\n",
        "        return np.mean(1/2 * (np.array(targets) - np.array(nets))**2)\n",
        "\n",
        "    def plot_loss(self):\n",
        "        plt.plot(self.loss_history, label=\"1/2 * (target - net)**2\")\n",
        "        plt.legend()\n",
        "        plt.title(\"Adaline Loss History\")\n",
        "        plt.xlabel(\"Epoch\")\n",
        "        plt.ylabel(\"Loss\")\n",
        "        plt.show()\n",
        "\n",
        "    def plot_scatter(self, X, Y):\n",
        "        plt.scatter(\n",
        "            X[:, 0],\n",
        "            X[:, 1],\n",
        "            c=Y,\n",
        "            cmap='tab20b',\n",
        "            edgecolors=\"k\",\n",
        "            alpha=0.95,\n",
        "        )\n",
        "        h = 0.01  # step size in the mesh\n",
        "        xx, yy = np.meshgrid(np.arange(min(X[:, 0]) - 2, max(X[:, 0]), h) + 1, \n",
        "                                np.arange(min(X[:, 1]) - 1, max(X[:, 1]), h) + 1)\n",
        "        # Plot the decision boundary\n",
        "        Z = self.predict(np.c_[xx.ravel(), yy.ravel()])\n",
        "        # Put the result into a color plot\n",
        "        Z = Z.reshape(xx.shape)\n",
        "        cm = plt.cm.tab20b\n",
        "        plt.contourf(xx, yy, Z, cmap=cm, alpha=0.5)\n",
        "        plt.title(\"Adaline Decision Boundary\")\n",
        "        plt.xlabel(\"x\")\n",
        "        plt.ylabel(\"y\")\n",
        "        plt.show()\n",
        "\n",
        "for n in [3, 4, 8]:\n",
        "    print(f\"### Hidden Units: {n} ###\")\n",
        "    madaline = Madaline(in_features=2, hidden_units=n, lr=0.2)\n",
        "    madaline.train(X=np.array(df[[0, 1]]), Y=np.array(df[2]), max_epochs=100)\n",
        "    # madaline.plot_loss()\n",
        "    madaline.eval(X=np.array(df[[0, 1]]), Y=np.array(df[2]))\n",
        "    madaline.plot_scatter(X=np.array(df[[0, 1]]), Y=np.array(df[2]))"
      ],
      "metadata": {
        "colab": {
          "base_uri": "https://localhost:8080/",
          "height": 1000,
          "referenced_widgets": [
            "50fc9766129c4ccebb48eb5fa112890e",
            "ca003bcc54db4fd0a34ead71a8749b16",
            "a6f98c5ce15f41b3bcc96a31750fdbe1",
            "3305f14a6fb2491a9473bbd80615f40d",
            "d43301ba79a94b6f9ab9c7068479f7f1",
            "089ad86d3379411c93f3636b5b1e5f76",
            "b78a096b81164f208b7434e91eb09b98",
            "6c1fbb238a0a4803a8b8d7c1b4294ed0",
            "1bfc289c389a4ae794c8feaae4a954d3",
            "ca1c82f5a2864a5a96d037411832c3a5",
            "0b24d1f8b9224fd48ae1ee15a51142db",
            "4acae053b1c141fc80303c8a8701f36a",
            "4740149de7474d07ab0d6048d4833082",
            "7ad8c51881a8477cb1d7dbad69bd4f5c",
            "c0770429096e4eb7a8a48cfafee6de91",
            "ce730d740b104a80a4ad8882afa48c26",
            "637475dd53b34b748fa72125e4791cfd",
            "e9b5c443fefd4cb2b8549db922b07434",
            "19f5db7cce9d4218a5fc492771d5c89e",
            "68278133320b473980c51308db45c8b5",
            "6fc095146f2f4110a0376a5eca1ce1fc",
            "b81ac57b78064d83822bf4bd321cdee7",
            "b226c934555a4ca99933a521914d9b74",
            "576fc5435b4a402eb1d1775e5c88711d",
            "970d829c344f49c09cfd67e1532c6e14",
            "27faf970a7a24322b54f064b3aa71377",
            "752818f794a3425ba4f9a171a6d28ba1",
            "def0ece87a0e4873838adeadc87bccdf",
            "3028a824f0bf448fba335cff99d082a3",
            "8a5db1800099417c8f18cf231d5218cb",
            "95ecf4dfa6654eb19d231a23f900a33e",
            "072bcd7c5c2a4df2b3e265e660a89999",
            "694f2850eb054f668c156dd7c55b9941"
          ]
        },
        "id": "hu_UkbdoklXN",
        "outputId": "446b8155-51bd-46e4-d94b-d8e4000fbac0"
      },
      "execution_count": 97,
      "outputs": [
        {
          "output_type": "stream",
          "name": "stdout",
          "text": [
            "### Hidden Units: 3 ###\n"
          ]
        },
        {
          "output_type": "display_data",
          "data": {
            "text/plain": [
              "  0%|          | 0/100 [00:00<?, ?it/s]"
            ],
            "application/vnd.jupyter.widget-view+json": {
              "version_major": 2,
              "version_minor": 0,
              "model_id": "50fc9766129c4ccebb48eb5fa112890e"
            }
          },
          "metadata": {}
        },
        {
          "output_type": "stream",
          "name": "stdout",
          "text": [
            "              precision    recall  f1-score   support\n",
            "\n",
            "        -1.0       0.90      0.90      0.90       100\n",
            "         1.0       0.90      0.90      0.90       100\n",
            "\n",
            "    accuracy                           0.90       200\n",
            "   macro avg       0.90      0.90      0.90       200\n",
            "weighted avg       0.90      0.90      0.90       200\n",
            "\n"
          ]
        },
        {
          "output_type": "display_data",
          "data": {
            "text/plain": [
              "<Figure size 432x288 with 1 Axes>"
            ],
            "image/png": "[encoded data removed]"
          },
          "metadata": {
            "needs_background": "light"
          }
        },
        {
          "output_type": "stream",
          "name": "stdout",
          "text": [
            "### Hidden Units: 4 ###\n"
          ]
        },
        {
          "output_type": "display_data",
          "data": {
            "text/plain": [
              "  0%|          | 0/100 [00:00<?, ?it/s]"
            ],
            "application/vnd.jupyter.widget-view+json": {
              "version_major": 2,
              "version_minor": 0,
              "model_id": "4acae053b1c141fc80303c8a8701f36a"
            }
          },
          "metadata": {}
        },
        {
          "output_type": "stream",
          "name": "stdout",
          "text": [
            "Early Stopping\n",
            "              precision    recall  f1-score   support\n",
            "\n",
            "        -1.0       1.00      1.00      1.00       100\n",
            "         1.0       1.00      1.00      1.00       100\n",
            "\n",
            "    accuracy                           1.00       200\n",
            "   macro avg       1.00      1.00      1.00       200\n",
            "weighted avg       1.00      1.00      1.00       200\n",
            "\n"
          ]
        },
        {
          "output_type": "display_data",
          "data": {
            "text/plain": [
              "<Figure size 432x288 with 1 Axes>"
            ],
            "image/png": "[encoded data removed]"
          },
          "metadata": {
            "needs_background": "light"
          }
        },
        {
          "output_type": "stream",
          "name": "stdout",
          "text": [
            "### Hidden Units: 8 ###\n"
          ]
        },
        {
          "output_type": "display_data",
          "data": {
            "text/plain": [
              "  0%|          | 0/100 [00:00<?, ?it/s]"
            ],
            "application/vnd.jupyter.widget-view+json": {
              "version_major": 2,
              "version_minor": 0,
              "model_id": "b226c934555a4ca99933a521914d9b74"
            }
          },
          "metadata": {}
        },
        {
          "output_type": "stream",
          "name": "stdout",
          "text": [
            "Early Stopping\n",
            "              precision    recall  f1-score   support\n",
            "\n",
            "        -1.0       1.00      1.00      1.00       100\n",
            "         1.0       1.00      1.00      1.00       100\n",
            "\n",
            "    accuracy                           1.00       200\n",
            "   macro avg       1.00      1.00      1.00       200\n",
            "weighted avg       1.00      1.00      1.00       200\n",
            "\n"
          ]
        },
        {
          "output_type": "display_data",
          "data": {
            "text/plain": [
              "<Figure size 432x288 with 1 Axes>"
            ],
            "image/png": "[encoded data removed]"
          },
          "metadata": {
            "needs_background": "light"
          }
        }
      ]
    },
    {
      "cell_type": "code",
      "source": [
        "madaline.predict(np.array([[0, 0]]))"
      ],
      "metadata": {
        "colab": {
          "base_uri": "https://localhost:8080/"
        },
        "id": "9D2itMehmqht",
        "outputId": "c88ef6a4-d196-4713-b0d9-dcc41d77a363"
      },
      "execution_count": 100,
      "outputs": [
        {
          "output_type": "execute_result",
          "data": {
            "text/plain": [
              "array([-1.])"
            ]
          },
          "metadata": {},
          "execution_count": 100
        }
      ]
    },
    {
      "cell_type": "code",
      "source": [
        ""
      ],
      "metadata": {
        "id": "C8C93AsedAwG"
      },
      "execution_count": null,
      "outputs": []
    }
  ]
}