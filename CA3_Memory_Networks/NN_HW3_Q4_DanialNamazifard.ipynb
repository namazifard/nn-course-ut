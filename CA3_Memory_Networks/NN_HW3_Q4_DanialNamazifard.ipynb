{
 "cells": [
  {
   "cell_type": "code",
   "execution_count": 115,
   "metadata": {
    "pycharm": {
     "is_executing": false
    }
   },
   "outputs": [],
   "source": [
    "import matplotlib.pyplot as plt\n",
    "import numpy as np\n",
    "import logging\n",
    "from sklearn.metrics import classification_report, confusion_matrix, accuracy_score\n",
    "from time import time\n",
    "import seaborn as sns\n",
    "import pandas as pd\n",
    "from sklearn.model_selection import train_test_split\n",
    "from PIL import Image\n",
    "import random\n",
    "from tqdm.auto import tqdm"
   ]
  },
  {
   "cell_type": "code",
   "execution_count": 120,
   "metadata": {},
   "outputs": [
    {
     "name": "stdout",
     "output_type": "stream",
     "text": [
      "[1 0 0 0 0 1 1 0 1 1 0 1 1 0 0 0 1 1 0 1 0 0 1 0 1 1 0 1 1 1 0 0 1 1 1 0 1\n",
      " 0 0 0 1 1 0 1 1 1 1 0 1 1 0 1 1 1 0]\n",
      "Clinton\n"
     ]
    }
   ],
   "source": [
    "def to_binary(s: str):\n",
    "    b = bin(int.from_bytes(s.encode(), 'big'))\n",
    "    b_list = [int(bi) for bi in b[2:]]\n",
    "    return np.array(b_list)\n",
    "\n",
    "def to_str(b_array):\n",
    "    b_array = np.copy(b_array)\n",
    "    b_array[b_array == -1] = 0\n",
    "    b = \"\".join([str(int(n)) for n in b_array])\n",
    "    b = \"0b\" + b\n",
    "    n = int(b, 2)\n",
    "    return n.to_bytes((n.bit_length() + 7) // 8, 'big').decode()\n",
    "\n",
    "b = to_binary(\"Clinton\")\n",
    "s = to_str(b)\n",
    "print(b)\n",
    "print(s)"
   ]
  },
  {
   "cell_type": "code",
   "execution_count": 121,
   "metadata": {},
   "outputs": [
    {
     "data": {
      "text/plain": [
       "array([[ 1, -1, -1, -1, -1,  1,  1, -1,  1,  1, -1,  1,  1, -1, -1, -1,\n",
       "         1,  1, -1,  1, -1, -1,  1, -1,  1,  1, -1,  1,  1,  1, -1, -1,\n",
       "         1,  1,  1, -1,  1, -1, -1, -1,  1,  1, -1,  1,  1,  1,  1, -1,\n",
       "         1,  1, -1,  1,  1,  1, -1],\n",
       "       [ 1, -1, -1,  1, -1, -1, -1, -1,  1,  1, -1,  1, -1, -1,  1, -1,\n",
       "         1,  1, -1,  1,  1, -1, -1, -1,  1,  1, -1,  1,  1, -1, -1, -1,\n",
       "         1,  1, -1, -1, -1, -1,  1, -1,  1,  1,  1, -1, -1,  1, -1, -1,\n",
       "         1,  1,  1,  1, -1, -1,  1],\n",
       "       [ 1, -1, -1,  1, -1,  1,  1, -1,  1,  1, -1, -1,  1, -1,  1, -1,\n",
       "         1,  1, -1,  1,  1,  1, -1, -1,  1,  1,  1, -1, -1,  1,  1, -1,\n",
       "         1,  1,  1, -1,  1, -1, -1, -1,  1,  1, -1, -1, -1, -1,  1, -1,\n",
       "         1,  1,  1, -1, -1,  1, -1]])"
      ]
     },
     "execution_count": 121,
     "metadata": {},
     "output_type": "execute_result"
    }
   ],
   "source": [
    "X = [\"Clinton\", \"Hillary\", \"Kenstar\"]\n",
    "Y = [\"President\", \"FirstLady\", \"Gentleman\"]\n",
    "X_b = np.array([to_binary(s) for s in X]) * 2 - 1\n",
    "Y_b = np.array([to_binary(s) for s in Y]) * 2 - 1\n",
    "X_b"
   ]
  },
  {
   "cell_type": "markdown",
   "metadata": {},
   "source": [
    "# 1)"
   ]
  },
  {
   "cell_type": "code",
   "execution_count": 165,
   "metadata": {},
   "outputs": [],
   "source": [
    "class BamTrainer:\n",
    "    def __init__(self, input_size: int, output_size: int, modified=False, threshold=0):\n",
    "        self.weights = np.zeros((input_size, output_size))\n",
    "        self.modified = modified\n",
    "        self.threshold = threshold\n",
    "        self.input_size = input_size\n",
    "        self.output_size = output_size\n",
    "\n",
    "    def train(self, inputs, outputs):\n",
    "        for i, o in zip(inputs, outputs):\n",
    "            i = i.reshape(1, -1)\n",
    "            o = o.reshape(1, -1)\n",
    "            self.weights += i.T @ o\n",
    "        # Modification\n",
    "        if self.modified:\n",
    "            np.fill_diagonal(self.weights, 0)\n",
    "    \n",
    "    def predict(self, i, pred_y=True, max_iter=20, log_steps=1000, save_images=True, verbose=False):\n",
    "        def update_x(x, y):\n",
    "            for y_idx in np.arange(y.shape[-1]):\n",
    "                y_in = np.dot(x[0], self.weights[:, y_idx])\n",
    "                if y_in > self.threshold:\n",
    "                    y[0][y_idx] = 1\n",
    "                elif y_in < self.threshold:\n",
    "                    y[0][y_idx] = -1\n",
    "                    \n",
    "        def update_y(x, y):\n",
    "            for x_idx in np.arange(x.shape[-1]):\n",
    "                x_in = np.dot(y[0], self.weights[x_idx, :])\n",
    "                if x_in > self.threshold:\n",
    "                    x[0][x_idx] = 1\n",
    "                elif x_in < self.threshold:\n",
    "                    x[0][x_idx] = -1\n",
    "                    \n",
    "        visited_patterns = []\n",
    "        i = i.reshape(1, -1)\n",
    "        if pred_y:\n",
    "            x = np.copy(i)  # Present input pattern x to the X-layer\n",
    "            y = np.zeros((1, self.output_size))\n",
    "        else:\n",
    "            y = np.copy(i)  # Present input pattern x to the X-layer\n",
    "            x = np.zeros((1, self.input_size))\n",
    "        tqdm_v = tqdm if verbose else lambda x: x\n",
    "        for iteration in tqdm_v(range(max_iter)):\n",
    "#             print(f\"### Iteration {iteration} ###\")\n",
    "            if pred_y:\n",
    "                # Update activations of units in Y-layer\n",
    "                update_y(x, y)\n",
    "                # Update activations of units in X-layer\n",
    "                update_x(x, y)\n",
    "                output = y\n",
    "            else:\n",
    "                update_x(x, y)\n",
    "                update_y(x, y)\n",
    "                output = x\n",
    "            # Test for convergence:\n",
    "            if str(output.flatten()) in visited_patterns:\n",
    "                break\n",
    "            else:\n",
    "                visited_patterns.append(str(output.flatten()))\n",
    "        return output.flatten()\n",
    "    \n",
    "    def draw_weights(self):\n",
    "        mat = self.weights\n",
    "        plt.figure(figsize=(14, 8))\n",
    "        plt.matshow(mat, cmap=plt.cm.hot, fignum=False)\n",
    "        for (x, y), value in np.ndenumerate(mat.T):\n",
    "            plt.text(x, y, f\"{value:.0f}\", va=\"center\", ha=\"center\", color=\"gray\")"
   ]
  },
  {
   "cell_type": "code",
   "execution_count": 139,
   "metadata": {},
   "outputs": [
    {
     "data": {
      "image/png": "[encoded data removed]",
      "text/plain": [
       "<Figure size 1008x576 with 1 Axes>"
      ]
     },
     "metadata": {
      "needs_background": "light"
     },
     "output_type": "display_data"
    }
   ],
   "source": [
    "bam = BamTrainer(X_b.shape[1], Y_b.shape[1], modified=False)\n",
    "bam.train(X_b, Y_b)\n",
    "bam.draw_weights()"
   ]
  },
  {
   "cell_type": "markdown",
   "metadata": {},
   "source": [
    "# 2)"
   ]
  },
  {
   "cell_type": "code",
   "execution_count": 140,
   "metadata": {},
   "outputs": [
    {
     "name": "stdout",
     "output_type": "stream",
     "text": [
      "Input: Clinton | Pred: President | Accuracy: 100.0\n",
      "Input: Hillary | Pred: FirstLady | Accuracy: 100.0\n",
      "Input: Kenstar | Pred: Gentleman | Accuracy: 100.0\n",
      "Input: President | Pred: Clinton | Accuracy: 100.0\n",
      "Input: FirstLady | Pred: Hillary | Accuracy: 100.0\n",
      "Input: Gentleman | Pred: Kenstar | Accuracy: 100.0\n"
     ]
    }
   ],
   "source": [
    "def accuracy(a1, a2):\n",
    "    return np.sum(a1 == a2) / len(a1) * 100\n",
    "\n",
    "preds = np.array([bam.predict(x, pred_y=True) for x in X_b])\n",
    "for i in range(3):\n",
    "    print(\"Input:\", to_str(X_b[i]), \"| Pred:\", to_str(preds[i]), \"| Accuracy:\", accuracy(Y_b[i], preds[i]))\n",
    "    \n",
    "preds = np.array([bam.predict(y, pred_y=False) for y in Y_b])\n",
    "for i in range(3):\n",
    "    print(\"Input:\", to_str(Y_b[i]), \"| Pred:\", to_str(preds[i]), \"| Accuracy:\", accuracy(X_b[i], preds[i]))"
   ]
  },
  {
   "cell_type": "markdown",
   "metadata": {},
   "source": [
    "# 3)"
   ]
  },
  {
   "cell_type": "code",
   "execution_count": 145,
   "metadata": {},
   "outputs": [
    {
     "name": "stdout",
     "output_type": "stream",
     "text": [
      "Noise 10.0% - Average Accuracy (over 100 runs): [98.90140845 99.85915493 99.15492958]% -> 99.31%\n",
      "Noise 20.0% - Average Accuracy (over 100 runs): [96.33802817 99.15492958 96.78873239]% -> 97.43%\n",
      "Noise 10.0% - Average Accuracy (over 100 runs): [ 99.70909091 100.          99.70909091]% -> 99.81%\n",
      "Noise 20.0% - Average Accuracy (over 100 runs): [98.83636364 97.8        97.81818182]% -> 98.15%\n"
     ]
    }
   ],
   "source": [
    "def add_noise(array, noise_ratio=0.2):\n",
    "    array = np.copy(array)\n",
    "    for i in range(len(array)):\n",
    "        for j in range(len(array[i])):\n",
    "            if random.random() < noise_ratio:\n",
    "                array[i][j] *= -1\n",
    "    return array\n",
    "\n",
    "def is_equal(true, preds):\n",
    "    eq = []\n",
    "    for i in range(len(preds)):\n",
    "        eq.append(np.array_equal(preds[i], true[i]))\n",
    "    return eq\n",
    "\n",
    "def evaluate_noise_x_to_y(noise_ratio, bam):\n",
    "    class_acc = [[], [], []]\n",
    "    for i in range(100):\n",
    "        noisy_inputs = add_noise(X_b, noise_ratio=noise_ratio)\n",
    "        preds = [bam.predict(x, pred_y=True) for x in noisy_inputs]\n",
    "        for i in range(len(preds)):\n",
    "            class_acc[i].append(accuracy(Y_b[i], preds[i]))\n",
    "    print(f\"Noise {noise_ratio * 100}% - Average Accuracy (over 100 runs): {np.array(class_acc).mean(axis=-1)}% -> {np.mean(class_acc):.2f}%\")\n",
    "\n",
    "def evaluate_noise_y_to_x(noise_ratio, bam):\n",
    "    class_acc = [[], [], []]\n",
    "    for i in range(100):\n",
    "        noisy_inputs = add_noise(Y_b, noise_ratio=noise_ratio)\n",
    "        preds = [bam.predict(y, pred_y=False) for y in noisy_inputs]\n",
    "        for i in range(len(preds)):\n",
    "            class_acc[i].append(accuracy(X_b[i], preds[i]))\n",
    "    print(f\"Noise {noise_ratio * 100}% - Average Accuracy (over 100 runs): {np.array(class_acc).mean(axis=-1)}% -> {np.mean(class_acc):.2f}%\")\n",
    "\n",
    "    \n",
    "evaluate_noise_x_to_y(0.1, bam)\n",
    "evaluate_noise_x_to_y(0.2, bam)\n",
    "evaluate_noise_y_to_x(0.1, bam)\n",
    "evaluate_noise_y_to_x(0.2, bam)"
   ]
  },
  {
   "cell_type": "code",
   "execution_count": 148,
   "metadata": {},
   "outputs": [
    {
     "data": {
      "text/html": [
       "<div>\n",
       "<style scoped>\n",
       "    .dataframe tbody tr th:only-of-type {\n",
       "        vertical-align: middle;\n",
       "    }\n",
       "\n",
       "    .dataframe tbody tr th {\n",
       "        vertical-align: top;\n",
       "    }\n",
       "\n",
       "    .dataframe thead th {\n",
       "        text-align: right;\n",
       "    }\n",
       "</style>\n",
       "<table border=\"1\" class=\"dataframe\">\n",
       "  <thead>\n",
       "    <tr style=\"text-align: right;\">\n",
       "      <th></th>\n",
       "      <th>Clinton/President</th>\n",
       "      <th>Hillary/FirstLady</th>\n",
       "      <th>Kenstar/Gentleman</th>\n",
       "    </tr>\n",
       "  </thead>\n",
       "  <tbody>\n",
       "    <tr>\n",
       "      <th>x_to_y 10% Noise</th>\n",
       "      <td>98.901408</td>\n",
       "      <td>99.859155</td>\n",
       "      <td>99.154930</td>\n",
       "    </tr>\n",
       "    <tr>\n",
       "      <th>x_to_y 20% Noise</th>\n",
       "      <td>96.338028</td>\n",
       "      <td>99.154930</td>\n",
       "      <td>96.788732</td>\n",
       "    </tr>\n",
       "    <tr>\n",
       "      <th>y_to_x 10% Noise</th>\n",
       "      <td>99.709091</td>\n",
       "      <td>100.000000</td>\n",
       "      <td>99.709091</td>\n",
       "    </tr>\n",
       "    <tr>\n",
       "      <th>y_to_x 20% Noise</th>\n",
       "      <td>98.836364</td>\n",
       "      <td>97.800000</td>\n",
       "      <td>97.818182</td>\n",
       "    </tr>\n",
       "  </tbody>\n",
       "</table>\n",
       "</div>"
      ],
      "text/plain": [
       "                  Clinton/President  Hillary/FirstLady  Kenstar/Gentleman\n",
       "x_to_y 10% Noise          98.901408          99.859155          99.154930\n",
       "x_to_y 20% Noise          96.338028          99.154930          96.788732\n",
       "y_to_x 10% Noise          99.709091         100.000000          99.709091\n",
       "y_to_x 20% Noise          98.836364          97.800000          97.818182"
      ]
     },
     "execution_count": 148,
     "metadata": {},
     "output_type": "execute_result"
    }
   ],
   "source": [
    "import pandas as pd\n",
    "pd.DataFrame([[98.90140845, 99.85915493, 99.15492958], \n",
    "              [96.33802817, 99.15492958, 96.78873239], \n",
    "              [ 99.70909091, 100., 99.70909091],\n",
    "              [98.83636364, 97.8, 97.81818182]\n",
    "             ],\n",
    "             columns=[\"Clinton/President\", \"Hillary/FirstLady\", \"Kenstar/Gentleman\"],\n",
    "             index=[\"x_to_y 10% Noise\", \"x_to_y 20% Noise\", \"y_to_x 10% Noise\", \"y_to_x 20% Noise\"]\n",
    "            )"
   ]
  },
  {
   "cell_type": "markdown",
   "metadata": {},
   "source": [
    "# 4)"
   ]
  },
  {
   "cell_type": "code",
   "execution_count": 155,
   "metadata": {},
   "outputs": [],
   "source": [
    "X = [\"Clinton\", \"Hillary\", \"Kenstar\", \"Lewisky\"]\n",
    "Y = [\"President\", \"FirstLady\", \"Gentleman\", \"SweetGirl\"]\n",
    "X_b = np.array([to_binary(s) for s in X]) * 2 - 1\n",
    "Y_b = np.array([to_binary(s) for s in Y]) * 2 - 1\n",
    "# X_b"
   ]
  },
  {
   "cell_type": "code",
   "execution_count": 166,
   "metadata": {},
   "outputs": [
    {
     "name": "stdout",
     "output_type": "stream",
     "text": [
      "Input: Clinton | Pred: Rsesldef| | Accuracy: 91.55\n",
      "Input: Hillary | Pred: FafstDad| | Accuracy: 91.55\n",
      "Input: Kenstar | Pred: Gefulem`l | Accuracy: 94.37\n",
      "Input: Lewisky | Pred: SweutEibl | Accuracy: 95.77\n",
      "Input: President | Pred: Kmmntkz | Accuracy: 89.09\n",
      "Input: FirstLady | Pred: Hmllqcy | Accuracy: 92.73\n",
      "Input: Gentleman | Pred: Kenktcz | Accuracy: 92.73\n",
      "Input: SweetGirl | Pred: Heoiqky | Accuracy: 92.73\n"
     ]
    }
   ],
   "source": [
    "def accuracy(a1, a2):\n",
    "    return np.round(np.sum(a1 == a2) / len(a1) * 100, 2)\n",
    "\n",
    "bam = BamTrainer(X_b.shape[1], Y_b.shape[1], modified=False)\n",
    "bam.train(X_b, Y_b)\n",
    "\n",
    "preds = np.array([bam.predict(x, pred_y=True) for x in X_b])\n",
    "for i in range(4):\n",
    "    print(\"Input:\", to_str(X_b[i]), \"| Pred:\", to_str(preds[i]), \"| Accuracy:\", accuracy(Y_b[i], preds[i]))\n",
    "    \n",
    "preds = np.array([bam.predict(y, pred_y=False) for y in Y_b])\n",
    "for i in range(4):\n",
    "    print(\"Input:\", to_str(Y_b[i]), \"| Pred:\", to_str(preds[i]), \"| Accuracy:\", accuracy(X_b[i], preds[i]))"
   ]
  },
  {
   "cell_type": "code",
   "execution_count": null,
   "metadata": {},
   "outputs": [],
   "source": []
  }
 ],
 "metadata": {
  "kernelspec": {
   "display_name": "Python 3",
   "language": "python",
   "name": "python3"
  },
  "language_info": {
   "codemirror_mode": {
    "name": "ipython",
    "version": 3
   },
   "file_extension": ".py",
   "mimetype": "text/x-python",
   "name": "python",
   "nbconvert_exporter": "python",
   "pygments_lexer": "ipython3",
   "version": "3.7.3"
  }
 },
 "nbformat": 4,
 "nbformat_minor": 2
}
