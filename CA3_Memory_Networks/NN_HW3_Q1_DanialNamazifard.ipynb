{
 "cells": [
  {
   "cell_type": "code",
   "execution_count": 87,
   "metadata": {
    "id": "hbTFekX_9GCV",
    "pycharm": {
     "is_executing": true
    }
   },
   "outputs": [],
   "source": [
    "# ! nvidia-smi\n",
    "from keras.datasets import cifar10\n",
    "import tensorflow as tf\n",
    "import matplotlib.pyplot as plt\n",
    "import numpy as np\n",
    "import logging\n",
    "from sklearn.metrics import classification_report, confusion_matrix\n",
    "from time import time\n",
    "import seaborn as sns\n",
    "import pandas as pd\n",
    "from sklearn.model_selection import train_test_split\n",
    "from PIL import Image\n",
    "import random\n",
    "\n",
    "\n",
    "tf.autograph.set_verbosity(0, False)\n",
    "logging.getLogger(\"tensorflow\").setLevel(logging.ERROR)"
   ]
  },
  {
   "cell_type": "markdown",
   "metadata": {
    "id": "XBNR5WpbcAVo"
   },
   "source": [
    "# Q1 - Pattern Association using Hebbian Learning Rule"
   ]
  },
  {
   "cell_type": "code",
   "execution_count": 124,
   "metadata": {
    "id": "DgdOWm9fgP_b"
   },
   "outputs": [
    {
     "data": {
      "image/png": "[encoded data removed]",
      "text/plain": [
       "<Figure size 432x288 with 3 Axes>"
      ]
     },
     "metadata": {
      "needs_background": "light"
     },
     "output_type": "display_data"
    },
    {
     "data": {
      "image/png": "[encoded data removed]",
      "text/plain": [
       "<Figure size 432x288 with 3 Axes>"
      ]
     },
     "metadata": {
      "needs_background": "light"
     },
     "output_type": "display_data"
    },
    {
     "data": {
      "image/png": "[encoded data removed]",
      "text/plain": [
       "<Figure size 432x288 with 3 Axes>"
      ]
     },
     "metadata": {
      "needs_background": "light"
     },
     "output_type": "display_data"
    },
    {
     "data": {
      "text/plain": [
       "((3, 63), (3, 15))"
      ]
     },
     "execution_count": 124,
     "metadata": {},
     "output_type": "execute_result"
    }
   ],
   "source": [
    "input_1 = np.array([\n",
    "    -1,-1,-1,-1,-1,-1,1,\n",
    "    -1,-1,-1,-1,-1,-1,1,\n",
    "    1,1,1,1,1,1,1,\n",
    "    1,-1,-1,1,-1,-1,-1,\n",
    "    1,-1,-1,1,-1,-1,-1,\n",
    "    -1,-1,-1,1,-1,-1,-1,\n",
    "    -1,-1,-1,1,-1,-1,-1,\n",
    "    -1,-1,-1,1,-1,-1,-1,\n",
    "    -1,-1,-1,1,-1,-1,-1,\n",
    "])\n",
    "input_2 = np.array([\n",
    "    1,-1,-1,-1,-1,-1,1,\n",
    "    1,-1,-1,-1,-1,-1,1,\n",
    "    1,-1,-1,-1,-1,-1,1,\n",
    "    1,-1,-1,-1,-1,-1,1,\n",
    "    1,-1,-1,-1,-1,-1,1,\n",
    "    1,-1,-1,-1,-1,-1,1,\n",
    "    1,1,1,1,1,1,1,\n",
    "    -1,-1,-1,-1,-1,-1,-1,\n",
    "    -1,-1,-1,1,-1,-1,-1,\n",
    "])\n",
    "input_3 = np.array([\n",
    "    1,-1,-1,-1,-1,-1,1,\n",
    "    1,-1,-1,-1,-1,-1,1,\n",
    "    1,-1,-1,-1,-1,-1,1,\n",
    "    1,-1,-1,-1,-1,-1,1,\n",
    "    1,-1,-1,1,-1,-1,1,\n",
    "    1,-1,-1,-1,-1,-1,1,\n",
    "    1,-1,-1,-1,-1,-1,1,\n",
    "    1,-1,-1,-1,-1,-1,1,\n",
    "    1,1,1,1,1,1,1,\n",
    "])\n",
    "output_1 = np.array([\n",
    "    -1,-1,1,\n",
    "    1,1,1,\n",
    "    1,1,-1,\n",
    "    -1,1,-1,\n",
    "    -1,1,-1,\n",
    "])\n",
    "output_2 = np.array([\n",
    "    1,-1,1,\n",
    "    1,-1,1,\n",
    "    1,1,1,\n",
    "    -1,-1,-1,\n",
    "    -1,1,-1\n",
    "])\n",
    "output_3 = np.array([\n",
    "    1,-1,1,\n",
    "    1,-1,1,\n",
    "    1,1,1,\n",
    "    1,-1,1,\n",
    "    1,1,1\n",
    "])\n",
    "\n",
    "output_small_1 = np.array([\n",
    "    -1,-1\n",
    "])\n",
    "output_small_2 = np.array([\n",
    "    1,-1\n",
    "])\n",
    "output_small_3 = np.array([\n",
    "    1,1\n",
    "])\n",
    "\n",
    "def draw(image):\n",
    "    if len(image) == 63:\n",
    "        image = (image.reshape(9, 7) + 1) * 127\n",
    "    elif len(image) == 15:\n",
    "        image = (image.reshape(5, 3) + 1) * 127\n",
    "    elif len(image) == 2:\n",
    "        image = (image.reshape(1, 2) + 1) * 127\n",
    "    img = Image.fromarray(image)\n",
    "    plt.imshow(img)\n",
    "    \n",
    "def draw_images(arrays):\n",
    "    for i in range(len(arrays)):\n",
    "        plt.subplot(1, 3, i + 1)\n",
    "        draw(arrays[i])\n",
    "    plt.show()\n",
    "\n",
    "inputs = np.array([input_1, input_2, input_3])\n",
    "outputs = np.array([output_1, output_2, output_3])\n",
    "outputs_small = np.array([output_small_1, output_small_2, output_small_3])\n",
    "\n",
    "draw_images(inputs)\n",
    "draw_images(outputs)\n",
    "draw_images(outputs_small)\n",
    "inputs.shape, outputs.shape"
   ]
  },
  {
   "cell_type": "markdown",
   "metadata": {},
   "source": [
    "## 2)"
   ]
  },
  {
   "cell_type": "code",
   "execution_count": 125,
   "metadata": {
    "id": "HZzCknZbgZVr"
   },
   "outputs": [],
   "source": [
    "class HebbTrainer:\n",
    "    def __init__(self, input_size: int, output_size: int):\n",
    "        self.weights = np.zeros((input_size, output_size))\n",
    "\n",
    "    def train(self, inputs, outputs):\n",
    "        for i, o in zip(inputs, outputs):\n",
    "            i = i.reshape(1, -1)\n",
    "            o = o.reshape(1, -1)\n",
    "            self.weights += i.T @ o\n",
    "    \n",
    "    def predict(self, i):\n",
    "        i = i.reshape(1, -1)\n",
    "        pred = (i @ self.weights).reshape(-1)\n",
    "        pred[pred > 0] = 1\n",
    "        pred[pred < 0] = -1\n",
    "        return pred"
   ]
  },
  {
   "cell_type": "code",
   "execution_count": 126,
   "metadata": {
    "scrolled": true
   },
   "outputs": [
    {
     "data": {
      "image/png": "[encoded data removed]",
      "text/plain": [
       "<Figure size 288x1152 with 1 Axes>"
      ]
     },
     "metadata": {
      "needs_background": "light"
     },
     "output_type": "display_data"
    }
   ],
   "source": [
    "hebb = HebbTrainer(inputs.shape[1], outputs.shape[1])\n",
    "hebb.train(inputs, outputs)\n",
    "\n",
    "def draw_matrix(mat):\n",
    "    plt.matshow(mat, cmap=plt.cm.hot)\n",
    "    for (x, y), value in np.ndenumerate(mat.T):\n",
    "        plt.text(x, y, f\"{value:.0f}\", va=\"center\", ha=\"center\", color=\"green\")\n",
    "    plt.show()\n",
    "    \n",
    "draw_matrix(hebb.weights)"
   ]
  },
  {
   "cell_type": "markdown",
   "metadata": {},
   "source": [
    "## 3)"
   ]
  },
  {
   "cell_type": "code",
   "execution_count": 144,
   "metadata": {},
   "outputs": [
    {
     "data": {
      "image/png": "[encoded data removed]",
      "text/plain": [
       "<Figure size 432x288 with 3 Axes>"
      ]
     },
     "metadata": {
      "needs_background": "light"
     },
     "output_type": "display_data"
    },
    {
     "name": "stdout",
     "output_type": "stream",
     "text": [
      "Accuracy: 1.0\n"
     ]
    }
   ],
   "source": [
    "def compute_accuracy(true, preds):\n",
    "    tp, all = 0, 0\n",
    "    total_tp = 0\n",
    "    for i in range(len(preds)):\n",
    "        eq = True\n",
    "        for j in range(len(preds[i])):\n",
    "            if preds[i][j] == true[i][j]:\n",
    "                tp += 1\n",
    "            else:\n",
    "                eq = False\n",
    "            all += 1\n",
    "        if eq:\n",
    "            total_tp += 1\n",
    "    return total_tp / len(true)\n",
    "\n",
    "preds = [hebb.predict(i) for i in inputs]\n",
    "draw_images(preds)\n",
    "print(\"Accuracy:\", compute_accuracy(outputs, preds))"
   ]
  },
  {
   "cell_type": "markdown",
   "metadata": {},
   "source": [
    "## 4)"
   ]
  },
  {
   "cell_type": "code",
   "execution_count": 145,
   "metadata": {},
   "outputs": [
    {
     "data": {
      "image/png": "[encoded data removed]",
      "text/plain": [
       "<Figure size 432x288 with 3 Axes>"
      ]
     },
     "metadata": {
      "needs_background": "light"
     },
     "output_type": "display_data"
    },
    {
     "name": "stdout",
     "output_type": "stream",
     "text": [
      "Accuracy: 1.0\n"
     ]
    }
   ],
   "source": [
    "small_hebb = HebbTrainer(inputs.shape[1], outputs_small.shape[1])\n",
    "small_hebb.train(inputs, outputs_small)\n",
    "\n",
    "preds = [small_hebb.predict(i) for i in inputs]\n",
    "draw_images(preds)\n",
    "print(\"Accuracy:\", compute_accuracy(outputs_small, preds))"
   ]
  },
  {
   "cell_type": "markdown",
   "metadata": {},
   "source": [
    "## 5) Noise"
   ]
  },
  {
   "cell_type": "code",
   "execution_count": 167,
   "metadata": {},
   "outputs": [
    {
     "data": {
      "image/png": "[encoded data removed]",
      "text/plain": [
       "<Figure size 432x288 with 3 Axes>"
      ]
     },
     "metadata": {
      "needs_background": "light"
     },
     "output_type": "display_data"
    },
    {
     "name": "stdout",
     "output_type": "stream",
     "text": [
      "Noise 20.0% - Average Accuracy (over 1000 runs): 0.922\n"
     ]
    },
    {
     "data": {
      "image/png": "[encoded data removed]",
      "text/plain": [
       "<Figure size 432x288 with 3 Axes>"
      ]
     },
     "metadata": {
      "needs_background": "light"
     },
     "output_type": "display_data"
    },
    {
     "name": "stdout",
     "output_type": "stream",
     "text": [
      "Noise 60.0% - Average Accuracy (over 1000 runs): 0.008\n"
     ]
    },
    {
     "data": {
      "image/png": "[encoded data removed]",
      "text/plain": [
       "<Figure size 432x288 with 3 Axes>"
      ]
     },
     "metadata": {
      "needs_background": "light"
     },
     "output_type": "display_data"
    },
    {
     "name": "stdout",
     "output_type": "stream",
     "text": [
      "Noise 20.0% - Average Accuracy (over 1000 runs): 0.924\n"
     ]
    },
    {
     "data": {
      "image/png": "[encoded data removed]",
      "text/plain": [
       "<Figure size 432x288 with 3 Axes>"
      ]
     },
     "metadata": {
      "needs_background": "light"
     },
     "output_type": "display_data"
    },
    {
     "name": "stdout",
     "output_type": "stream",
     "text": [
      "Noise 60.0% - Average Accuracy (over 1000 runs): 0.044\n"
     ]
    }
   ],
   "source": [
    "def add_noise(array, noise_ratio=0.2):\n",
    "    array = np.copy(array)\n",
    "    for i in range(len(array)):\n",
    "        for j in range(len(array[i])):\n",
    "            if random.random() < noise_ratio:\n",
    "                array[i][j] *= -1\n",
    "    return array\n",
    "\n",
    "def evaluate_noise(noise_ratio, hebb_model, true_outputs):\n",
    "    accs = []\n",
    "    for i in range(10000):\n",
    "        noisy_inputs = add_noise(inputs, noise_ratio=noise_ratio)\n",
    "        preds = [hebb_model.predict(i) for i in noisy_inputs]\n",
    "        accs.append(compute_accuracy(true_outputs, preds))\n",
    "    draw_images(preds)\n",
    "    print(f\"Noise {noise_ratio * 100}% - Average Accuracy (over 1000 runs): {np.mean(accs):.3f}\")\n",
    "\n",
    "evaluate_noise(noise_ratio=0.2, hebb_model=hebb, true_outputs=outputs)\n",
    "evaluate_noise(noise_ratio=0.6, hebb_model=hebb, true_outputs=outputs)\n",
    "evaluate_noise(noise_ratio=0.2, hebb_model=small_hebb, true_outputs=outputs_small)\n",
    "evaluate_noise(noise_ratio=0.6, hebb_model=small_hebb, true_outputs=outputs_small)"
   ]
  },
  {
   "cell_type": "markdown",
   "metadata": {},
   "source": [
    "## 6) Loss"
   ]
  },
  {
   "cell_type": "code",
   "execution_count": 165,
   "metadata": {},
   "outputs": [
    {
     "data": {
      "image/png": "[encoded data removed]",
      "text/plain": [
       "<Figure size 432x288 with 3 Axes>"
      ]
     },
     "metadata": {
      "needs_background": "light"
     },
     "output_type": "display_data"
    },
    {
     "name": "stdout",
     "output_type": "stream",
     "text": [
      "Loss 20.0% - Average Accuracy (over 100000 runs): 99.81%\n"
     ]
    },
    {
     "data": {
      "image/png": "[encoded data removed]",
      "text/plain": [
       "<Figure size 432x288 with 3 Axes>"
      ]
     },
     "metadata": {
      "needs_background": "light"
     },
     "output_type": "display_data"
    },
    {
     "name": "stdout",
     "output_type": "stream",
     "text": [
      "Loss 60.0% - Average Accuracy (over 100000 runs): 94.12%\n"
     ]
    },
    {
     "data": {
      "image/png": "[encoded data removed]",
      "text/plain": [
       "<Figure size 432x288 with 3 Axes>"
      ]
     },
     "metadata": {
      "needs_background": "light"
     },
     "output_type": "display_data"
    },
    {
     "name": "stdout",
     "output_type": "stream",
     "text": [
      "Loss 20.0% - Average Accuracy (over 100000 runs): 99.80%\n"
     ]
    },
    {
     "data": {
      "image/png": "[encoded data removed]",
      "text/plain": [
       "<Figure size 432x288 with 3 Axes>"
      ]
     },
     "metadata": {
      "needs_background": "light"
     },
     "output_type": "display_data"
    },
    {
     "name": "stdout",
     "output_type": "stream",
     "text": [
      "Loss 60.0% - Average Accuracy (over 100000 runs): 94.16%\n"
     ]
    }
   ],
   "source": [
    "def add_loss(array, loss_ratio=0.2):\n",
    "    array = np.copy(array)\n",
    "    for i in range(len(array)):\n",
    "        for j in range(len(array[i])):\n",
    "            if random.random() < loss_ratio:\n",
    "                array[i][j] = 0\n",
    "    return array\n",
    "\n",
    "def evaluate_loss(loss_ratio, hebb_model, true_outputs):\n",
    "    accs = []\n",
    "    for i in range(100000):\n",
    "        lossy_inputs = add_loss(inputs, loss_ratio=loss_ratio)\n",
    "        preds = [hebb_model.predict(i) for i in lossy_inputs]\n",
    "        accs.append(compute_accuracy(true_outputs, preds))\n",
    "    draw_images(preds)\n",
    "    print(f\"Loss {loss_ratio * 100}% - Average Accuracy (over 100000 runs): {np.mean(accs)*100:.2f}%\")\n",
    "\n",
    "evaluate_loss(loss_ratio=0.2, hebb_model=hebb, true_outputs=outputs)\n",
    "evaluate_loss(loss_ratio=0.6, hebb_model=hebb, true_outputs=outputs)\n",
    "evaluate_loss(loss_ratio=0.2, hebb_model=small_hebb, true_outputs=outputs_small)\n",
    "evaluate_loss(loss_ratio=0.6, hebb_model=small_hebb, true_outputs=outputs_small)"
   ]
  },
  {
   "cell_type": "code",
   "execution_count": null,
   "metadata": {},
   "outputs": [],
   "source": []
  }
 ],
 "metadata": {
  "accelerator": "GPU",
  "colab": {
   "collapsed_sections": [],
   "name": "NN_HW2_MohsenFayyaz.ipynb",
   "provenance": []
  },
  "kernelspec": {
   "display_name": "Python 3",
   "language": "python",
   "name": "python3"
  },
  "language_info": {
   "codemirror_mode": {
    "name": "ipython",
    "version": 3
   },
   "file_extension": ".py",
   "mimetype": "text/x-python",
   "name": "python",
   "nbconvert_exporter": "python",
   "pygments_lexer": "ipython3",
   "version": "3.7.3"
  }
 },
 "nbformat": 4,
 "nbformat_minor": 1
}
